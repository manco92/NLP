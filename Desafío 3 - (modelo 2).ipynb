{
  "cells": [
    {
      "cell_type": "markdown",
      "metadata": {
        "id": "sZd5yLnnHOK0"
      },
      "source": [
        "<img src=\"https://github.com/hernancontigiani/ceia_memorias_especializacion/raw/master/Figures/logoFIUBA.jpg\" width=\"500\" align=\"center\">\n",
        "\n",
        "\n",
        "# Procesamiento de lenguaje natural\n",
        "## Custom embedddings con Gensim\n",
        "\n"
      ]
    },
    {
      "cell_type": "markdown",
      "metadata": {
        "id": "vA7nqkumo9z9"
      },
      "source": [
        "### Objetivo\n",
        "El objetivo es utilizar documentos / corpus para crear embeddings de palabras basado en ese contexto. Se utilizará canciones de bandas para generar los embeddings, es decir, que los vectores tendrán la forma en función de como esa banda haya utilizado las palabras en sus canciones."
      ]
    },
    {
      "cell_type": "code",
      "execution_count": 2,
      "metadata": {
        "id": "lFToQs5FK5uZ"
      },
      "outputs": [],
      "source": [
        "import pandas as pd\n",
        "import matplotlib.pyplot as plt\n",
        "import seaborn as sns\n",
        "\n",
        "import multiprocessing\n",
        "from gensim.models import Word2Vec"
      ]
    },
    {
      "cell_type": "markdown",
      "metadata": {
        "id": "g07zJxG7H9vG"
      },
      "source": [
        "### Datos\n",
        "Utilizaremos como dataset la biblia."
      ]
    },
    {
      "cell_type": "code",
      "execution_count": 7,
      "metadata": {
        "id": "ticoqYD1Z3I7",
        "colab": {
          "base_uri": "https://localhost:8080/",
          "height": 261
        },
        "outputId": "7321ca00-4251-4c39-c32a-d017fb4f380e"
      },
      "outputs": [
        {
          "output_type": "stream",
          "name": "stderr",
          "text": [
            "/usr/local/lib/python3.7/dist-packages/pandas/util/_decorators.py:311: ParserWarning: Falling back to the 'python' engine because the 'c' engine does not support regex separators (separators > 1 char and different from '\\s+' are interpreted as regex); you can avoid this warning by specifying engine='python'.\n",
            "  return func(*args, **kwargs)\n"
          ]
        },
        {
          "output_type": "execute_result",
          "data": {
            "text/plain": [
              "                                                   0\n",
              "0  In the beginning God created the heaven and th...\n",
              "1  And the earth was without form, and void; and ...\n",
              "2  And God said, Let there be light: and there wa...\n",
              "3  And God saw the light, that it was good: and G...\n",
              "4  And God called the light Day, and the darkness..."
            ],
            "text/html": [
              "\n",
              "  <div id=\"df-7c658a33-3b64-4030-a459-8e111b384682\">\n",
              "    <div class=\"colab-df-container\">\n",
              "      <div>\n",
              "<style scoped>\n",
              "    .dataframe tbody tr th:only-of-type {\n",
              "        vertical-align: middle;\n",
              "    }\n",
              "\n",
              "    .dataframe tbody tr th {\n",
              "        vertical-align: top;\n",
              "    }\n",
              "\n",
              "    .dataframe thead th {\n",
              "        text-align: right;\n",
              "    }\n",
              "</style>\n",
              "<table border=\"1\" class=\"dataframe\">\n",
              "  <thead>\n",
              "    <tr style=\"text-align: right;\">\n",
              "      <th></th>\n",
              "      <th>0</th>\n",
              "    </tr>\n",
              "  </thead>\n",
              "  <tbody>\n",
              "    <tr>\n",
              "      <th>0</th>\n",
              "      <td>In the beginning God created the heaven and th...</td>\n",
              "    </tr>\n",
              "    <tr>\n",
              "      <th>1</th>\n",
              "      <td>And the earth was without form, and void; and ...</td>\n",
              "    </tr>\n",
              "    <tr>\n",
              "      <th>2</th>\n",
              "      <td>And God said, Let there be light: and there wa...</td>\n",
              "    </tr>\n",
              "    <tr>\n",
              "      <th>3</th>\n",
              "      <td>And God saw the light, that it was good: and G...</td>\n",
              "    </tr>\n",
              "    <tr>\n",
              "      <th>4</th>\n",
              "      <td>And God called the light Day, and the darkness...</td>\n",
              "    </tr>\n",
              "  </tbody>\n",
              "</table>\n",
              "</div>\n",
              "      <button class=\"colab-df-convert\" onclick=\"convertToInteractive('df-7c658a33-3b64-4030-a459-8e111b384682')\"\n",
              "              title=\"Convert this dataframe to an interactive table.\"\n",
              "              style=\"display:none;\">\n",
              "        \n",
              "  <svg xmlns=\"http://www.w3.org/2000/svg\" height=\"24px\"viewBox=\"0 0 24 24\"\n",
              "       width=\"24px\">\n",
              "    <path d=\"M0 0h24v24H0V0z\" fill=\"none\"/>\n",
              "    <path d=\"M18.56 5.44l.94 2.06.94-2.06 2.06-.94-2.06-.94-.94-2.06-.94 2.06-2.06.94zm-11 1L8.5 8.5l.94-2.06 2.06-.94-2.06-.94L8.5 2.5l-.94 2.06-2.06.94zm10 10l.94 2.06.94-2.06 2.06-.94-2.06-.94-.94-2.06-.94 2.06-2.06.94z\"/><path d=\"M17.41 7.96l-1.37-1.37c-.4-.4-.92-.59-1.43-.59-.52 0-1.04.2-1.43.59L10.3 9.45l-7.72 7.72c-.78.78-.78 2.05 0 2.83L4 21.41c.39.39.9.59 1.41.59.51 0 1.02-.2 1.41-.59l7.78-7.78 2.81-2.81c.8-.78.8-2.07 0-2.86zM5.41 20L4 18.59l7.72-7.72 1.47 1.35L5.41 20z\"/>\n",
              "  </svg>\n",
              "      </button>\n",
              "      \n",
              "  <style>\n",
              "    .colab-df-container {\n",
              "      display:flex;\n",
              "      flex-wrap:wrap;\n",
              "      gap: 12px;\n",
              "    }\n",
              "\n",
              "    .colab-df-convert {\n",
              "      background-color: #E8F0FE;\n",
              "      border: none;\n",
              "      border-radius: 50%;\n",
              "      cursor: pointer;\n",
              "      display: none;\n",
              "      fill: #1967D2;\n",
              "      height: 32px;\n",
              "      padding: 0 0 0 0;\n",
              "      width: 32px;\n",
              "    }\n",
              "\n",
              "    .colab-df-convert:hover {\n",
              "      background-color: #E2EBFA;\n",
              "      box-shadow: 0px 1px 2px rgba(60, 64, 67, 0.3), 0px 1px 3px 1px rgba(60, 64, 67, 0.15);\n",
              "      fill: #174EA6;\n",
              "    }\n",
              "\n",
              "    [theme=dark] .colab-df-convert {\n",
              "      background-color: #3B4455;\n",
              "      fill: #D2E3FC;\n",
              "    }\n",
              "\n",
              "    [theme=dark] .colab-df-convert:hover {\n",
              "      background-color: #434B5C;\n",
              "      box-shadow: 0px 1px 3px 1px rgba(0, 0, 0, 0.15);\n",
              "      filter: drop-shadow(0px 1px 2px rgba(0, 0, 0, 0.3));\n",
              "      fill: #FFFFFF;\n",
              "    }\n",
              "  </style>\n",
              "\n",
              "      <script>\n",
              "        const buttonEl =\n",
              "          document.querySelector('#df-7c658a33-3b64-4030-a459-8e111b384682 button.colab-df-convert');\n",
              "        buttonEl.style.display =\n",
              "          google.colab.kernel.accessAllowed ? 'block' : 'none';\n",
              "\n",
              "        async function convertToInteractive(key) {\n",
              "          const element = document.querySelector('#df-7c658a33-3b64-4030-a459-8e111b384682');\n",
              "          const dataTable =\n",
              "            await google.colab.kernel.invokeFunction('convertToInteractive',\n",
              "                                                     [key], {});\n",
              "          if (!dataTable) return;\n",
              "\n",
              "          const docLinkHtml = 'Like what you see? Visit the ' +\n",
              "            '<a target=\"_blank\" href=https://colab.research.google.com/notebooks/data_table.ipynb>data table notebook</a>'\n",
              "            + ' to learn more about interactive tables.';\n",
              "          element.innerHTML = '';\n",
              "          dataTable['output_type'] = 'display_data';\n",
              "          await google.colab.output.renderOutput(dataTable, element);\n",
              "          const docLink = document.createElement('div');\n",
              "          docLink.innerHTML = docLinkHtml;\n",
              "          element.appendChild(docLink);\n",
              "        }\n",
              "      </script>\n",
              "    </div>\n",
              "  </div>\n",
              "  "
            ]
          },
          "metadata": {},
          "execution_count": 7
        }
      ],
      "source": [
        "# Armar el dataset utilizando salto de línea para separar las oraciones/docs\n",
        "df = pd.read_csv(\"/biblia.txt\", sep = '/n', header = None)\n",
        "df.head()"
      ]
    },
    {
      "cell_type": "code",
      "execution_count": 8,
      "metadata": {
        "id": "LEpKubK9XzXN",
        "colab": {
          "base_uri": "https://localhost:8080/"
        },
        "outputId": "2ba9dc55-36cf-4509-c719-221a8259348f"
      },
      "outputs": [
        {
          "output_type": "stream",
          "name": "stdout",
          "text": [
            "Cantidad de documentos: 31102\n"
          ]
        }
      ],
      "source": [
        "print(\"Cantidad de documentos:\", df.shape[0])"
      ]
    },
    {
      "cell_type": "markdown",
      "metadata": {
        "id": "ab94qaFlrA1G"
      },
      "source": [
        "### 1 - Preprocesamiento"
      ]
    },
    {
      "cell_type": "code",
      "execution_count": 9,
      "metadata": {
        "id": "rIsmMWmjrDHd"
      },
      "outputs": [],
      "source": [
        "from keras.preprocessing.text import text_to_word_sequence\n",
        "\n",
        "sentence_tokens = []\n",
        "# Recorrer todas las filas y transformar las oraciones\n",
        "# en una secuencia de palabras (esto podría realizarse con NLTK o spaCy también)\n",
        "for _, row in df[:None].iterrows():\n",
        "    sentence_tokens.append(text_to_word_sequence(row[0]))"
      ]
    },
    {
      "cell_type": "code",
      "execution_count": 55,
      "metadata": {
        "id": "CHepi_DGrbhq",
        "colab": {
          "base_uri": "https://localhost:8080/"
        },
        "outputId": "38aceb81-afbe-4668-c598-c76e3e725b20"
      },
      "outputs": [
        {
          "output_type": "execute_result",
          "data": {
            "text/plain": [
              "31102"
            ]
          },
          "metadata": {},
          "execution_count": 55
        }
      ],
      "source": [
        "# Demos un vistazo\n",
        "len(sentence_tokens)"
      ]
    },
    {
      "cell_type": "code",
      "source": [
        "import nltk\n",
        "nltk.download(\"popular\")"
      ],
      "metadata": {
        "colab": {
          "base_uri": "https://localhost:8080/"
        },
        "id": "TNWjVFwXevss",
        "outputId": "6044a18f-2781-4b2f-9807-1e039ffa343e"
      },
      "execution_count": 67,
      "outputs": [
        {
          "output_type": "stream",
          "name": "stderr",
          "text": [
            "[nltk_data] Downloading collection 'popular'\n",
            "[nltk_data]    | \n",
            "[nltk_data]    | Downloading package cmudict to /root/nltk_data...\n",
            "[nltk_data]    |   Unzipping corpora/cmudict.zip.\n",
            "[nltk_data]    | Downloading package gazetteers to /root/nltk_data...\n",
            "[nltk_data]    |   Unzipping corpora/gazetteers.zip.\n",
            "[nltk_data]    | Downloading package genesis to /root/nltk_data...\n",
            "[nltk_data]    |   Unzipping corpora/genesis.zip.\n",
            "[nltk_data]    | Downloading package gutenberg to /root/nltk_data...\n",
            "[nltk_data]    |   Unzipping corpora/gutenberg.zip.\n",
            "[nltk_data]    | Downloading package inaugural to /root/nltk_data...\n",
            "[nltk_data]    |   Unzipping corpora/inaugural.zip.\n",
            "[nltk_data]    | Downloading package movie_reviews to\n",
            "[nltk_data]    |     /root/nltk_data...\n",
            "[nltk_data]    |   Unzipping corpora/movie_reviews.zip.\n",
            "[nltk_data]    | Downloading package names to /root/nltk_data...\n",
            "[nltk_data]    |   Unzipping corpora/names.zip.\n",
            "[nltk_data]    | Downloading package shakespeare to /root/nltk_data...\n",
            "[nltk_data]    |   Unzipping corpora/shakespeare.zip.\n",
            "[nltk_data]    | Downloading package stopwords to /root/nltk_data...\n",
            "[nltk_data]    |   Unzipping corpora/stopwords.zip.\n",
            "[nltk_data]    | Downloading package treebank to /root/nltk_data...\n",
            "[nltk_data]    |   Unzipping corpora/treebank.zip.\n",
            "[nltk_data]    | Downloading package twitter_samples to\n",
            "[nltk_data]    |     /root/nltk_data...\n",
            "[nltk_data]    |   Unzipping corpora/twitter_samples.zip.\n",
            "[nltk_data]    | Downloading package omw to /root/nltk_data...\n",
            "[nltk_data]    | Downloading package omw-1.4 to /root/nltk_data...\n",
            "[nltk_data]    | Downloading package wordnet to /root/nltk_data...\n",
            "[nltk_data]    | Downloading package wordnet2021 to /root/nltk_data...\n",
            "[nltk_data]    | Downloading package wordnet31 to /root/nltk_data...\n",
            "[nltk_data]    | Downloading package wordnet_ic to /root/nltk_data...\n",
            "[nltk_data]    |   Unzipping corpora/wordnet_ic.zip.\n",
            "[nltk_data]    | Downloading package words to /root/nltk_data...\n",
            "[nltk_data]    |   Unzipping corpora/words.zip.\n",
            "[nltk_data]    | Downloading package maxent_ne_chunker to\n",
            "[nltk_data]    |     /root/nltk_data...\n",
            "[nltk_data]    |   Unzipping chunkers/maxent_ne_chunker.zip.\n",
            "[nltk_data]    | Downloading package punkt to /root/nltk_data...\n",
            "[nltk_data]    |   Unzipping tokenizers/punkt.zip.\n",
            "[nltk_data]    | Downloading package snowball_data to\n",
            "[nltk_data]    |     /root/nltk_data...\n",
            "[nltk_data]    | Downloading package averaged_perceptron_tagger to\n",
            "[nltk_data]    |     /root/nltk_data...\n",
            "[nltk_data]    |   Unzipping taggers/averaged_perceptron_tagger.zip.\n",
            "[nltk_data]    | \n",
            "[nltk_data]  Done downloading collection popular\n"
          ]
        },
        {
          "output_type": "execute_result",
          "data": {
            "text/plain": [
              "True"
            ]
          },
          "metadata": {},
          "execution_count": 67
        }
      ]
    },
    {
      "cell_type": "code",
      "source": [
        "from nltk.stem import WordNetLemmatizer\n",
        "from nltk.corpus import stopwords\n",
        "from nltk.tokenize import word_tokenize"
      ],
      "metadata": {
        "id": "ZIAxdbBdb87I"
      },
      "execution_count": 74,
      "outputs": []
    },
    {
      "cell_type": "code",
      "source": [
        "lemmatizer = WordNetLemmatizer()\n",
        "lem_sentence_tokens = []\n",
        "for i in range(len(sentence_tokens)):\n",
        "  sentence = []\n",
        "  for word in sentence_tokens[i]:    \n",
        "    sentence.append(lemmatizer.lemmatize(word))\n",
        "  lem_sentence_tokens.append(sentence)"
      ],
      "metadata": {
        "id": "X4abKLXzb6gH"
      },
      "execution_count": 70,
      "outputs": []
    },
    {
      "cell_type": "code",
      "source": [
        "stop_words = set(stopwords.words('english'))"
      ],
      "metadata": {
        "id": "PiIiSQMWfuVD"
      },
      "execution_count": 75,
      "outputs": []
    },
    {
      "cell_type": "code",
      "source": [
        "final_sentence = []\n",
        "for word in lem_sentence_tokens:\n",
        "  filtered_sentence = [w for w in word if not w.lower() in stop_words]\n",
        "  final_sentence.append(filtered_sentence)"
      ],
      "metadata": {
        "id": "loWKesvhgAVK"
      },
      "execution_count": 76,
      "outputs": []
    },
    {
      "cell_type": "code",
      "source": [
        "len(final_sentence)"
      ],
      "metadata": {
        "colab": {
          "base_uri": "https://localhost:8080/"
        },
        "id": "d_OO7rkwgbyA",
        "outputId": "20afefc3-0a23-4209-8110-9417384f4efc"
      },
      "execution_count": 78,
      "outputs": [
        {
          "output_type": "execute_result",
          "data": {
            "text/plain": [
              "31102"
            ]
          },
          "metadata": {},
          "execution_count": 78
        }
      ]
    },
    {
      "cell_type": "markdown",
      "metadata": {
        "id": "BaXV6nlHr5Aa"
      },
      "source": [
        "### 2 - Crear los vectores (word2vec)"
      ]
    },
    {
      "cell_type": "code",
      "execution_count": 79,
      "metadata": {
        "id": "OSb0v7h8r7hK"
      },
      "outputs": [],
      "source": [
        "from gensim.models.callbacks import CallbackAny2Vec\n",
        "# Durante el entrenamiento gensim por defecto no informa el \"loss\" en cada época\n",
        "# Sobracargamos el callback para poder tener esta información\n",
        "class callback(CallbackAny2Vec):\n",
        "    \"\"\"\n",
        "    Callback to print loss after each epoch\n",
        "    \"\"\"\n",
        "    def __init__(self):\n",
        "        self.epoch = 0\n",
        "\n",
        "    def on_epoch_end(self, model):\n",
        "        loss = model.get_latest_training_loss()\n",
        "        if self.epoch == 0:\n",
        "            r = loss\n",
        "            print('Loss after epoch {}: {}'.format(self.epoch, r))\n",
        "        else:\n",
        "            r = loss - self.loss_previous_step\n",
        "            print('Loss after epoch {}: {}'.format(self.epoch, r))\n",
        "        self.epoch += 1\n",
        "        self.loss_previous_step = loss"
      ]
    },
    {
      "cell_type": "code",
      "execution_count": 90,
      "metadata": {
        "id": "i0wnDdv9sJ47"
      },
      "outputs": [],
      "source": [
        "# Crearmos el modelo generador de vectoeres\n",
        "# En este caso utilizaremos la estructura modelo Skipgram\n",
        "w2v_model = Word2Vec(min_count = 5,    # frecuencia mínima de palabra para incluirla en el vocabulario\n",
        "                     window = 3,       # cant de palabras antes y desp de la predicha\n",
        "                     size = 100,       # dimensionalidad de los vectores \n",
        "                     negative = 30,    # cantidad de negative samples... 0 es no se usa\n",
        "                     workers = 1,      # si tienen más cores pueden cambiar este valor\n",
        "                     sg = 1)           # modelo 0:CBOW  1:skipgram"
      ]
    },
    {
      "cell_type": "code",
      "execution_count": 91,
      "metadata": {
        "id": "5lTt8wErsf17"
      },
      "outputs": [],
      "source": [
        "# Buildear el vocabularui con los tokens\n",
        "w2v_model.build_vocab(final_sentence)"
      ]
    },
    {
      "cell_type": "code",
      "execution_count": 92,
      "metadata": {
        "id": "TNc9qt4os5AT",
        "colab": {
          "base_uri": "https://localhost:8080/"
        },
        "outputId": "59e5fd7f-5a89-4152-db36-7cdc9f03052d"
      },
      "outputs": [
        {
          "output_type": "stream",
          "name": "stdout",
          "text": [
            "Cantidad de docs en el corpus: 31102\n"
          ]
        }
      ],
      "source": [
        "# Cantidad de filas/docs encontradas en el corpus\n",
        "print(\"Cantidad de docs en el corpus:\", w2v_model.corpus_count)"
      ]
    },
    {
      "cell_type": "code",
      "execution_count": 93,
      "metadata": {
        "id": "idw9cHF3tSMl",
        "colab": {
          "base_uri": "https://localhost:8080/"
        },
        "outputId": "8bab2da1-3858-4ae1-cb8c-9d468594e44c"
      },
      "outputs": [
        {
          "output_type": "stream",
          "name": "stdout",
          "text": [
            "Cantidad de words distintas en el corpus: 4765\n"
          ]
        }
      ],
      "source": [
        "# Cantidad de words encontradas en el corpus\n",
        "print(\"Cantidad de words distintas en el corpus:\", len(w2v_model.wv.vocab))"
      ]
    },
    {
      "cell_type": "markdown",
      "metadata": {
        "id": "fC9mZ8DPk-UC"
      },
      "source": [
        "### 3 - Entrenar el modelo generador"
      ]
    },
    {
      "cell_type": "code",
      "execution_count": 94,
      "metadata": {
        "id": "QSp-x0PAsq56",
        "colab": {
          "base_uri": "https://localhost:8080/"
        },
        "outputId": "d8c62f3b-0ce0-415a-b638-11d9914fd119"
      },
      "outputs": [
        {
          "output_type": "stream",
          "name": "stdout",
          "text": [
            "Loss after epoch 0: 3729064.5\n",
            "Loss after epoch 1: 2957290.0\n",
            "Loss after epoch 2: 2813180.5\n",
            "Loss after epoch 3: 2686332.0\n",
            "Loss after epoch 4: 2634795.0\n",
            "Loss after epoch 5: 2582148.0\n",
            "Loss after epoch 6: 2473352.0\n",
            "Loss after epoch 7: 2443984.0\n",
            "Loss after epoch 8: 2426822.0\n",
            "Loss after epoch 9: 2408134.0\n",
            "Loss after epoch 10: 2388296.0\n",
            "Loss after epoch 11: 2380126.0\n",
            "Loss after epoch 12: 2352616.0\n",
            "Loss after epoch 13: 2298700.0\n",
            "Loss after epoch 14: 2291788.0\n",
            "Loss after epoch 15: 2276392.0\n",
            "Loss after epoch 16: 2275612.0\n",
            "Loss after epoch 17: 2260880.0\n",
            "Loss after epoch 18: 2259704.0\n",
            "Loss after epoch 19: 2251344.0\n",
            "Loss after epoch 20: 2246420.0\n",
            "Loss after epoch 21: 2239816.0\n",
            "Loss after epoch 22: 2241828.0\n",
            "Loss after epoch 23: 2239004.0\n",
            "Loss after epoch 24: 2229084.0\n",
            "Loss after epoch 25: 2225500.0\n",
            "Loss after epoch 26: 2230752.0\n",
            "Loss after epoch 27: 1655852.0\n",
            "Loss after epoch 28: 921120.0\n",
            "Loss after epoch 29: 919024.0\n",
            "Loss after epoch 30: 918168.0\n",
            "Loss after epoch 31: 915536.0\n",
            "Loss after epoch 32: 916104.0\n",
            "Loss after epoch 33: 914552.0\n",
            "Loss after epoch 34: 914936.0\n",
            "Loss after epoch 35: 907984.0\n",
            "Loss after epoch 36: 912480.0\n",
            "Loss after epoch 37: 907128.0\n",
            "Loss after epoch 38: 908808.0\n",
            "Loss after epoch 39: 903744.0\n",
            "Loss after epoch 40: 903976.0\n",
            "Loss after epoch 41: 903856.0\n",
            "Loss after epoch 42: 901752.0\n",
            "Loss after epoch 43: 902168.0\n",
            "Loss after epoch 44: 900896.0\n",
            "Loss after epoch 45: 895520.0\n",
            "Loss after epoch 46: 898064.0\n",
            "Loss after epoch 47: 896464.0\n",
            "Loss after epoch 48: 895672.0\n",
            "Loss after epoch 49: 892048.0\n",
            "Loss after epoch 50: 892528.0\n",
            "Loss after epoch 51: 891904.0\n",
            "Loss after epoch 52: 891336.0\n",
            "Loss after epoch 53: 890328.0\n",
            "Loss after epoch 54: 891160.0\n",
            "Loss after epoch 55: 887752.0\n",
            "Loss after epoch 56: 884336.0\n",
            "Loss after epoch 57: 888128.0\n",
            "Loss after epoch 58: 879800.0\n",
            "Loss after epoch 59: 883392.0\n",
            "Loss after epoch 60: 879528.0\n",
            "Loss after epoch 61: 882848.0\n",
            "Loss after epoch 62: 883776.0\n",
            "Loss after epoch 63: 880616.0\n",
            "Loss after epoch 64: 879664.0\n",
            "Loss after epoch 65: 874584.0\n",
            "Loss after epoch 66: 877784.0\n",
            "Loss after epoch 67: 879200.0\n",
            "Loss after epoch 68: 870552.0\n",
            "Loss after epoch 69: 871712.0\n",
            "Loss after epoch 70: 870040.0\n",
            "Loss after epoch 71: 872840.0\n",
            "Loss after epoch 72: 866792.0\n",
            "Loss after epoch 73: 873736.0\n",
            "Loss after epoch 74: 864960.0\n",
            "Loss after epoch 75: 869376.0\n",
            "Loss after epoch 76: 868168.0\n",
            "Loss after epoch 77: 865688.0\n",
            "Loss after epoch 78: 865800.0\n",
            "Loss after epoch 79: 865472.0\n",
            "Loss after epoch 80: 863760.0\n",
            "Loss after epoch 81: 861936.0\n",
            "Loss after epoch 82: 856784.0\n",
            "Loss after epoch 83: 858824.0\n",
            "Loss after epoch 84: 861272.0\n",
            "Loss after epoch 85: 854648.0\n",
            "Loss after epoch 86: 858600.0\n",
            "Loss after epoch 87: 855832.0\n",
            "Loss after epoch 88: 853808.0\n",
            "Loss after epoch 89: 853808.0\n",
            "Loss after epoch 90: 852016.0\n",
            "Loss after epoch 91: 849288.0\n",
            "Loss after epoch 92: 850672.0\n",
            "Loss after epoch 93: 846832.0\n",
            "Loss after epoch 94: 851872.0\n",
            "Loss after epoch 95: 846232.0\n",
            "Loss after epoch 96: 847376.0\n",
            "Loss after epoch 97: 847792.0\n",
            "Loss after epoch 98: 842984.0\n",
            "Loss after epoch 99: 844872.0\n",
            "Loss after epoch 100: 839552.0\n",
            "Loss after epoch 101: 840784.0\n",
            "Loss after epoch 102: 841128.0\n",
            "Loss after epoch 103: 838744.0\n",
            "Loss after epoch 104: 5696.0\n",
            "Loss after epoch 105: 0.0\n",
            "Loss after epoch 106: 0.0\n",
            "Loss after epoch 107: 0.0\n",
            "Loss after epoch 108: 0.0\n",
            "Loss after epoch 109: 0.0\n",
            "Loss after epoch 110: 0.0\n",
            "Loss after epoch 111: 0.0\n",
            "Loss after epoch 112: 0.0\n",
            "Loss after epoch 113: 0.0\n",
            "Loss after epoch 114: 0.0\n",
            "Loss after epoch 115: 0.0\n",
            "Loss after epoch 116: 0.0\n",
            "Loss after epoch 117: 0.0\n",
            "Loss after epoch 118: 0.0\n",
            "Loss after epoch 119: 0.0\n",
            "Loss after epoch 120: 0.0\n",
            "Loss after epoch 121: 0.0\n",
            "Loss after epoch 122: 0.0\n",
            "Loss after epoch 123: 0.0\n",
            "Loss after epoch 124: 0.0\n",
            "Loss after epoch 125: 0.0\n",
            "Loss after epoch 126: 0.0\n",
            "Loss after epoch 127: 0.0\n",
            "Loss after epoch 128: 0.0\n",
            "Loss after epoch 129: 0.0\n",
            "Loss after epoch 130: 0.0\n",
            "Loss after epoch 131: 0.0\n",
            "Loss after epoch 132: 0.0\n",
            "Loss after epoch 133: 0.0\n",
            "Loss after epoch 134: 0.0\n",
            "Loss after epoch 135: 0.0\n",
            "Loss after epoch 136: 0.0\n",
            "Loss after epoch 137: 0.0\n",
            "Loss after epoch 138: 0.0\n",
            "Loss after epoch 139: 0.0\n",
            "Loss after epoch 140: 0.0\n",
            "Loss after epoch 141: 0.0\n",
            "Loss after epoch 142: 0.0\n",
            "Loss after epoch 143: 0.0\n",
            "Loss after epoch 144: 0.0\n",
            "Loss after epoch 145: 0.0\n",
            "Loss after epoch 146: 0.0\n",
            "Loss after epoch 147: 0.0\n",
            "Loss after epoch 148: 0.0\n",
            "Loss after epoch 149: 0.0\n",
            "Loss after epoch 150: 0.0\n",
            "Loss after epoch 151: 0.0\n",
            "Loss after epoch 152: 0.0\n",
            "Loss after epoch 153: 0.0\n",
            "Loss after epoch 154: 0.0\n",
            "Loss after epoch 155: 0.0\n",
            "Loss after epoch 156: 0.0\n",
            "Loss after epoch 157: 0.0\n",
            "Loss after epoch 158: 0.0\n",
            "Loss after epoch 159: 0.0\n",
            "Loss after epoch 160: 0.0\n",
            "Loss after epoch 161: 0.0\n",
            "Loss after epoch 162: 0.0\n",
            "Loss after epoch 163: 0.0\n",
            "Loss after epoch 164: 0.0\n",
            "Loss after epoch 165: 0.0\n",
            "Loss after epoch 166: 0.0\n",
            "Loss after epoch 167: 0.0\n",
            "Loss after epoch 168: 0.0\n",
            "Loss after epoch 169: 0.0\n",
            "Loss after epoch 170: 0.0\n",
            "Loss after epoch 171: 0.0\n",
            "Loss after epoch 172: 0.0\n",
            "Loss after epoch 173: 0.0\n",
            "Loss after epoch 174: 0.0\n",
            "Loss after epoch 175: 0.0\n",
            "Loss after epoch 176: 0.0\n",
            "Loss after epoch 177: 0.0\n",
            "Loss after epoch 178: 0.0\n",
            "Loss after epoch 179: 0.0\n",
            "Loss after epoch 180: 0.0\n",
            "Loss after epoch 181: 0.0\n",
            "Loss after epoch 182: 0.0\n",
            "Loss after epoch 183: 0.0\n",
            "Loss after epoch 184: 0.0\n",
            "Loss after epoch 185: 0.0\n",
            "Loss after epoch 186: 0.0\n",
            "Loss after epoch 187: 0.0\n",
            "Loss after epoch 188: 0.0\n",
            "Loss after epoch 189: 0.0\n",
            "Loss after epoch 190: 0.0\n",
            "Loss after epoch 191: 0.0\n",
            "Loss after epoch 192: 0.0\n",
            "Loss after epoch 193: 0.0\n",
            "Loss after epoch 194: 0.0\n",
            "Loss after epoch 195: 0.0\n",
            "Loss after epoch 196: 0.0\n",
            "Loss after epoch 197: 0.0\n",
            "Loss after epoch 198: 0.0\n",
            "Loss after epoch 199: 0.0\n",
            "Loss after epoch 200: 0.0\n",
            "Loss after epoch 201: 0.0\n",
            "Loss after epoch 202: 0.0\n",
            "Loss after epoch 203: 0.0\n",
            "Loss after epoch 204: 0.0\n",
            "Loss after epoch 205: 0.0\n",
            "Loss after epoch 206: 0.0\n",
            "Loss after epoch 207: 0.0\n",
            "Loss after epoch 208: 0.0\n",
            "Loss after epoch 209: 0.0\n",
            "Loss after epoch 210: 0.0\n",
            "Loss after epoch 211: 0.0\n",
            "Loss after epoch 212: 0.0\n",
            "Loss after epoch 213: 0.0\n",
            "Loss after epoch 214: 0.0\n",
            "Loss after epoch 215: 0.0\n",
            "Loss after epoch 216: 0.0\n",
            "Loss after epoch 217: 0.0\n",
            "Loss after epoch 218: 0.0\n",
            "Loss after epoch 219: 0.0\n",
            "Loss after epoch 220: 0.0\n",
            "Loss after epoch 221: 0.0\n",
            "Loss after epoch 222: 0.0\n",
            "Loss after epoch 223: 0.0\n",
            "Loss after epoch 224: 0.0\n",
            "Loss after epoch 225: 0.0\n",
            "Loss after epoch 226: 0.0\n",
            "Loss after epoch 227: 0.0\n",
            "Loss after epoch 228: 0.0\n",
            "Loss after epoch 229: 0.0\n",
            "Loss after epoch 230: 0.0\n",
            "Loss after epoch 231: 0.0\n",
            "Loss after epoch 232: 0.0\n",
            "Loss after epoch 233: 0.0\n",
            "Loss after epoch 234: 0.0\n",
            "Loss after epoch 235: 0.0\n",
            "Loss after epoch 236: 0.0\n",
            "Loss after epoch 237: 0.0\n",
            "Loss after epoch 238: 0.0\n",
            "Loss after epoch 239: 0.0\n",
            "Loss after epoch 240: 0.0\n",
            "Loss after epoch 241: 0.0\n",
            "Loss after epoch 242: 0.0\n",
            "Loss after epoch 243: 0.0\n",
            "Loss after epoch 244: 0.0\n",
            "Loss after epoch 245: 0.0\n",
            "Loss after epoch 246: 0.0\n",
            "Loss after epoch 247: 0.0\n",
            "Loss after epoch 248: 0.0\n",
            "Loss after epoch 249: 0.0\n"
          ]
        }
      ],
      "source": [
        "# Entrenamos el modelo generador de vectores\n",
        "# Utilizamos nuestro callback\n",
        "loss_vector = w2v_model.train(final_sentence,\n",
        "                 total_examples = w2v_model.corpus_count,\n",
        "                 epochs = 250,\n",
        "                 compute_loss = True,\n",
        "                 callbacks=[callback()]\n",
        "                 ) "
      ]
    },
    {
      "cell_type": "code",
      "source": [
        "loss = pd.read_excel('/loss2.xlsx', header = None)"
      ],
      "metadata": {
        "id": "lRS3jX4bTYe-"
      },
      "execution_count": 95,
      "outputs": []
    },
    {
      "cell_type": "code",
      "source": [
        "loss"
      ],
      "metadata": {
        "colab": {
          "base_uri": "https://localhost:8080/",
          "height": 424
        },
        "id": "gB8CKcPJTm3w",
        "outputId": "a6b16285-81c3-432b-e489-e9466f9bde5c"
      },
      "execution_count": 96,
      "outputs": [
        {
          "output_type": "execute_result",
          "data": {
            "text/plain": [
              "       0          1\n",
              "0      0  3729064.5\n",
              "1      1  2957290.0\n",
              "2      2  2813180.5\n",
              "3      3  2686332.0\n",
              "4      4  2634795.0\n",
              "..   ...        ...\n",
              "245  245        0.0\n",
              "246  246        0.0\n",
              "247  247        0.0\n",
              "248  248        0.0\n",
              "249  249        0.0\n",
              "\n",
              "[250 rows x 2 columns]"
            ],
            "text/html": [
              "\n",
              "  <div id=\"df-1e14d0a7-0753-445d-96f8-cb1317635ace\">\n",
              "    <div class=\"colab-df-container\">\n",
              "      <div>\n",
              "<style scoped>\n",
              "    .dataframe tbody tr th:only-of-type {\n",
              "        vertical-align: middle;\n",
              "    }\n",
              "\n",
              "    .dataframe tbody tr th {\n",
              "        vertical-align: top;\n",
              "    }\n",
              "\n",
              "    .dataframe thead th {\n",
              "        text-align: right;\n",
              "    }\n",
              "</style>\n",
              "<table border=\"1\" class=\"dataframe\">\n",
              "  <thead>\n",
              "    <tr style=\"text-align: right;\">\n",
              "      <th></th>\n",
              "      <th>0</th>\n",
              "      <th>1</th>\n",
              "    </tr>\n",
              "  </thead>\n",
              "  <tbody>\n",
              "    <tr>\n",
              "      <th>0</th>\n",
              "      <td>0</td>\n",
              "      <td>3729064.5</td>\n",
              "    </tr>\n",
              "    <tr>\n",
              "      <th>1</th>\n",
              "      <td>1</td>\n",
              "      <td>2957290.0</td>\n",
              "    </tr>\n",
              "    <tr>\n",
              "      <th>2</th>\n",
              "      <td>2</td>\n",
              "      <td>2813180.5</td>\n",
              "    </tr>\n",
              "    <tr>\n",
              "      <th>3</th>\n",
              "      <td>3</td>\n",
              "      <td>2686332.0</td>\n",
              "    </tr>\n",
              "    <tr>\n",
              "      <th>4</th>\n",
              "      <td>4</td>\n",
              "      <td>2634795.0</td>\n",
              "    </tr>\n",
              "    <tr>\n",
              "      <th>...</th>\n",
              "      <td>...</td>\n",
              "      <td>...</td>\n",
              "    </tr>\n",
              "    <tr>\n",
              "      <th>245</th>\n",
              "      <td>245</td>\n",
              "      <td>0.0</td>\n",
              "    </tr>\n",
              "    <tr>\n",
              "      <th>246</th>\n",
              "      <td>246</td>\n",
              "      <td>0.0</td>\n",
              "    </tr>\n",
              "    <tr>\n",
              "      <th>247</th>\n",
              "      <td>247</td>\n",
              "      <td>0.0</td>\n",
              "    </tr>\n",
              "    <tr>\n",
              "      <th>248</th>\n",
              "      <td>248</td>\n",
              "      <td>0.0</td>\n",
              "    </tr>\n",
              "    <tr>\n",
              "      <th>249</th>\n",
              "      <td>249</td>\n",
              "      <td>0.0</td>\n",
              "    </tr>\n",
              "  </tbody>\n",
              "</table>\n",
              "<p>250 rows × 2 columns</p>\n",
              "</div>\n",
              "      <button class=\"colab-df-convert\" onclick=\"convertToInteractive('df-1e14d0a7-0753-445d-96f8-cb1317635ace')\"\n",
              "              title=\"Convert this dataframe to an interactive table.\"\n",
              "              style=\"display:none;\">\n",
              "        \n",
              "  <svg xmlns=\"http://www.w3.org/2000/svg\" height=\"24px\"viewBox=\"0 0 24 24\"\n",
              "       width=\"24px\">\n",
              "    <path d=\"M0 0h24v24H0V0z\" fill=\"none\"/>\n",
              "    <path d=\"M18.56 5.44l.94 2.06.94-2.06 2.06-.94-2.06-.94-.94-2.06-.94 2.06-2.06.94zm-11 1L8.5 8.5l.94-2.06 2.06-.94-2.06-.94L8.5 2.5l-.94 2.06-2.06.94zm10 10l.94 2.06.94-2.06 2.06-.94-2.06-.94-.94-2.06-.94 2.06-2.06.94z\"/><path d=\"M17.41 7.96l-1.37-1.37c-.4-.4-.92-.59-1.43-.59-.52 0-1.04.2-1.43.59L10.3 9.45l-7.72 7.72c-.78.78-.78 2.05 0 2.83L4 21.41c.39.39.9.59 1.41.59.51 0 1.02-.2 1.41-.59l7.78-7.78 2.81-2.81c.8-.78.8-2.07 0-2.86zM5.41 20L4 18.59l7.72-7.72 1.47 1.35L5.41 20z\"/>\n",
              "  </svg>\n",
              "      </button>\n",
              "      \n",
              "  <style>\n",
              "    .colab-df-container {\n",
              "      display:flex;\n",
              "      flex-wrap:wrap;\n",
              "      gap: 12px;\n",
              "    }\n",
              "\n",
              "    .colab-df-convert {\n",
              "      background-color: #E8F0FE;\n",
              "      border: none;\n",
              "      border-radius: 50%;\n",
              "      cursor: pointer;\n",
              "      display: none;\n",
              "      fill: #1967D2;\n",
              "      height: 32px;\n",
              "      padding: 0 0 0 0;\n",
              "      width: 32px;\n",
              "    }\n",
              "\n",
              "    .colab-df-convert:hover {\n",
              "      background-color: #E2EBFA;\n",
              "      box-shadow: 0px 1px 2px rgba(60, 64, 67, 0.3), 0px 1px 3px 1px rgba(60, 64, 67, 0.15);\n",
              "      fill: #174EA6;\n",
              "    }\n",
              "\n",
              "    [theme=dark] .colab-df-convert {\n",
              "      background-color: #3B4455;\n",
              "      fill: #D2E3FC;\n",
              "    }\n",
              "\n",
              "    [theme=dark] .colab-df-convert:hover {\n",
              "      background-color: #434B5C;\n",
              "      box-shadow: 0px 1px 3px 1px rgba(0, 0, 0, 0.15);\n",
              "      filter: drop-shadow(0px 1px 2px rgba(0, 0, 0, 0.3));\n",
              "      fill: #FFFFFF;\n",
              "    }\n",
              "  </style>\n",
              "\n",
              "      <script>\n",
              "        const buttonEl =\n",
              "          document.querySelector('#df-1e14d0a7-0753-445d-96f8-cb1317635ace button.colab-df-convert');\n",
              "        buttonEl.style.display =\n",
              "          google.colab.kernel.accessAllowed ? 'block' : 'none';\n",
              "\n",
              "        async function convertToInteractive(key) {\n",
              "          const element = document.querySelector('#df-1e14d0a7-0753-445d-96f8-cb1317635ace');\n",
              "          const dataTable =\n",
              "            await google.colab.kernel.invokeFunction('convertToInteractive',\n",
              "                                                     [key], {});\n",
              "          if (!dataTable) return;\n",
              "\n",
              "          const docLinkHtml = 'Like what you see? Visit the ' +\n",
              "            '<a target=\"_blank\" href=https://colab.research.google.com/notebooks/data_table.ipynb>data table notebook</a>'\n",
              "            + ' to learn more about interactive tables.';\n",
              "          element.innerHTML = '';\n",
              "          dataTable['output_type'] = 'display_data';\n",
              "          await google.colab.output.renderOutput(dataTable, element);\n",
              "          const docLink = document.createElement('div');\n",
              "          docLink.innerHTML = docLinkHtml;\n",
              "          element.appendChild(docLink);\n",
              "        }\n",
              "      </script>\n",
              "    </div>\n",
              "  </div>\n",
              "  "
            ]
          },
          "metadata": {},
          "execution_count": 96
        }
      ]
    },
    {
      "cell_type": "code",
      "source": [
        "import matplotlib.pyplot as plt\n",
        "\n",
        "plt.plot(loss.iloc[:, 0], loss.iloc[:, 1])\n",
        "plt.show()"
      ],
      "metadata": {
        "colab": {
          "base_uri": "https://localhost:8080/",
          "height": 276
        },
        "id": "9a4izDoHTg68",
        "outputId": "e75cc3a9-5c47-432f-9f4a-8af9a0c7d62c"
      },
      "execution_count": 97,
      "outputs": [
        {
          "output_type": "display_data",
          "data": {
            "text/plain": [
              "<Figure size 432x288 with 1 Axes>"
            ],
            "image/png": "[encoded data removed]"
          },
          "metadata": {
            "needs_background": "light"
          }
        }
      ]
    },
    {
      "cell_type": "markdown",
      "metadata": {
        "id": "ddT9NVuNlCAe"
      },
      "source": [
        "### 4 - Ensayar"
      ]
    },
    {
      "cell_type": "code",
      "execution_count": 98,
      "metadata": {
        "id": "6cHN9xGLuPEm",
        "colab": {
          "base_uri": "https://localhost:8080/"
        },
        "outputId": "21c66d15-2f6e-4db9-8ae9-810922c2ffd6"
      },
      "outputs": [
        {
          "output_type": "execute_result",
          "data": {
            "text/plain": [
              "[('lord', 0.8805321455001831),\n",
              " ('unto', 0.6482241153717041),\n",
              " ('therefore', 0.6190711855888367),\n",
              " ('thee', 0.6080701351165771),\n",
              " ('saying', 0.568709135055542),\n",
              " ('u', 0.5509453415870667),\n",
              " ('said', 0.5339818000793457),\n",
              " ('hath', 0.5295073986053467),\n",
              " ('also', 0.5293233394622803),\n",
              " ('glory', 0.5219210386276245)]"
            ]
          },
          "metadata": {},
          "execution_count": 98
        }
      ],
      "source": [
        "# Palabras que MÁS se relacionan con...:\n",
        "word = 'god'\n",
        "w2v_model.wv.most_similar(positive = [word], topn = 10)"
      ]
    },
    {
      "cell_type": "code",
      "source": [
        "# Palabras que MENOS se relacionan con...:\n",
        "word = 'god'\n",
        "w2v_model.wv.most_similar(negative = [word], topn = 10)"
      ],
      "metadata": {
        "colab": {
          "base_uri": "https://localhost:8080/"
        },
        "id": "1Jxqzg6MRUdQ",
        "outputId": "f5a29a18-45d5-4a10-e93c-add333022253"
      },
      "execution_count": 100,
      "outputs": [
        {
          "output_type": "execute_result",
          "data": {
            "text/plain": [
              "[('mule', 0.05940422788262367),\n",
              " ('beard', 0.04812711477279663),\n",
              " ('rib', 0.03467540070414543),\n",
              " ('wrapped', 0.02631140500307083),\n",
              " ('netophathite', 0.026063933968544006),\n",
              " ('trode', 0.02468719519674778),\n",
              " ('suckling', 0.01718207821249962),\n",
              " ('cluster', 0.01681249961256981),\n",
              " ('jezreel', 0.012351945042610168),\n",
              " ('immer', 0.01193089410662651)]"
            ]
          },
          "metadata": {},
          "execution_count": 100
        }
      ]
    },
    {
      "cell_type": "code",
      "execution_count": 101,
      "metadata": {
        "id": "47HiU5gdkdMq",
        "colab": {
          "base_uri": "https://localhost:8080/"
        },
        "outputId": "b081f4bd-8c54-4937-de99-e9eca2cb7b67"
      },
      "outputs": [
        {
          "output_type": "execute_result",
          "data": {
            "text/plain": [
              "[('peter', 0.60768723487854),\n",
              " ('disciple', 0.5609852075576782),\n",
              " ('christ', 0.5470683574676514),\n",
              " ('paul', 0.516880452632904),\n",
              " ('john', 0.5107923746109009),\n",
              " ('pilate', 0.4932810068130493),\n",
              " ('nathanael', 0.49132445454597473),\n",
              " ('baptized', 0.4843342900276184),\n",
              " ('god', 0.481915682554245),\n",
              " ('spirit', 0.46661442518234253)]"
            ]
          },
          "metadata": {},
          "execution_count": 101
        }
      ],
      "source": [
        "# Palabras que MÁS se relacionan con...:\n",
        "word = 'jesus'\n",
        "w2v_model.wv.most_similar(positive = [word], topn = 10)"
      ]
    },
    {
      "cell_type": "code",
      "source": [
        "# Palabras que MÁS se relacionan con...:\n",
        "word = 'good'\n",
        "w2v_model.wv.most_similar(positive = [word], topn = 10)"
      ],
      "metadata": {
        "colab": {
          "base_uri": "https://localhost:8080/"
        },
        "id": "Da3Rlc8iXHXL",
        "outputId": "291f55c7-34b1-4f3f-a9ee-8b17d6d29187"
      },
      "execution_count": 102,
      "outputs": [
        {
          "output_type": "execute_result",
          "data": {
            "text/plain": [
              "[('evil', 0.4881630539894104),\n",
              " ('man', 0.4336983561515808),\n",
              " ('well', 0.4325893521308899),\n",
              " ('delighteth', 0.42923876643180847),\n",
              " ('create', 0.42305585741996765),\n",
              " ('goodness', 0.4151777923107147),\n",
              " ('necessary', 0.4124904274940491),\n",
              " ('god', 0.40958383679389954),\n",
              " ('truth', 0.4094000458717346),\n",
              " ('thing', 0.40932419896125793)]"
            ]
          },
          "metadata": {},
          "execution_count": 102
        }
      ]
    },
    {
      "cell_type": "code",
      "source": [
        "# Palabras que MÁS se relacionan con...:\n",
        "word = 'evil'\n",
        "w2v_model.wv.most_similar(positive = [word], topn = 10)"
      ],
      "metadata": {
        "colab": {
          "base_uri": "https://localhost:8080/"
        },
        "id": "EcOm6K--X4Bj",
        "outputId": "66323e68-576b-4698-cd2b-b61c761d0359"
      },
      "execution_count": 103,
      "outputs": [
        {
          "output_type": "execute_result",
          "data": {
            "text/plain": [
              "[('good', 0.4881630539894104),\n",
              " ('trouble', 0.4458363652229309),\n",
              " ('doings', 0.4430549144744873),\n",
              " ('parent', 0.4391653537750244),\n",
              " ('slow', 0.4333541989326477),\n",
              " ('wicked', 0.4320198595523834),\n",
              " ('deceitful', 0.43163400888442993),\n",
              " ('wherefore', 0.4290006756782532),\n",
              " ('speed', 0.4280222952365875),\n",
              " ('destruction', 0.4217584729194641)]"
            ]
          },
          "metadata": {},
          "execution_count": 103
        }
      ]
    },
    {
      "cell_type": "code",
      "source": [
        "# Palabras que MÁS se relacionan con...:\n",
        "word = 'sin'\n",
        "w2v_model.wv.most_similar(positive = [word], topn = 10)"
      ],
      "metadata": {
        "colab": {
          "base_uri": "https://localhost:8080/"
        },
        "id": "FSafzxHsSCt4",
        "outputId": "dc775b53-5f0f-47b7-e3dc-c5319c33741c"
      },
      "execution_count": 104,
      "outputs": [
        {
          "output_type": "execute_result",
          "data": {
            "text/plain": [
              "[('sinned', 0.5354009866714478),\n",
              " ('iniquity', 0.5281431078910828),\n",
              " ('remission', 0.49627751111984253),\n",
              " ('guilty', 0.4933604896068573),\n",
              " ('nebat', 0.48762112855911255),\n",
              " ('trespass', 0.4827388525009155),\n",
              " ('warn', 0.46578270196914673),\n",
              " ('cleanse', 0.4481271505355835),\n",
              " ('forgiven', 0.4431529641151428),\n",
              " ('foolishly', 0.4421272575855255)]"
            ]
          },
          "metadata": {},
          "execution_count": 104
        }
      ]
    },
    {
      "cell_type": "code",
      "execution_count": 30,
      "metadata": {
        "id": "L_UvHPMMklOr",
        "colab": {
          "base_uri": "https://localhost:8080/",
          "height": 345
        },
        "outputId": "b89d876c-078b-47d2-ff68-f1fe2f5eeaeb"
      },
      "outputs": [
        {
          "output_type": "error",
          "ename": "KeyError",
          "evalue": "ignored",
          "traceback": [
            "\u001b[0;31m---------------------------------------------------------------------------\u001b[0m",
            "\u001b[0;31mKeyError\u001b[0m                                  Traceback (most recent call last)",
            "\u001b[0;32m<ipython-input-30-f654853d3d00>\u001b[0m in \u001b[0;36m<module>\u001b[0;34m\u001b[0m\n\u001b[1;32m      1\u001b[0m \u001b[0;31m# Ensayar con una palabra que no está en el corpus (en vocab):\u001b[0m\u001b[0;34m\u001b[0m\u001b[0;34m\u001b[0m\u001b[0;34m\u001b[0m\u001b[0m\n\u001b[1;32m      2\u001b[0m \u001b[0mword\u001b[0m \u001b[0;34m=\u001b[0m \u001b[0;34m'python'\u001b[0m\u001b[0;34m\u001b[0m\u001b[0;34m\u001b[0m\u001b[0m\n\u001b[0;32m----> 3\u001b[0;31m \u001b[0mw2v_model\u001b[0m\u001b[0;34m.\u001b[0m\u001b[0mwv\u001b[0m\u001b[0;34m.\u001b[0m\u001b[0mmost_similar\u001b[0m\u001b[0;34m(\u001b[0m\u001b[0mnegative\u001b[0m \u001b[0;34m=\u001b[0m \u001b[0;34m[\u001b[0m\u001b[0mword\u001b[0m\u001b[0;34m]\u001b[0m\u001b[0;34m)\u001b[0m\u001b[0;34m\u001b[0m\u001b[0;34m\u001b[0m\u001b[0m\n\u001b[0m",
            "\u001b[0;32m/usr/local/lib/python3.7/dist-packages/gensim/models/keyedvectors.py\u001b[0m in \u001b[0;36mmost_similar\u001b[0;34m(self, positive, negative, topn, restrict_vocab, indexer)\u001b[0m\n\u001b[1;32m    529\u001b[0m                 \u001b[0mmean\u001b[0m\u001b[0;34m.\u001b[0m\u001b[0mappend\u001b[0m\u001b[0;34m(\u001b[0m\u001b[0mweight\u001b[0m \u001b[0;34m*\u001b[0m \u001b[0mword\u001b[0m\u001b[0;34m)\u001b[0m\u001b[0;34m\u001b[0m\u001b[0;34m\u001b[0m\u001b[0m\n\u001b[1;32m    530\u001b[0m             \u001b[0;32melse\u001b[0m\u001b[0;34m:\u001b[0m\u001b[0;34m\u001b[0m\u001b[0;34m\u001b[0m\u001b[0m\n\u001b[0;32m--> 531\u001b[0;31m                 \u001b[0mmean\u001b[0m\u001b[0;34m.\u001b[0m\u001b[0mappend\u001b[0m\u001b[0;34m(\u001b[0m\u001b[0mweight\u001b[0m \u001b[0;34m*\u001b[0m \u001b[0mself\u001b[0m\u001b[0;34m.\u001b[0m\u001b[0mword_vec\u001b[0m\u001b[0;34m(\u001b[0m\u001b[0mword\u001b[0m\u001b[0;34m,\u001b[0m \u001b[0muse_norm\u001b[0m\u001b[0;34m=\u001b[0m\u001b[0;32mTrue\u001b[0m\u001b[0;34m)\u001b[0m\u001b[0;34m)\u001b[0m\u001b[0;34m\u001b[0m\u001b[0;34m\u001b[0m\u001b[0m\n\u001b[0m\u001b[1;32m    532\u001b[0m                 \u001b[0;32mif\u001b[0m \u001b[0mword\u001b[0m \u001b[0;32min\u001b[0m \u001b[0mself\u001b[0m\u001b[0;34m.\u001b[0m\u001b[0mvocab\u001b[0m\u001b[0;34m:\u001b[0m\u001b[0;34m\u001b[0m\u001b[0;34m\u001b[0m\u001b[0m\n\u001b[1;32m    533\u001b[0m                     \u001b[0mall_words\u001b[0m\u001b[0;34m.\u001b[0m\u001b[0madd\u001b[0m\u001b[0;34m(\u001b[0m\u001b[0mself\u001b[0m\u001b[0;34m.\u001b[0m\u001b[0mvocab\u001b[0m\u001b[0;34m[\u001b[0m\u001b[0mword\u001b[0m\u001b[0;34m]\u001b[0m\u001b[0;34m.\u001b[0m\u001b[0mindex\u001b[0m\u001b[0;34m)\u001b[0m\u001b[0;34m\u001b[0m\u001b[0;34m\u001b[0m\u001b[0m\n",
            "\u001b[0;32m/usr/local/lib/python3.7/dist-packages/gensim/models/keyedvectors.py\u001b[0m in \u001b[0;36mword_vec\u001b[0;34m(self, word, use_norm)\u001b[0m\n\u001b[1;32m    450\u001b[0m             \u001b[0;32mreturn\u001b[0m \u001b[0mresult\u001b[0m\u001b[0;34m\u001b[0m\u001b[0;34m\u001b[0m\u001b[0m\n\u001b[1;32m    451\u001b[0m         \u001b[0;32melse\u001b[0m\u001b[0;34m:\u001b[0m\u001b[0;34m\u001b[0m\u001b[0;34m\u001b[0m\u001b[0m\n\u001b[0;32m--> 452\u001b[0;31m             \u001b[0;32mraise\u001b[0m \u001b[0mKeyError\u001b[0m\u001b[0;34m(\u001b[0m\u001b[0;34m\"word '%s' not in vocabulary\"\u001b[0m \u001b[0;34m%\u001b[0m \u001b[0mword\u001b[0m\u001b[0;34m)\u001b[0m\u001b[0;34m\u001b[0m\u001b[0;34m\u001b[0m\u001b[0m\n\u001b[0m\u001b[1;32m    453\u001b[0m \u001b[0;34m\u001b[0m\u001b[0m\n\u001b[1;32m    454\u001b[0m     \u001b[0;32mdef\u001b[0m \u001b[0mget_vector\u001b[0m\u001b[0;34m(\u001b[0m\u001b[0mself\u001b[0m\u001b[0;34m,\u001b[0m \u001b[0mword\u001b[0m\u001b[0;34m)\u001b[0m\u001b[0;34m:\u001b[0m\u001b[0;34m\u001b[0m\u001b[0;34m\u001b[0m\u001b[0m\n",
            "\u001b[0;31mKeyError\u001b[0m: \"word 'python' not in vocabulary\""
          ]
        }
      ],
      "source": [
        "# Ensayar con una palabra que no está en el corpus (en vocab):\n",
        "word = 'python'\n",
        "w2v_model.wv.most_similar(negative = [word])"
      ]
    },
    {
      "cell_type": "markdown",
      "metadata": {
        "id": "_g8UVWe6lFmh"
      },
      "source": [
        "### 5 - Visualizar agrupación de vectores"
      ]
    },
    {
      "cell_type": "code",
      "execution_count": 105,
      "metadata": {
        "id": "pDxEVXAivjr9"
      },
      "outputs": [],
      "source": [
        "from sklearn.decomposition import IncrementalPCA    \n",
        "from sklearn.manifold import TSNE                   \n",
        "import numpy as np                                  \n",
        "\n",
        "def reduce_dimensions(model):\n",
        "    num_dimensions = 2  \n",
        "\n",
        "    vectors = np.asarray(model.wv.vectors)\n",
        "    labels = np.asarray(model.wv.index2word)  \n",
        "\n",
        "    tsne = TSNE(n_components=num_dimensions, random_state=0)\n",
        "    vectors = tsne.fit_transform(vectors)\n",
        "\n",
        "    x_vals = [v[0] for v in vectors]\n",
        "    y_vals = [v[1] for v in vectors]\n",
        "    return x_vals, y_vals, labels"
      ]
    },
    {
      "cell_type": "code",
      "execution_count": 106,
      "metadata": {
        "id": "NCCXtDpcugmd",
        "colab": {
          "base_uri": "https://localhost:8080/",
          "height": 681
        },
        "outputId": "e04f0f6d-1951-448b-a194-0712b875c296"
      },
      "outputs": [
        {
          "output_type": "stream",
          "name": "stderr",
          "text": [
            "/usr/local/lib/python3.7/dist-packages/sklearn/manifold/_t_sne.py:783: FutureWarning:\n",
            "\n",
            "The default initialization in TSNE will change from 'random' to 'pca' in 1.2.\n",
            "\n",
            "/usr/local/lib/python3.7/dist-packages/sklearn/manifold/_t_sne.py:793: FutureWarning:\n",
            "\n",
            "The default learning rate in TSNE will change from 200.0 to 'auto' in 1.2.\n",
            "\n"
          ]
        },
        {
          "output_type": "display_data",
          "data": {
            "text/html": [
              "<html>\n",
              "<head><meta charset=\"utf-8\" /></head>\n",
              "<body>\n",
              "    <div>            <script src=\"https://cdnjs.cloudflare.com/ajax/libs/mathjax/2.7.5/MathJax.js?config=TeX-AMS-MML_SVG\"></script><script type=\"text/javascript\">if (window.MathJax) {MathJax.Hub.Config({SVG: {font: \"STIX-Web\"}});}</script>                <script type=\"text/javascript\">window.PlotlyConfig = {MathJaxConfig: 'local'};</script>\n",
              "        <script src=\"https://cdn.plot.ly/plotly-2.8.3.min.js\"></script>                <div id=\"a154dcbf-6163-4490-a4c3-acef9452be06\" class=\"plotly-graph-div\" style=\"height:525px; width:100%;\"></div>            <script type=\"text/javascript\">                                    window.PLOTLYENV=window.PLOTLYENV || {};                                    if (document.getElementById(\"a154dcbf-6163-4490-a4c3-acef9452be06\")) {                    Plotly.newPlot(                        \"a154dcbf-6163-4490-a4c3-acef9452be06\",                        [{\"hovertemplate\":\"x=%{x}<br>y=%{y}<br>text=%{text}<extra></extra>\",\"legendgroup\":\"\",\"marker\":{\"color\":\"#636efa\",\"symbol\":\"circle\"},\"mode\":\"markers+text\",\"name\":\"\",\"orientation\":\"v\",\"showlegend\":false,\"text\":[\"shall\",\"unto\",\"lord\",\"thou\",\"god\",\"thy\",\"wa\",\"said\",\"ye\",\"thee\",\"son\",\"upon\",\"man\",\"day\",\"king\",\"israel\",\"hath\",\"house\",\"people\",\"came\",\"one\",\"child\",\"come\",\"hand\",\"also\",\"land\",\"thing\",\"men\",\"shalt\",\"father\",\"let\",\"go\",\"saying\",\"u\",\"made\",\"went\",\"even\",\"behold\",\"city\",\"saith\",\"word\",\"therefore\",\"every\",\"hast\",\"say\",\"make\",\"may\",\"name\",\"david\",\"offering\"],\"x\":[1.9659489393234253,-0.6341257691383362,-0.5559284687042236,2.1059041023254395,-1.0637389421463013,2.193338394165039,0.26712480187416077,-1.0452067852020264,-0.08015409857034683,1.2976868152618408,-16.737436294555664,5.995861053466797,0.4716566205024719,0.24085834622383118,-8.250592231750488,-6.487575531005859,4.1901445388793945,3.3990681171417236,-1.5094153881072998,-0.32734358310699463,2.919142484664917,-9.047477722167969,0.8060731291770935,5.688401699066162,-0.19339586794376373,3.352318048477173,-4.3435750007629395,-0.8124337196350098,2.949693202972412,-1.4813088178634644,1.3990062475204468,1.888442039489746,-1.8466451168060303,-0.5126528143882751,1.8216369152069092,0.08510129153728485,0.8352207541465759,1.989237666130066,4.165879249572754,4.976825714111328,-5.175058364868164,-0.4922308027744293,3.518052816390991,3.3139424324035645,-0.03715459257364273,3.9862003326416016,1.1194485425949097,-9.263871192932129,-5.988839626312256,20.718183517456055],\"xaxis\":\"x\",\"y\":[3.1904187202453613,1.5559794902801514,2.0845787525177,5.226589202880859,3.001319408416748,4.882368087768555,-5.6106414794921875,1.7769471406936646,4.2558722496032715,3.9902679920196533,-9.871606826782227,-3.3205981254577637,1.9452426433563232,-0.9914909601211548,-11.402445793151855,-6.330212116241455,8.561907768249512,-2.9857611656188965,-0.49487408995628357,-7.939932823181152,-0.055844858288764954,-5.380789756774902,1.6730290651321411,0.5058304071426392,1.1485710144042969,-1.9545551538467407,3.5238568782806396,0.05112585052847862,5.666288375854492,0.8255040645599365,3.81217622756958,2.148906707763672,1.2995479106903076,3.371411085128784,-4.300924777984619,-8.548918724060059,0.374287873506546,-1.9214632511138916,-11.413804054260254,6.475286960601807,5.286228656768799,3.4849331378936768,0.2544735372066498,8.148425102233887,4.570952415466309,4.116275310516357,5.099095821380615,-1.3881888389587402,-9.83868408203125,7.621078014373779],\"yaxis\":\"y\",\"type\":\"scatter\"}],                        {\"template\":{\"data\":{\"bar\":[{\"error_x\":{\"color\":\"#2a3f5f\"},\"error_y\":{\"color\":\"#2a3f5f\"},\"marker\":{\"line\":{\"color\":\"#E5ECF6\",\"width\":0.5},\"pattern\":{\"fillmode\":\"overlay\",\"size\":10,\"solidity\":0.2}},\"type\":\"bar\"}],\"barpolar\":[{\"marker\":{\"line\":{\"color\":\"#E5ECF6\",\"width\":0.5},\"pattern\":{\"fillmode\":\"overlay\",\"size\":10,\"solidity\":0.2}},\"type\":\"barpolar\"}],\"carpet\":[{\"aaxis\":{\"endlinecolor\":\"#2a3f5f\",\"gridcolor\":\"white\",\"linecolor\":\"white\",\"minorgridcolor\":\"white\",\"startlinecolor\":\"#2a3f5f\"},\"baxis\":{\"endlinecolor\":\"#2a3f5f\",\"gridcolor\":\"white\",\"linecolor\":\"white\",\"minorgridcolor\":\"white\",\"startlinecolor\":\"#2a3f5f\"},\"type\":\"carpet\"}],\"choropleth\":[{\"colorbar\":{\"outlinewidth\":0,\"ticks\":\"\"},\"type\":\"choropleth\"}],\"contour\":[{\"colorbar\":{\"outlinewidth\":0,\"ticks\":\"\"},\"colorscale\":[[0.0,\"#0d0887\"],[0.1111111111111111,\"#46039f\"],[0.2222222222222222,\"#7201a8\"],[0.3333333333333333,\"#9c179e\"],[0.4444444444444444,\"#bd3786\"],[0.5555555555555556,\"#d8576b\"],[0.6666666666666666,\"#ed7953\"],[0.7777777777777778,\"#fb9f3a\"],[0.8888888888888888,\"#fdca26\"],[1.0,\"#f0f921\"]],\"type\":\"contour\"}],\"contourcarpet\":[{\"colorbar\":{\"outlinewidth\":0,\"ticks\":\"\"},\"type\":\"contourcarpet\"}],\"heatmap\":[{\"colorbar\":{\"outlinewidth\":0,\"ticks\":\"\"},\"colorscale\":[[0.0,\"#0d0887\"],[0.1111111111111111,\"#46039f\"],[0.2222222222222222,\"#7201a8\"],[0.3333333333333333,\"#9c179e\"],[0.4444444444444444,\"#bd3786\"],[0.5555555555555556,\"#d8576b\"],[0.6666666666666666,\"#ed7953\"],[0.7777777777777778,\"#fb9f3a\"],[0.8888888888888888,\"#fdca26\"],[1.0,\"#f0f921\"]],\"type\":\"heatmap\"}],\"heatmapgl\":[{\"colorbar\":{\"outlinewidth\":0,\"ticks\":\"\"},\"colorscale\":[[0.0,\"#0d0887\"],[0.1111111111111111,\"#46039f\"],[0.2222222222222222,\"#7201a8\"],[0.3333333333333333,\"#9c179e\"],[0.4444444444444444,\"#bd3786\"],[0.5555555555555556,\"#d8576b\"],[0.6666666666666666,\"#ed7953\"],[0.7777777777777778,\"#fb9f3a\"],[0.8888888888888888,\"#fdca26\"],[1.0,\"#f0f921\"]],\"type\":\"heatmapgl\"}],\"histogram\":[{\"marker\":{\"pattern\":{\"fillmode\":\"overlay\",\"size\":10,\"solidity\":0.2}},\"type\":\"histogram\"}],\"histogram2d\":[{\"colorbar\":{\"outlinewidth\":0,\"ticks\":\"\"},\"colorscale\":[[0.0,\"#0d0887\"],[0.1111111111111111,\"#46039f\"],[0.2222222222222222,\"#7201a8\"],[0.3333333333333333,\"#9c179e\"],[0.4444444444444444,\"#bd3786\"],[0.5555555555555556,\"#d8576b\"],[0.6666666666666666,\"#ed7953\"],[0.7777777777777778,\"#fb9f3a\"],[0.8888888888888888,\"#fdca26\"],[1.0,\"#f0f921\"]],\"type\":\"histogram2d\"}],\"histogram2dcontour\":[{\"colorbar\":{\"outlinewidth\":0,\"ticks\":\"\"},\"colorscale\":[[0.0,\"#0d0887\"],[0.1111111111111111,\"#46039f\"],[0.2222222222222222,\"#7201a8\"],[0.3333333333333333,\"#9c179e\"],[0.4444444444444444,\"#bd3786\"],[0.5555555555555556,\"#d8576b\"],[0.6666666666666666,\"#ed7953\"],[0.7777777777777778,\"#fb9f3a\"],[0.8888888888888888,\"#fdca26\"],[1.0,\"#f0f921\"]],\"type\":\"histogram2dcontour\"}],\"mesh3d\":[{\"colorbar\":{\"outlinewidth\":0,\"ticks\":\"\"},\"type\":\"mesh3d\"}],\"parcoords\":[{\"line\":{\"colorbar\":{\"outlinewidth\":0,\"ticks\":\"\"}},\"type\":\"parcoords\"}],\"pie\":[{\"automargin\":true,\"type\":\"pie\"}],\"scatter\":[{\"marker\":{\"colorbar\":{\"outlinewidth\":0,\"ticks\":\"\"}},\"type\":\"scatter\"}],\"scatter3d\":[{\"line\":{\"colorbar\":{\"outlinewidth\":0,\"ticks\":\"\"}},\"marker\":{\"colorbar\":{\"outlinewidth\":0,\"ticks\":\"\"}},\"type\":\"scatter3d\"}],\"scattercarpet\":[{\"marker\":{\"colorbar\":{\"outlinewidth\":0,\"ticks\":\"\"}},\"type\":\"scattercarpet\"}],\"scattergeo\":[{\"marker\":{\"colorbar\":{\"outlinewidth\":0,\"ticks\":\"\"}},\"type\":\"scattergeo\"}],\"scattergl\":[{\"marker\":{\"colorbar\":{\"outlinewidth\":0,\"ticks\":\"\"}},\"type\":\"scattergl\"}],\"scattermapbox\":[{\"marker\":{\"colorbar\":{\"outlinewidth\":0,\"ticks\":\"\"}},\"type\":\"scattermapbox\"}],\"scatterpolar\":[{\"marker\":{\"colorbar\":{\"outlinewidth\":0,\"ticks\":\"\"}},\"type\":\"scatterpolar\"}],\"scatterpolargl\":[{\"marker\":{\"colorbar\":{\"outlinewidth\":0,\"ticks\":\"\"}},\"type\":\"scatterpolargl\"}],\"scatterternary\":[{\"marker\":{\"colorbar\":{\"outlinewidth\":0,\"ticks\":\"\"}},\"type\":\"scatterternary\"}],\"surface\":[{\"colorbar\":{\"outlinewidth\":0,\"ticks\":\"\"},\"colorscale\":[[0.0,\"#0d0887\"],[0.1111111111111111,\"#46039f\"],[0.2222222222222222,\"#7201a8\"],[0.3333333333333333,\"#9c179e\"],[0.4444444444444444,\"#bd3786\"],[0.5555555555555556,\"#d8576b\"],[0.6666666666666666,\"#ed7953\"],[0.7777777777777778,\"#fb9f3a\"],[0.8888888888888888,\"#fdca26\"],[1.0,\"#f0f921\"]],\"type\":\"surface\"}],\"table\":[{\"cells\":{\"fill\":{\"color\":\"#EBF0F8\"},\"line\":{\"color\":\"white\"}},\"header\":{\"fill\":{\"color\":\"#C8D4E3\"},\"line\":{\"color\":\"white\"}},\"type\":\"table\"}]},\"layout\":{\"annotationdefaults\":{\"arrowcolor\":\"#2a3f5f\",\"arrowhead\":0,\"arrowwidth\":1},\"autotypenumbers\":\"strict\",\"coloraxis\":{\"colorbar\":{\"outlinewidth\":0,\"ticks\":\"\"}},\"colorscale\":{\"diverging\":[[0,\"#8e0152\"],[0.1,\"#c51b7d\"],[0.2,\"#de77ae\"],[0.3,\"#f1b6da\"],[0.4,\"#fde0ef\"],[0.5,\"#f7f7f7\"],[0.6,\"#e6f5d0\"],[0.7,\"#b8e186\"],[0.8,\"#7fbc41\"],[0.9,\"#4d9221\"],[1,\"#276419\"]],\"sequential\":[[0.0,\"#0d0887\"],[0.1111111111111111,\"#46039f\"],[0.2222222222222222,\"#7201a8\"],[0.3333333333333333,\"#9c179e\"],[0.4444444444444444,\"#bd3786\"],[0.5555555555555556,\"#d8576b\"],[0.6666666666666666,\"#ed7953\"],[0.7777777777777778,\"#fb9f3a\"],[0.8888888888888888,\"#fdca26\"],[1.0,\"#f0f921\"]],\"sequentialminus\":[[0.0,\"#0d0887\"],[0.1111111111111111,\"#46039f\"],[0.2222222222222222,\"#7201a8\"],[0.3333333333333333,\"#9c179e\"],[0.4444444444444444,\"#bd3786\"],[0.5555555555555556,\"#d8576b\"],[0.6666666666666666,\"#ed7953\"],[0.7777777777777778,\"#fb9f3a\"],[0.8888888888888888,\"#fdca26\"],[1.0,\"#f0f921\"]]},\"colorway\":[\"#636efa\",\"#EF553B\",\"#00cc96\",\"#ab63fa\",\"#FFA15A\",\"#19d3f3\",\"#FF6692\",\"#B6E880\",\"#FF97FF\",\"#FECB52\"],\"font\":{\"color\":\"#2a3f5f\"},\"geo\":{\"bgcolor\":\"white\",\"lakecolor\":\"white\",\"landcolor\":\"#E5ECF6\",\"showlakes\":true,\"showland\":true,\"subunitcolor\":\"white\"},\"hoverlabel\":{\"align\":\"left\"},\"hovermode\":\"closest\",\"mapbox\":{\"style\":\"light\"},\"paper_bgcolor\":\"white\",\"plot_bgcolor\":\"#E5ECF6\",\"polar\":{\"angularaxis\":{\"gridcolor\":\"white\",\"linecolor\":\"white\",\"ticks\":\"\"},\"bgcolor\":\"#E5ECF6\",\"radialaxis\":{\"gridcolor\":\"white\",\"linecolor\":\"white\",\"ticks\":\"\"}},\"scene\":{\"xaxis\":{\"backgroundcolor\":\"#E5ECF6\",\"gridcolor\":\"white\",\"gridwidth\":2,\"linecolor\":\"white\",\"showbackground\":true,\"ticks\":\"\",\"zerolinecolor\":\"white\"},\"yaxis\":{\"backgroundcolor\":\"#E5ECF6\",\"gridcolor\":\"white\",\"gridwidth\":2,\"linecolor\":\"white\",\"showbackground\":true,\"ticks\":\"\",\"zerolinecolor\":\"white\"},\"zaxis\":{\"backgroundcolor\":\"#E5ECF6\",\"gridcolor\":\"white\",\"gridwidth\":2,\"linecolor\":\"white\",\"showbackground\":true,\"ticks\":\"\",\"zerolinecolor\":\"white\"}},\"shapedefaults\":{\"line\":{\"color\":\"#2a3f5f\"}},\"ternary\":{\"aaxis\":{\"gridcolor\":\"white\",\"linecolor\":\"white\",\"ticks\":\"\"},\"baxis\":{\"gridcolor\":\"white\",\"linecolor\":\"white\",\"ticks\":\"\"},\"bgcolor\":\"#E5ECF6\",\"caxis\":{\"gridcolor\":\"white\",\"linecolor\":\"white\",\"ticks\":\"\"}},\"title\":{\"x\":0.05},\"xaxis\":{\"automargin\":true,\"gridcolor\":\"white\",\"linecolor\":\"white\",\"ticks\":\"\",\"title\":{\"standoff\":15},\"zerolinecolor\":\"white\",\"zerolinewidth\":2},\"yaxis\":{\"automargin\":true,\"gridcolor\":\"white\",\"linecolor\":\"white\",\"ticks\":\"\",\"title\":{\"standoff\":15},\"zerolinecolor\":\"white\",\"zerolinewidth\":2}}},\"xaxis\":{\"anchor\":\"y\",\"domain\":[0.0,1.0],\"title\":{\"text\":\"x\"}},\"yaxis\":{\"anchor\":\"x\",\"domain\":[0.0,1.0],\"title\":{\"text\":\"y\"}},\"legend\":{\"tracegroupgap\":0},\"margin\":{\"t\":60}},                        {\"responsive\": true}                    ).then(function(){\n",
              "                            \n",
              "var gd = document.getElementById('a154dcbf-6163-4490-a4c3-acef9452be06');\n",
              "var x = new MutationObserver(function (mutations, observer) {{\n",
              "        var display = window.getComputedStyle(gd).display;\n",
              "        if (!display || display === 'none') {{\n",
              "            console.log([gd, 'removed!']);\n",
              "            Plotly.purge(gd);\n",
              "            observer.disconnect();\n",
              "        }}\n",
              "}});\n",
              "\n",
              "// Listen for the removal of the full notebook cells\n",
              "var notebookContainer = gd.closest('#notebook-container');\n",
              "if (notebookContainer) {{\n",
              "    x.observe(notebookContainer, {childList: true});\n",
              "}}\n",
              "\n",
              "// Listen for the clearing of the current output cell\n",
              "var outputEl = gd.closest('.output');\n",
              "if (outputEl) {{\n",
              "    x.observe(outputEl, {childList: true});\n",
              "}}\n",
              "\n",
              "                        })                };                            </script>        </div>\n",
              "</body>\n",
              "</html>"
            ]
          },
          "metadata": {}
        }
      ],
      "source": [
        "# Graficar los embedddings en 2D\n",
        "import plotly.graph_objects as go\n",
        "import plotly.express as px\n",
        "\n",
        "x_vals, y_vals, labels = reduce_dimensions(w2v_model)\n",
        "\n",
        "MAX_WORDS = 50\n",
        "fig = px.scatter(x=x_vals[:MAX_WORDS], y=y_vals[:MAX_WORDS], text=labels[:MAX_WORDS])\n",
        "fig.show(renderer=\"colab\") # esto para plotly en colab"
      ]
    },
    {
      "cell_type": "code",
      "source": [
        "# Graficar los embedddings en 2D\n",
        "import plotly.graph_objects as go\n",
        "import plotly.express as px\n",
        "\n",
        "x_vals, y_vals, labels = reduce_dimensions(w2v_model)\n",
        "\n",
        "MAX_WORDS = 200\n",
        "fig = px.scatter(x=x_vals[:MAX_WORDS], y=y_vals[:MAX_WORDS], text=labels[:MAX_WORDS])\n",
        "fig.show(renderer=\"colab\") # esto para plotly en colab"
      ],
      "metadata": {
        "colab": {
          "base_uri": "https://localhost:8080/",
          "height": 681
        },
        "id": "AOxqu26BUNW3",
        "outputId": "17d38297-6824-4d3b-886e-28b6da9497c8"
      },
      "execution_count": 107,
      "outputs": [
        {
          "output_type": "stream",
          "name": "stderr",
          "text": [
            "/usr/local/lib/python3.7/dist-packages/sklearn/manifold/_t_sne.py:783: FutureWarning:\n",
            "\n",
            "The default initialization in TSNE will change from 'random' to 'pca' in 1.2.\n",
            "\n",
            "/usr/local/lib/python3.7/dist-packages/sklearn/manifold/_t_sne.py:793: FutureWarning:\n",
            "\n",
            "The default learning rate in TSNE will change from 200.0 to 'auto' in 1.2.\n",
            "\n"
          ]
        },
        {
          "output_type": "display_data",
          "data": {
            "text/html": [
              "<html>\n",
              "<head><meta charset=\"utf-8\" /></head>\n",
              "<body>\n",
              "    <div>            <script src=\"https://cdnjs.cloudflare.com/ajax/libs/mathjax/2.7.5/MathJax.js?config=TeX-AMS-MML_SVG\"></script><script type=\"text/javascript\">if (window.MathJax) {MathJax.Hub.Config({SVG: {font: \"STIX-Web\"}});}</script>                <script type=\"text/javascript\">window.PlotlyConfig = {MathJaxConfig: 'local'};</script>\n",
              "        <script src=\"https://cdn.plot.ly/plotly-2.8.3.min.js\"></script>                <div id=\"88571717-f9b7-4bbb-9a1c-1524bf8ab58c\" class=\"plotly-graph-div\" style=\"height:525px; width:100%;\"></div>            <script type=\"text/javascript\">                                    window.PLOTLYENV=window.PLOTLYENV || {};                                    if (document.getElementById(\"88571717-f9b7-4bbb-9a1c-1524bf8ab58c\")) {                    Plotly.newPlot(                        \"88571717-f9b7-4bbb-9a1c-1524bf8ab58c\",                        [{\"hovertemplate\":\"x=%{x}<br>y=%{y}<br>text=%{text}<extra></extra>\",\"legendgroup\":\"\",\"marker\":{\"color\":\"#636efa\",\"symbol\":\"circle\"},\"mode\":\"markers+text\",\"name\":\"\",\"orientation\":\"v\",\"showlegend\":false,\"text\":[\"shall\",\"unto\",\"lord\",\"thou\",\"god\",\"thy\",\"wa\",\"said\",\"ye\",\"thee\",\"son\",\"upon\",\"man\",\"day\",\"king\",\"israel\",\"hath\",\"house\",\"people\",\"came\",\"one\",\"child\",\"come\",\"hand\",\"also\",\"land\",\"thing\",\"men\",\"shalt\",\"father\",\"let\",\"go\",\"saying\",\"u\",\"made\",\"went\",\"even\",\"behold\",\"city\",\"saith\",\"word\",\"therefore\",\"every\",\"hast\",\"say\",\"make\",\"may\",\"name\",\"david\",\"offering\",\"earth\",\"jesus\",\"servant\",\"great\",\"heart\",\"thine\",\"place\",\"brother\",\"among\",\"away\",\"put\",\"thereof\",\"year\",\"priest\",\"forth\",\"give\",\"neither\",\"take\",\"way\",\"brought\",\"two\",\"pas\",\"moses\",\"judah\",\"jerusalem\",\"according\",\"time\",\"know\",\"good\",\"took\",\"thus\",\"bring\",\"heaven\",\"set\",\"sent\",\"water\",\"yet\",\"like\",\"work\",\"eat\",\"mine\",\"heard\",\"called\",\"evil\",\"sin\",\"hundred\",\"eye\",\"egypt\",\"holy\",\"see\",\"spake\",\"thousand\",\"daughter\",\"done\",\"christ\",\"many\",\"spirit\",\"saw\",\"hear\",\"fire\",\"law\",\"woman\",\"soul\",\"wife\",\"voice\",\"speak\",\"cast\",\"given\",\"art\",\"answered\",\"host\",\"side\",\"face\",\"three\",\"together\",\"nation\",\"prophet\",\"life\",\"ever\",\"might\",\"head\",\"gave\",\"seven\",\"would\",\"sword\",\"another\",\"blood\",\"commanded\",\"mouth\",\"first\",\"altar\",\"peace\",\"without\",\"sea\",\"judgment\",\"flesh\",\"gate\",\"gold\",\"high\",\"fear\",\"found\",\"glory\",\"kingdom\",\"saul\",\"old\",\"death\",\"prince\",\"enemy\",\"drink\",\"stone\",\"congregation\",\"burnt\",\"midst\",\"dead\",\"keep\",\"bread\",\"right\",\"tree\",\"end\",\"none\",\"jacob\",\"tabernacle\",\"tribe\",\"foot\",\"field\",\"wherefore\",\"left\",\"commandment\",\"toward\",\"five\",\"wicked\",\"yea\",\"stood\",\"taken\",\"dwell\",\"beast\",\"cause\",\"sight\",\"iniquity\",\"four\",\"night\",\"die\",\"cut\",\"silver\",\"round\",\"aaron\",\"mercy\",\"whose\",\"mountain\",\"pray\"],\"x\":[1.9659489393234253,-0.6341257691383362,-0.5559284687042236,2.1059041023254395,-1.0637389421463013,2.193338394165039,0.26712480187416077,-1.0452067852020264,-0.08015409857034683,1.2976868152618408,-16.737436294555664,5.995861053466797,0.4716566205024719,0.24085834622383118,-8.250592231750488,-6.487575531005859,4.1901445388793945,3.3990681171417236,-1.5094153881072998,-0.32734358310699463,2.919142484664917,-9.047477722167969,0.8060731291770935,5.688401699066162,-0.19339586794376373,3.352318048477173,-4.3435750007629395,-0.8124337196350098,2.949693202972412,-1.4813088178634644,1.3990062475204468,1.888442039489746,-1.8466451168060303,-0.5126528143882751,1.8216369152069092,0.08510129153728485,0.8352207541465759,1.989237666130066,4.165879249572754,4.976825714111328,-5.175058364868164,-0.4922308027744293,3.518052816390991,3.3139424324035645,-0.03715459257364273,3.9862003326416016,1.1194485425949097,-9.263871192932129,-5.988839626312256,20.718183517456055,9.245207786560059,-13.114907264709473,-0.6004636883735657,-1.7074384689331055,-1.6753950119018555,5.081428527832031,7.290790557861328,-13.22597599029541,-6.808804035186768,0.6952683329582214,4.541168212890625,14.113518714904785,-7.904246807098389,-9.160122871398926,4.60044527053833,2.350731372833252,1.4275915622711182,3.2817540168762207,2.921231508255005,1.329497218132019,-0.5997623801231384,-2.091855764389038,-7.174720287322998,-7.621232986450195,-4.522485733032227,-2.8024466037750244,-0.2947969138622284,-2.777026653289795,-3.0896410942077637,0.30337175726890564,5.9567036628723145,2.4843826293945312,8.8887939453125,3.970975875854492,-4.734376907348633,12.272910118103027,-1.4202982187271118,11.05616283416748,-6.476963996887207,15.524365425109863,4.394593715667725,-3.2474477291107178,-0.9876717925071716,-1.8169915676116943,1.671437382698059,-2.008233070373535,4.451192855834961,-2.5377635955810547,10.594362258911133,-1.0695664882659912,-0.9165130853652954,-1.7146176099777222,-14.359663009643555,-5.5849385261535645,-13.325668334960938,-2.873650550842285,-4.10505485534668,-0.05218895897269249,-3.4764347076416016,13.461194038391113,-6.842570781707764,1.6338447332382202,-0.007617787458002567,-14.72613525390625,-5.547670364379883,-5.992058753967285,7.857062816619873,-8.300721168518066,2.408961772918701,-1.5303012132644653,-3.50313138961792,9.295807838439941,6.526331424713135,-0.8134253621101379,-3.1755993366241455,-5.526214122772217,-7.542725563049316,-4.131335735321045,-11.357552528381348,-8.044812202453613,16.18868064880371,0.25441667437553406,-1.1453863382339478,0.16344143450260162,6.146655082702637,3.076413631439209,14.694287300109863,-6.678244113922119,5.704529285430908,0.09695463627576828,17.85790252685547,8.54619026184082,8.299023628234863,10.452576637268066,-1.9236090183258057,13.072455406188965,12.986997604370117,21.97552490234375,6.177079677581787,-1.2384319305419922,1.3083511590957642,-9.94443416595459,-9.186386108398438,-5.423872947692871,-0.03052743338048458,-7.071293830871582,-11.10385799407959,6.867030620574951,16.1699161529541,15.920634269714355,-7.848287582397461,21.034839630126953,7.455460548400879,-14.776274681091309,-4.844516277313232,17.40207290649414,6.088425636291504,18.032894134521484,0.3544170558452606,0.14596021175384521,-5.913857936859131,15.278987884521484,-13.920036315917969,18.26633644104004,15.908647537231445,-1.9372965097427368,2.4457180500030518,-5.41121768951416,8.192214965820312,-1.5221256017684937,1.2400927543640137,5.8835530281066895,1.880169153213501,3.300598621368408,8.969124794006348,11.81229019165039,0.9954318404197693,-6.278772830963135,1.8260008096694946,-0.5985528826713562,0.870891809463501,0.9818773865699768,7.802394866943359,22.012874603271484,6.593470573425293,-8.09677505493164,-3.8550024032592773,8.346811294555664,9.013813972473145,5.068648338317871],\"xaxis\":\"x\",\"y\":[3.1904187202453613,1.5559794902801514,2.0845787525177,5.226589202880859,3.001319408416748,4.882368087768555,-5.6106414794921875,1.7769471406936646,4.2558722496032715,3.9902679920196533,-9.871606826782227,-3.3205981254577637,1.9452426433563232,-0.9914909601211548,-11.402445793151855,-6.330212116241455,8.561907768249512,-2.9857611656188965,-0.49487408995628357,-7.939932823181152,-0.055844858288764954,-5.380789756774902,1.6730290651321411,0.5058304071426392,1.1485710144042969,-1.9545551538467407,3.5238568782806396,0.05112585052847862,5.666288375854492,0.8255040645599365,3.81217622756958,2.148906707763672,1.2995479106903076,3.371411085128784,-4.300924777984619,-8.548918724060059,0.374287873506546,-1.9214632511138916,-11.413804054260254,6.475286960601807,5.286228656768799,3.4849331378936768,0.2544735372066498,8.148425102233887,4.570952415466309,4.116275310516357,5.099095821380615,-1.3881888389587402,-9.83868408203125,7.621078014373779,-5.7590227127075195,0.5883562564849854,2.1991372108459473,-2.0687010288238525,6.8573102951049805,11.122200012207031,-8.049012184143066,-3.7455828189849854,-2.4833552837371826,-3.942755699157715,1.390999674797058,-6.529438495635986,-21.43987274169922,-7.8224029541015625,-2.555356979370117,10.510704040527344,3.513458728790283,3.283320665359497,1.220399260520935,-5.95863676071167,-18.874971389770508,-6.905823230743408,-5.100686073303223,-13.963118553161621,-13.111114501953125,2.1746904850006104,-0.8150292634963989,5.308192253112793,9.877436637878418,-8.386641502380371,6.761966705322266,3.2867512702941895,-5.730104446411133,-3.7989304065704346,-6.382896900177002,-6.506163597106934,4.054318904876709,-2.081450939178467,4.257807731628418,8.340110778808594,11.110220909118652,-4.520309925079346,-5.725024223327637,10.762189865112305,19.44658088684082,-20.96662712097168,10.641204833984375,-3.5277233123779297,6.255285739898682,4.194803237915039,-7.236307621002197,-21.002391815185547,-6.65155029296875,1.4154720306396484,2.7673776149749756,-0.6090049743652344,5.504642963409424,-7.010171413421631,6.776318550109863,-2.8170828819274902,10.61345386505127,-0.580717146396637,12.310470581054688,-5.8799967765808105,-0.3399881422519684,6.813821792602539,-3.514218807220459,9.01445198059082,7.249782562255859,1.6634005308151245,-2.377565622329712,-13.889102935791016,-5.848885536193848,-18.739831924438477,-8.093963623046875,-2.1370389461517334,0.38500267267227173,16.063993453979492,10.093640327453613,2.4288504123687744,-2.9602386951446533,-5.73807954788208,-18.86526870727539,6.408254146575928,-1.0290508270263672,0.09486765414476395,5.753050327301025,-0.9965776205062866,3.6257643699645996,0.03366244584321976,-6.739842414855957,7.5406293869018555,9.77695369720459,-7.746553421020508,12.580126762390137,7.445154666900635,-12.4144926071167,-8.06499195098877,-8.379228591918945,9.226444244384766,-2.926043748855591,6.605236053466797,4.6696577072143555,-9.855971336364746,-22.999099731445312,17.14229393005371,-7.323657035827637,10.81856632232666,8.53626823425293,-8.813857078552246,-5.472824573516846,7.485589027404785,-4.049631118774414,2.109123468399048,9.90927791595459,6.041536808013916,1.1114916801452637,-13.460478782653809,0.39685356616973877,2.0602965354919434,-7.404272556304932,-11.76186752319336,-10.508879661560059,-1.2197115421295166,2.5139482021331787,3.0220367908477783,-5.88120174407959,10.866256713867188,-13.31833553314209,-20.243268966674805,14.268686294555664,8.17158031463623,-7.454877853393555,-5.009885787963867,0.7889379262924194,-4.135254383087158,5.952339172363281,0.6105378866195679,17.48785400390625,-19.130054473876953,-1.8737741708755493,7.922537326812744,-1.0006840229034424,-7.994088649749756,-4.992081642150879,-6.497960567474365,13.27783203125,2.0743284225463867,-10.1763916015625,13.895441055297852],\"yaxis\":\"y\",\"type\":\"scatter\"}],                        {\"template\":{\"data\":{\"bar\":[{\"error_x\":{\"color\":\"#2a3f5f\"},\"error_y\":{\"color\":\"#2a3f5f\"},\"marker\":{\"line\":{\"color\":\"#E5ECF6\",\"width\":0.5},\"pattern\":{\"fillmode\":\"overlay\",\"size\":10,\"solidity\":0.2}},\"type\":\"bar\"}],\"barpolar\":[{\"marker\":{\"line\":{\"color\":\"#E5ECF6\",\"width\":0.5},\"pattern\":{\"fillmode\":\"overlay\",\"size\":10,\"solidity\":0.2}},\"type\":\"barpolar\"}],\"carpet\":[{\"aaxis\":{\"endlinecolor\":\"#2a3f5f\",\"gridcolor\":\"white\",\"linecolor\":\"white\",\"minorgridcolor\":\"white\",\"startlinecolor\":\"#2a3f5f\"},\"baxis\":{\"endlinecolor\":\"#2a3f5f\",\"gridcolor\":\"white\",\"linecolor\":\"white\",\"minorgridcolor\":\"white\",\"startlinecolor\":\"#2a3f5f\"},\"type\":\"carpet\"}],\"choropleth\":[{\"colorbar\":{\"outlinewidth\":0,\"ticks\":\"\"},\"type\":\"choropleth\"}],\"contour\":[{\"colorbar\":{\"outlinewidth\":0,\"ticks\":\"\"},\"colorscale\":[[0.0,\"#0d0887\"],[0.1111111111111111,\"#46039f\"],[0.2222222222222222,\"#7201a8\"],[0.3333333333333333,\"#9c179e\"],[0.4444444444444444,\"#bd3786\"],[0.5555555555555556,\"#d8576b\"],[0.6666666666666666,\"#ed7953\"],[0.7777777777777778,\"#fb9f3a\"],[0.8888888888888888,\"#fdca26\"],[1.0,\"#f0f921\"]],\"type\":\"contour\"}],\"contourcarpet\":[{\"colorbar\":{\"outlinewidth\":0,\"ticks\":\"\"},\"type\":\"contourcarpet\"}],\"heatmap\":[{\"colorbar\":{\"outlinewidth\":0,\"ticks\":\"\"},\"colorscale\":[[0.0,\"#0d0887\"],[0.1111111111111111,\"#46039f\"],[0.2222222222222222,\"#7201a8\"],[0.3333333333333333,\"#9c179e\"],[0.4444444444444444,\"#bd3786\"],[0.5555555555555556,\"#d8576b\"],[0.6666666666666666,\"#ed7953\"],[0.7777777777777778,\"#fb9f3a\"],[0.8888888888888888,\"#fdca26\"],[1.0,\"#f0f921\"]],\"type\":\"heatmap\"}],\"heatmapgl\":[{\"colorbar\":{\"outlinewidth\":0,\"ticks\":\"\"},\"colorscale\":[[0.0,\"#0d0887\"],[0.1111111111111111,\"#46039f\"],[0.2222222222222222,\"#7201a8\"],[0.3333333333333333,\"#9c179e\"],[0.4444444444444444,\"#bd3786\"],[0.5555555555555556,\"#d8576b\"],[0.6666666666666666,\"#ed7953\"],[0.7777777777777778,\"#fb9f3a\"],[0.8888888888888888,\"#fdca26\"],[1.0,\"#f0f921\"]],\"type\":\"heatmapgl\"}],\"histogram\":[{\"marker\":{\"pattern\":{\"fillmode\":\"overlay\",\"size\":10,\"solidity\":0.2}},\"type\":\"histogram\"}],\"histogram2d\":[{\"colorbar\":{\"outlinewidth\":0,\"ticks\":\"\"},\"colorscale\":[[0.0,\"#0d0887\"],[0.1111111111111111,\"#46039f\"],[0.2222222222222222,\"#7201a8\"],[0.3333333333333333,\"#9c179e\"],[0.4444444444444444,\"#bd3786\"],[0.5555555555555556,\"#d8576b\"],[0.6666666666666666,\"#ed7953\"],[0.7777777777777778,\"#fb9f3a\"],[0.8888888888888888,\"#fdca26\"],[1.0,\"#f0f921\"]],\"type\":\"histogram2d\"}],\"histogram2dcontour\":[{\"colorbar\":{\"outlinewidth\":0,\"ticks\":\"\"},\"colorscale\":[[0.0,\"#0d0887\"],[0.1111111111111111,\"#46039f\"],[0.2222222222222222,\"#7201a8\"],[0.3333333333333333,\"#9c179e\"],[0.4444444444444444,\"#bd3786\"],[0.5555555555555556,\"#d8576b\"],[0.6666666666666666,\"#ed7953\"],[0.7777777777777778,\"#fb9f3a\"],[0.8888888888888888,\"#fdca26\"],[1.0,\"#f0f921\"]],\"type\":\"histogram2dcontour\"}],\"mesh3d\":[{\"colorbar\":{\"outlinewidth\":0,\"ticks\":\"\"},\"type\":\"mesh3d\"}],\"parcoords\":[{\"line\":{\"colorbar\":{\"outlinewidth\":0,\"ticks\":\"\"}},\"type\":\"parcoords\"}],\"pie\":[{\"automargin\":true,\"type\":\"pie\"}],\"scatter\":[{\"marker\":{\"colorbar\":{\"outlinewidth\":0,\"ticks\":\"\"}},\"type\":\"scatter\"}],\"scatter3d\":[{\"line\":{\"colorbar\":{\"outlinewidth\":0,\"ticks\":\"\"}},\"marker\":{\"colorbar\":{\"outlinewidth\":0,\"ticks\":\"\"}},\"type\":\"scatter3d\"}],\"scattercarpet\":[{\"marker\":{\"colorbar\":{\"outlinewidth\":0,\"ticks\":\"\"}},\"type\":\"scattercarpet\"}],\"scattergeo\":[{\"marker\":{\"colorbar\":{\"outlinewidth\":0,\"ticks\":\"\"}},\"type\":\"scattergeo\"}],\"scattergl\":[{\"marker\":{\"colorbar\":{\"outlinewidth\":0,\"ticks\":\"\"}},\"type\":\"scattergl\"}],\"scattermapbox\":[{\"marker\":{\"colorbar\":{\"outlinewidth\":0,\"ticks\":\"\"}},\"type\":\"scattermapbox\"}],\"scatterpolar\":[{\"marker\":{\"colorbar\":{\"outlinewidth\":0,\"ticks\":\"\"}},\"type\":\"scatterpolar\"}],\"scatterpolargl\":[{\"marker\":{\"colorbar\":{\"outlinewidth\":0,\"ticks\":\"\"}},\"type\":\"scatterpolargl\"}],\"scatterternary\":[{\"marker\":{\"colorbar\":{\"outlinewidth\":0,\"ticks\":\"\"}},\"type\":\"scatterternary\"}],\"surface\":[{\"colorbar\":{\"outlinewidth\":0,\"ticks\":\"\"},\"colorscale\":[[0.0,\"#0d0887\"],[0.1111111111111111,\"#46039f\"],[0.2222222222222222,\"#7201a8\"],[0.3333333333333333,\"#9c179e\"],[0.4444444444444444,\"#bd3786\"],[0.5555555555555556,\"#d8576b\"],[0.6666666666666666,\"#ed7953\"],[0.7777777777777778,\"#fb9f3a\"],[0.8888888888888888,\"#fdca26\"],[1.0,\"#f0f921\"]],\"type\":\"surface\"}],\"table\":[{\"cells\":{\"fill\":{\"color\":\"#EBF0F8\"},\"line\":{\"color\":\"white\"}},\"header\":{\"fill\":{\"color\":\"#C8D4E3\"},\"line\":{\"color\":\"white\"}},\"type\":\"table\"}]},\"layout\":{\"annotationdefaults\":{\"arrowcolor\":\"#2a3f5f\",\"arrowhead\":0,\"arrowwidth\":1},\"autotypenumbers\":\"strict\",\"coloraxis\":{\"colorbar\":{\"outlinewidth\":0,\"ticks\":\"\"}},\"colorscale\":{\"diverging\":[[0,\"#8e0152\"],[0.1,\"#c51b7d\"],[0.2,\"#de77ae\"],[0.3,\"#f1b6da\"],[0.4,\"#fde0ef\"],[0.5,\"#f7f7f7\"],[0.6,\"#e6f5d0\"],[0.7,\"#b8e186\"],[0.8,\"#7fbc41\"],[0.9,\"#4d9221\"],[1,\"#276419\"]],\"sequential\":[[0.0,\"#0d0887\"],[0.1111111111111111,\"#46039f\"],[0.2222222222222222,\"#7201a8\"],[0.3333333333333333,\"#9c179e\"],[0.4444444444444444,\"#bd3786\"],[0.5555555555555556,\"#d8576b\"],[0.6666666666666666,\"#ed7953\"],[0.7777777777777778,\"#fb9f3a\"],[0.8888888888888888,\"#fdca26\"],[1.0,\"#f0f921\"]],\"sequentialminus\":[[0.0,\"#0d0887\"],[0.1111111111111111,\"#46039f\"],[0.2222222222222222,\"#7201a8\"],[0.3333333333333333,\"#9c179e\"],[0.4444444444444444,\"#bd3786\"],[0.5555555555555556,\"#d8576b\"],[0.6666666666666666,\"#ed7953\"],[0.7777777777777778,\"#fb9f3a\"],[0.8888888888888888,\"#fdca26\"],[1.0,\"#f0f921\"]]},\"colorway\":[\"#636efa\",\"#EF553B\",\"#00cc96\",\"#ab63fa\",\"#FFA15A\",\"#19d3f3\",\"#FF6692\",\"#B6E880\",\"#FF97FF\",\"#FECB52\"],\"font\":{\"color\":\"#2a3f5f\"},\"geo\":{\"bgcolor\":\"white\",\"lakecolor\":\"white\",\"landcolor\":\"#E5ECF6\",\"showlakes\":true,\"showland\":true,\"subunitcolor\":\"white\"},\"hoverlabel\":{\"align\":\"left\"},\"hovermode\":\"closest\",\"mapbox\":{\"style\":\"light\"},\"paper_bgcolor\":\"white\",\"plot_bgcolor\":\"#E5ECF6\",\"polar\":{\"angularaxis\":{\"gridcolor\":\"white\",\"linecolor\":\"white\",\"ticks\":\"\"},\"bgcolor\":\"#E5ECF6\",\"radialaxis\":{\"gridcolor\":\"white\",\"linecolor\":\"white\",\"ticks\":\"\"}},\"scene\":{\"xaxis\":{\"backgroundcolor\":\"#E5ECF6\",\"gridcolor\":\"white\",\"gridwidth\":2,\"linecolor\":\"white\",\"showbackground\":true,\"ticks\":\"\",\"zerolinecolor\":\"white\"},\"yaxis\":{\"backgroundcolor\":\"#E5ECF6\",\"gridcolor\":\"white\",\"gridwidth\":2,\"linecolor\":\"white\",\"showbackground\":true,\"ticks\":\"\",\"zerolinecolor\":\"white\"},\"zaxis\":{\"backgroundcolor\":\"#E5ECF6\",\"gridcolor\":\"white\",\"gridwidth\":2,\"linecolor\":\"white\",\"showbackground\":true,\"ticks\":\"\",\"zerolinecolor\":\"white\"}},\"shapedefaults\":{\"line\":{\"color\":\"#2a3f5f\"}},\"ternary\":{\"aaxis\":{\"gridcolor\":\"white\",\"linecolor\":\"white\",\"ticks\":\"\"},\"baxis\":{\"gridcolor\":\"white\",\"linecolor\":\"white\",\"ticks\":\"\"},\"bgcolor\":\"#E5ECF6\",\"caxis\":{\"gridcolor\":\"white\",\"linecolor\":\"white\",\"ticks\":\"\"}},\"title\":{\"x\":0.05},\"xaxis\":{\"automargin\":true,\"gridcolor\":\"white\",\"linecolor\":\"white\",\"ticks\":\"\",\"title\":{\"standoff\":15},\"zerolinecolor\":\"white\",\"zerolinewidth\":2},\"yaxis\":{\"automargin\":true,\"gridcolor\":\"white\",\"linecolor\":\"white\",\"ticks\":\"\",\"title\":{\"standoff\":15},\"zerolinecolor\":\"white\",\"zerolinewidth\":2}}},\"xaxis\":{\"anchor\":\"y\",\"domain\":[0.0,1.0],\"title\":{\"text\":\"x\"}},\"yaxis\":{\"anchor\":\"x\",\"domain\":[0.0,1.0],\"title\":{\"text\":\"y\"}},\"legend\":{\"tracegroupgap\":0},\"margin\":{\"t\":60}},                        {\"responsive\": true}                    ).then(function(){\n",
              "                            \n",
              "var gd = document.getElementById('88571717-f9b7-4bbb-9a1c-1524bf8ab58c');\n",
              "var x = new MutationObserver(function (mutations, observer) {{\n",
              "        var display = window.getComputedStyle(gd).display;\n",
              "        if (!display || display === 'none') {{\n",
              "            console.log([gd, 'removed!']);\n",
              "            Plotly.purge(gd);\n",
              "            observer.disconnect();\n",
              "        }}\n",
              "}});\n",
              "\n",
              "// Listen for the removal of the full notebook cells\n",
              "var notebookContainer = gd.closest('#notebook-container');\n",
              "if (notebookContainer) {{\n",
              "    x.observe(notebookContainer, {childList: true});\n",
              "}}\n",
              "\n",
              "// Listen for the clearing of the current output cell\n",
              "var outputEl = gd.closest('.output');\n",
              "if (outputEl) {{\n",
              "    x.observe(outputEl, {childList: true});\n",
              "}}\n",
              "\n",
              "                        })                };                            </script>        </div>\n",
              "</body>\n",
              "</html>"
            ]
          },
          "metadata": {}
        }
      ]
    },
    {
      "cell_type": "markdown",
      "source": [
        "### Explicación y conclusiones"
      ],
      "metadata": {
        "id": "s_13pC6rUUxl"
      }
    },
    {
      "cell_type": "markdown",
      "source": [
        "Se quiso intentar otro modelo. En esta ocasión, se lematizaron las palabras, y se retiraron las stopwords, lo que significó en una reducción de aproximadamente 18% en el vocabulario.\n",
        "\n",
        "Para sorpresa, el modelo performa peor, en la medida en que las palabras que guardan relación son menos razobales entre sí. Las palabras que en el anterior modelo resultaron muy bien, en esta oportunidad arrojan similitudes no muy buenas, como 'god' que la relacionan con preposiciones y palabras con poco sentido. De la misma manera, las palabras con relación opuesta son poco acertadas.\n",
        "\n",
        "Pasando al gráfico en 2D, los resultados tampoco son muy buenos. Hay algunas buenas relaciones cercanas, como 'life' and 'death', 'flesh' y 'blood', 'good' y 'evil', y 'priest' con 'king' y 'prince'.\n"
      ],
      "metadata": {
        "id": "7DkwYyE5UZPt"
      }
    },
    {
      "cell_type": "markdown",
      "metadata": {
        "id": "yMM_SHSaZ9N-"
      },
      "source": [
        "### Alumno"
      ]
    },
    {
      "cell_type": "markdown",
      "metadata": {
        "id": "WivQZ3ZCZ9N_"
      },
      "source": [
        "- Crear sus propios vectores con Gensim basado en lo visto en clase con otro dataset.\n",
        "- Probar términos de interés y explicar similitudes en el espacio de embeddings (sacar conclusiones entre palabras similitudes y diferencias).\n",
        "- Graficarlos.\n",
        "- Obtener conclusiones."
      ]
    }
  ],
  "metadata": {
    "colab": {
      "collapsed_sections": [],
      "provenance": []
    },
    "kernelspec": {
      "display_name": "Python 3.9.7 ('base')",
      "language": "python",
      "name": "python3"
    },
    "language_info": {
      "codemirror_mode": {
        "name": "ipython",
        "version": 3
      },
      "file_extension": ".py",
      "mimetype": "text/x-python",
      "name": "python",
      "nbconvert_exporter": "python",
      "pygments_lexer": "ipython3",
      "version": "3.9.7"
    },
    "vscode": {
      "interpreter": {
        "hash": "c8a0940028874119965631fd90c0f950b350c5eaa515e65a018cdb674f73f8ea"
      }
    },
    "accelerator": "GPU",
    "gpuClass": "standard"
  },
  "nbformat": 4,
  "nbformat_minor": 0
}

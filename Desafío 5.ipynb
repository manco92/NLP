{
  "nbformat": 4,
  "nbformat_minor": 0,
  "metadata": {
    "colab": {
      "provenance": []
    },
    "kernelspec": {
      "name": "python3",
      "display_name": "Python 3"
    },
    "language_info": {
      "name": "python"
    },
    "accelerator": "GPU"
  },
  "cells": [
    {
      "cell_type": "markdown",
      "metadata": {
        "id": "kBLpTr7plguX"
      },
      "source": [
        "<img src=\"https://github.com/hernancontigiani/ceia_memorias_especializacion/raw/master/Figures/logoFIUBA.jpg\" width=\"500\" align=\"center\">\n",
        "\n",
        "\n",
        "# Procesamiento de lenguaje natural\n",
        "## Sentiment analysis con Embeddings + LSTM"
      ]
    },
    {
      "cell_type": "markdown",
      "metadata": {
        "id": "9W6nuajhlqZD"
      },
      "source": [
        "### Objetivo\n",
        "El objetivo es utilizar las críticas de compradores de ropa para que el sistema determine la evaluación del comprador y su crítica (cuantas estrellas le asigna al producto)."
      ]
    },
    {
      "cell_type": "code",
      "source": [
        "!pip install --upgrade --no-cache-dir gdown --quiet"
      ],
      "metadata": {
        "id": "i6zvzv3qZ6xS",
        "colab": {
          "base_uri": "https://localhost:8080/"
        },
        "outputId": "b567efde-77ea-4291-9113-d122d1aaed07"
      },
      "execution_count": 1,
      "outputs": [
        {
          "output_type": "stream",
          "name": "stdout",
          "text": [
            "  Installing build dependencies ... \u001b[?25l\u001b[?25hdone\n",
            "  Getting requirements to build wheel ... \u001b[?25l\u001b[?25hdone\n",
            "    Preparing wheel metadata ... \u001b[?25l\u001b[?25hdone\n",
            "  Building wheel for gdown (PEP 517) ... \u001b[?25l\u001b[?25hdone\n"
          ]
        }
      ]
    },
    {
      "cell_type": "code",
      "metadata": {
        "id": "hCpOVzJdl8_p"
      },
      "source": [
        "import numpy as np\n",
        "import random\n",
        "import io\n",
        "import pickle\n",
        "import pandas as pd\n",
        "\n",
        "import matplotlib.pyplot as plt\n",
        "import seaborn as sns\n",
        "\n",
        "import tensorflow as tf\n",
        "from tensorflow import keras\n",
        "from tensorflow.keras import layers\n",
        "\n",
        "from keras.utils.np_utils import to_categorical\n",
        "from tensorflow.keras.utils import pad_sequences\n",
        "from keras.models import Sequential\n",
        "from keras.layers import Dense\n",
        "from keras.layers import LSTM\n",
        "from keras.layers import Embedding"
      ],
      "execution_count": 2,
      "outputs": []
    },
    {
      "cell_type": "markdown",
      "metadata": {
        "id": "8UPeRkrAmbF3"
      },
      "source": [
        "### Datos\n",
        "Utilizaremos como dataset críticas de compradores de ropa (eCommerce) los cuales puntuaron a cada prenda con un puntaje de 1 a 5 estrellas.\\\n",
        "Referencia del dataset: [LINK](https://www.kaggle.com/nicapotato/womens-ecommerce-clothing-reviews/version/1)"
      ]
    },
    {
      "cell_type": "code",
      "metadata": {
        "id": "C7jLvTU3lSyL",
        "colab": {
          "base_uri": "https://localhost:8080/"
        },
        "outputId": "98345c71-523a-4454-a74e-58dddda36c20"
      },
      "source": [
        "# Descargar la carpeta de dataset\n",
        "import os\n",
        "import gdown\n",
        "if os.access('clothing_ecommerce_reviews.csv', os.F_OK) is False:\n",
        "    url = 'https://drive.google.com/uc?id=1Urn1UFSrodN5BuW6-sc_igtaySGRwhV8'\n",
        "    output = 'clothing_ecommerce_reviews.csv'\n",
        "    gdown.download(url, output, quiet=False)\n",
        "else:\n",
        "    print(\"El dataset ya se encuentra descargado\")"
      ],
      "execution_count": 3,
      "outputs": [
        {
          "output_type": "stream",
          "name": "stderr",
          "text": [
            "Downloading...\n",
            "From: https://drive.google.com/uc?id=1Urn1UFSrodN5BuW6-sc_igtaySGRwhV8\n",
            "To: /content/clothing_ecommerce_reviews.csv\n",
            "100%|██████████| 8.48M/8.48M [00:00<00:00, 36.0MB/s]\n"
          ]
        }
      ]
    },
    {
      "cell_type": "code",
      "metadata": {
        "id": "o-SV1P3dnD1J",
        "colab": {
          "base_uri": "https://localhost:8080/",
          "height": 206
        },
        "outputId": "4e85b348-37d9-4fb2-a125-65cd1376d239"
      },
      "source": [
        "# Armar el dataset\n",
        "df = pd.read_csv('clothing_ecommerce_reviews.csv')\n",
        "df.drop(columns = ['Unnamed: 0'], inplace = True)\n",
        "df.head()"
      ],
      "execution_count": 4,
      "outputs": [
        {
          "output_type": "execute_result",
          "data": {
            "text/plain": [
              "   Clothing ID  Age                    Title  \\\n",
              "0          767   33                      NaN   \n",
              "1         1080   34                      NaN   \n",
              "2         1077   60  Some major design flaws   \n",
              "3         1049   50         My favorite buy!   \n",
              "4          847   47         Flattering shirt   \n",
              "\n",
              "                                         Review Text  Rating  Recommended IND  \\\n",
              "0  Absolutely wonderful - silky and sexy and comf...       4                1   \n",
              "1  Love this dress!  it's sooo pretty.  i happene...       5                1   \n",
              "2  I had such high hopes for this dress and reall...       3                0   \n",
              "3  I love, love, love this jumpsuit. it's fun, fl...       5                1   \n",
              "4  This shirt is very flattering to all due to th...       5                1   \n",
              "\n",
              "   Positive Feedback Count   Division Name Department Name Class Name  \n",
              "0                        0       Initmates        Intimate  Intimates  \n",
              "1                        4         General         Dresses    Dresses  \n",
              "2                        0         General         Dresses    Dresses  \n",
              "3                        0  General Petite         Bottoms      Pants  \n",
              "4                        6         General            Tops    Blouses  "
            ],
            "text/html": [
              "\n",
              "  <div id=\"df-a3c35dda-e842-4519-8322-61c0e427ba7c\">\n",
              "    <div class=\"colab-df-container\">\n",
              "      <div>\n",
              "<style scoped>\n",
              "    .dataframe tbody tr th:only-of-type {\n",
              "        vertical-align: middle;\n",
              "    }\n",
              "\n",
              "    .dataframe tbody tr th {\n",
              "        vertical-align: top;\n",
              "    }\n",
              "\n",
              "    .dataframe thead th {\n",
              "        text-align: right;\n",
              "    }\n",
              "</style>\n",
              "<table border=\"1\" class=\"dataframe\">\n",
              "  <thead>\n",
              "    <tr style=\"text-align: right;\">\n",
              "      <th></th>\n",
              "      <th>Clothing ID</th>\n",
              "      <th>Age</th>\n",
              "      <th>Title</th>\n",
              "      <th>Review Text</th>\n",
              "      <th>Rating</th>\n",
              "      <th>Recommended IND</th>\n",
              "      <th>Positive Feedback Count</th>\n",
              "      <th>Division Name</th>\n",
              "      <th>Department Name</th>\n",
              "      <th>Class Name</th>\n",
              "    </tr>\n",
              "  </thead>\n",
              "  <tbody>\n",
              "    <tr>\n",
              "      <th>0</th>\n",
              "      <td>767</td>\n",
              "      <td>33</td>\n",
              "      <td>NaN</td>\n",
              "      <td>Absolutely wonderful - silky and sexy and comf...</td>\n",
              "      <td>4</td>\n",
              "      <td>1</td>\n",
              "      <td>0</td>\n",
              "      <td>Initmates</td>\n",
              "      <td>Intimate</td>\n",
              "      <td>Intimates</td>\n",
              "    </tr>\n",
              "    <tr>\n",
              "      <th>1</th>\n",
              "      <td>1080</td>\n",
              "      <td>34</td>\n",
              "      <td>NaN</td>\n",
              "      <td>Love this dress!  it's sooo pretty.  i happene...</td>\n",
              "      <td>5</td>\n",
              "      <td>1</td>\n",
              "      <td>4</td>\n",
              "      <td>General</td>\n",
              "      <td>Dresses</td>\n",
              "      <td>Dresses</td>\n",
              "    </tr>\n",
              "    <tr>\n",
              "      <th>2</th>\n",
              "      <td>1077</td>\n",
              "      <td>60</td>\n",
              "      <td>Some major design flaws</td>\n",
              "      <td>I had such high hopes for this dress and reall...</td>\n",
              "      <td>3</td>\n",
              "      <td>0</td>\n",
              "      <td>0</td>\n",
              "      <td>General</td>\n",
              "      <td>Dresses</td>\n",
              "      <td>Dresses</td>\n",
              "    </tr>\n",
              "    <tr>\n",
              "      <th>3</th>\n",
              "      <td>1049</td>\n",
              "      <td>50</td>\n",
              "      <td>My favorite buy!</td>\n",
              "      <td>I love, love, love this jumpsuit. it's fun, fl...</td>\n",
              "      <td>5</td>\n",
              "      <td>1</td>\n",
              "      <td>0</td>\n",
              "      <td>General Petite</td>\n",
              "      <td>Bottoms</td>\n",
              "      <td>Pants</td>\n",
              "    </tr>\n",
              "    <tr>\n",
              "      <th>4</th>\n",
              "      <td>847</td>\n",
              "      <td>47</td>\n",
              "      <td>Flattering shirt</td>\n",
              "      <td>This shirt is very flattering to all due to th...</td>\n",
              "      <td>5</td>\n",
              "      <td>1</td>\n",
              "      <td>6</td>\n",
              "      <td>General</td>\n",
              "      <td>Tops</td>\n",
              "      <td>Blouses</td>\n",
              "    </tr>\n",
              "  </tbody>\n",
              "</table>\n",
              "</div>\n",
              "      <button class=\"colab-df-convert\" onclick=\"convertToInteractive('df-a3c35dda-e842-4519-8322-61c0e427ba7c')\"\n",
              "              title=\"Convert this dataframe to an interactive table.\"\n",
              "              style=\"display:none;\">\n",
              "        \n",
              "  <svg xmlns=\"http://www.w3.org/2000/svg\" height=\"24px\"viewBox=\"0 0 24 24\"\n",
              "       width=\"24px\">\n",
              "    <path d=\"M0 0h24v24H0V0z\" fill=\"none\"/>\n",
              "    <path d=\"M18.56 5.44l.94 2.06.94-2.06 2.06-.94-2.06-.94-.94-2.06-.94 2.06-2.06.94zm-11 1L8.5 8.5l.94-2.06 2.06-.94-2.06-.94L8.5 2.5l-.94 2.06-2.06.94zm10 10l.94 2.06.94-2.06 2.06-.94-2.06-.94-.94-2.06-.94 2.06-2.06.94z\"/><path d=\"M17.41 7.96l-1.37-1.37c-.4-.4-.92-.59-1.43-.59-.52 0-1.04.2-1.43.59L10.3 9.45l-7.72 7.72c-.78.78-.78 2.05 0 2.83L4 21.41c.39.39.9.59 1.41.59.51 0 1.02-.2 1.41-.59l7.78-7.78 2.81-2.81c.8-.78.8-2.07 0-2.86zM5.41 20L4 18.59l7.72-7.72 1.47 1.35L5.41 20z\"/>\n",
              "  </svg>\n",
              "      </button>\n",
              "      \n",
              "  <style>\n",
              "    .colab-df-container {\n",
              "      display:flex;\n",
              "      flex-wrap:wrap;\n",
              "      gap: 12px;\n",
              "    }\n",
              "\n",
              "    .colab-df-convert {\n",
              "      background-color: #E8F0FE;\n",
              "      border: none;\n",
              "      border-radius: 50%;\n",
              "      cursor: pointer;\n",
              "      display: none;\n",
              "      fill: #1967D2;\n",
              "      height: 32px;\n",
              "      padding: 0 0 0 0;\n",
              "      width: 32px;\n",
              "    }\n",
              "\n",
              "    .colab-df-convert:hover {\n",
              "      background-color: #E2EBFA;\n",
              "      box-shadow: 0px 1px 2px rgba(60, 64, 67, 0.3), 0px 1px 3px 1px rgba(60, 64, 67, 0.15);\n",
              "      fill: #174EA6;\n",
              "    }\n",
              "\n",
              "    [theme=dark] .colab-df-convert {\n",
              "      background-color: #3B4455;\n",
              "      fill: #D2E3FC;\n",
              "    }\n",
              "\n",
              "    [theme=dark] .colab-df-convert:hover {\n",
              "      background-color: #434B5C;\n",
              "      box-shadow: 0px 1px 3px 1px rgba(0, 0, 0, 0.15);\n",
              "      filter: drop-shadow(0px 1px 2px rgba(0, 0, 0, 0.3));\n",
              "      fill: #FFFFFF;\n",
              "    }\n",
              "  </style>\n",
              "\n",
              "      <script>\n",
              "        const buttonEl =\n",
              "          document.querySelector('#df-a3c35dda-e842-4519-8322-61c0e427ba7c button.colab-df-convert');\n",
              "        buttonEl.style.display =\n",
              "          google.colab.kernel.accessAllowed ? 'block' : 'none';\n",
              "\n",
              "        async function convertToInteractive(key) {\n",
              "          const element = document.querySelector('#df-a3c35dda-e842-4519-8322-61c0e427ba7c');\n",
              "          const dataTable =\n",
              "            await google.colab.kernel.invokeFunction('convertToInteractive',\n",
              "                                                     [key], {});\n",
              "          if (!dataTable) return;\n",
              "\n",
              "          const docLinkHtml = 'Like what you see? Visit the ' +\n",
              "            '<a target=\"_blank\" href=https://colab.research.google.com/notebooks/data_table.ipynb>data table notebook</a>'\n",
              "            + ' to learn more about interactive tables.';\n",
              "          element.innerHTML = '';\n",
              "          dataTable['output_type'] = 'display_data';\n",
              "          await google.colab.output.renderOutput(dataTable, element);\n",
              "          const docLink = document.createElement('div');\n",
              "          docLink.innerHTML = docLinkHtml;\n",
              "          element.appendChild(docLink);\n",
              "        }\n",
              "      </script>\n",
              "    </div>\n",
              "  </div>\n",
              "  "
            ]
          },
          "metadata": {},
          "execution_count": 4
        }
      ]
    },
    {
      "cell_type": "markdown",
      "metadata": {
        "id": "q-OwSePKm-FK"
      },
      "source": [
        "### 1 - Limpieza de datos\n",
        "Alumno:\n",
        "- Del dataset unicamente utilizar las columnas \"Review Text\" y \"Rating.\n",
        "- Tranformar el rating 1-5 a una escala numérica de 0 a 4.\n",
        "\n"
      ]
    },
    {
      "cell_type": "code",
      "source": [
        "df_reviews = df.loc[:, ['Review Text', 'Rating']].dropna()\n",
        "df_reviews['Rating'] = df_reviews['Rating'] - 1\n",
        "df_reviews.head()"
      ],
      "metadata": {
        "colab": {
          "base_uri": "https://localhost:8080/",
          "height": 206
        },
        "id": "nah00S19rLXB",
        "outputId": "2807d8d2-3599-4c5e-b33b-2abe90959757"
      },
      "execution_count": 5,
      "outputs": [
        {
          "output_type": "execute_result",
          "data": {
            "text/plain": [
              "                                         Review Text  Rating\n",
              "0  Absolutely wonderful - silky and sexy and comf...       3\n",
              "1  Love this dress!  it's sooo pretty.  i happene...       4\n",
              "2  I had such high hopes for this dress and reall...       2\n",
              "3  I love, love, love this jumpsuit. it's fun, fl...       4\n",
              "4  This shirt is very flattering to all due to th...       4"
            ],
            "text/html": [
              "\n",
              "  <div id=\"df-c1f72dc6-08bd-4255-96aa-a94d25ec693c\">\n",
              "    <div class=\"colab-df-container\">\n",
              "      <div>\n",
              "<style scoped>\n",
              "    .dataframe tbody tr th:only-of-type {\n",
              "        vertical-align: middle;\n",
              "    }\n",
              "\n",
              "    .dataframe tbody tr th {\n",
              "        vertical-align: top;\n",
              "    }\n",
              "\n",
              "    .dataframe thead th {\n",
              "        text-align: right;\n",
              "    }\n",
              "</style>\n",
              "<table border=\"1\" class=\"dataframe\">\n",
              "  <thead>\n",
              "    <tr style=\"text-align: right;\">\n",
              "      <th></th>\n",
              "      <th>Review Text</th>\n",
              "      <th>Rating</th>\n",
              "    </tr>\n",
              "  </thead>\n",
              "  <tbody>\n",
              "    <tr>\n",
              "      <th>0</th>\n",
              "      <td>Absolutely wonderful - silky and sexy and comf...</td>\n",
              "      <td>3</td>\n",
              "    </tr>\n",
              "    <tr>\n",
              "      <th>1</th>\n",
              "      <td>Love this dress!  it's sooo pretty.  i happene...</td>\n",
              "      <td>4</td>\n",
              "    </tr>\n",
              "    <tr>\n",
              "      <th>2</th>\n",
              "      <td>I had such high hopes for this dress and reall...</td>\n",
              "      <td>2</td>\n",
              "    </tr>\n",
              "    <tr>\n",
              "      <th>3</th>\n",
              "      <td>I love, love, love this jumpsuit. it's fun, fl...</td>\n",
              "      <td>4</td>\n",
              "    </tr>\n",
              "    <tr>\n",
              "      <th>4</th>\n",
              "      <td>This shirt is very flattering to all due to th...</td>\n",
              "      <td>4</td>\n",
              "    </tr>\n",
              "  </tbody>\n",
              "</table>\n",
              "</div>\n",
              "      <button class=\"colab-df-convert\" onclick=\"convertToInteractive('df-c1f72dc6-08bd-4255-96aa-a94d25ec693c')\"\n",
              "              title=\"Convert this dataframe to an interactive table.\"\n",
              "              style=\"display:none;\">\n",
              "        \n",
              "  <svg xmlns=\"http://www.w3.org/2000/svg\" height=\"24px\"viewBox=\"0 0 24 24\"\n",
              "       width=\"24px\">\n",
              "    <path d=\"M0 0h24v24H0V0z\" fill=\"none\"/>\n",
              "    <path d=\"M18.56 5.44l.94 2.06.94-2.06 2.06-.94-2.06-.94-.94-2.06-.94 2.06-2.06.94zm-11 1L8.5 8.5l.94-2.06 2.06-.94-2.06-.94L8.5 2.5l-.94 2.06-2.06.94zm10 10l.94 2.06.94-2.06 2.06-.94-2.06-.94-.94-2.06-.94 2.06-2.06.94z\"/><path d=\"M17.41 7.96l-1.37-1.37c-.4-.4-.92-.59-1.43-.59-.52 0-1.04.2-1.43.59L10.3 9.45l-7.72 7.72c-.78.78-.78 2.05 0 2.83L4 21.41c.39.39.9.59 1.41.59.51 0 1.02-.2 1.41-.59l7.78-7.78 2.81-2.81c.8-.78.8-2.07 0-2.86zM5.41 20L4 18.59l7.72-7.72 1.47 1.35L5.41 20z\"/>\n",
              "  </svg>\n",
              "      </button>\n",
              "      \n",
              "  <style>\n",
              "    .colab-df-container {\n",
              "      display:flex;\n",
              "      flex-wrap:wrap;\n",
              "      gap: 12px;\n",
              "    }\n",
              "\n",
              "    .colab-df-convert {\n",
              "      background-color: #E8F0FE;\n",
              "      border: none;\n",
              "      border-radius: 50%;\n",
              "      cursor: pointer;\n",
              "      display: none;\n",
              "      fill: #1967D2;\n",
              "      height: 32px;\n",
              "      padding: 0 0 0 0;\n",
              "      width: 32px;\n",
              "    }\n",
              "\n",
              "    .colab-df-convert:hover {\n",
              "      background-color: #E2EBFA;\n",
              "      box-shadow: 0px 1px 2px rgba(60, 64, 67, 0.3), 0px 1px 3px 1px rgba(60, 64, 67, 0.15);\n",
              "      fill: #174EA6;\n",
              "    }\n",
              "\n",
              "    [theme=dark] .colab-df-convert {\n",
              "      background-color: #3B4455;\n",
              "      fill: #D2E3FC;\n",
              "    }\n",
              "\n",
              "    [theme=dark] .colab-df-convert:hover {\n",
              "      background-color: #434B5C;\n",
              "      box-shadow: 0px 1px 3px 1px rgba(0, 0, 0, 0.15);\n",
              "      filter: drop-shadow(0px 1px 2px rgba(0, 0, 0, 0.3));\n",
              "      fill: #FFFFFF;\n",
              "    }\n",
              "  </style>\n",
              "\n",
              "      <script>\n",
              "        const buttonEl =\n",
              "          document.querySelector('#df-c1f72dc6-08bd-4255-96aa-a94d25ec693c button.colab-df-convert');\n",
              "        buttonEl.style.display =\n",
              "          google.colab.kernel.accessAllowed ? 'block' : 'none';\n",
              "\n",
              "        async function convertToInteractive(key) {\n",
              "          const element = document.querySelector('#df-c1f72dc6-08bd-4255-96aa-a94d25ec693c');\n",
              "          const dataTable =\n",
              "            await google.colab.kernel.invokeFunction('convertToInteractive',\n",
              "                                                     [key], {});\n",
              "          if (!dataTable) return;\n",
              "\n",
              "          const docLinkHtml = 'Like what you see? Visit the ' +\n",
              "            '<a target=\"_blank\" href=https://colab.research.google.com/notebooks/data_table.ipynb>data table notebook</a>'\n",
              "            + ' to learn more about interactive tables.';\n",
              "          element.innerHTML = '';\n",
              "          dataTable['output_type'] = 'display_data';\n",
              "          await google.colab.output.renderOutput(dataTable, element);\n",
              "          const docLink = document.createElement('div');\n",
              "          docLink.innerHTML = docLinkHtml;\n",
              "          element.appendChild(docLink);\n",
              "        }\n",
              "      </script>\n",
              "    </div>\n",
              "  </div>\n",
              "  "
            ]
          },
          "metadata": {},
          "execution_count": 5
        }
      ]
    },
    {
      "cell_type": "code",
      "metadata": {
        "id": "sZtvASVOn3ty"
      },
      "source": [
        "# Alumno: Observar como está distribuido el dataset respecto a la columna Rating\n",
        "# es decir, observar que tan balanceado se encuentra respecot a cada clase"
      ],
      "execution_count": 6,
      "outputs": []
    },
    {
      "cell_type": "code",
      "source": [
        "np.unique(df_reviews['Rating'])"
      ],
      "metadata": {
        "colab": {
          "base_uri": "https://localhost:8080/"
        },
        "id": "fxwRH6SyGCxB",
        "outputId": "7f7f3443-b47d-406a-bfc6-2e7bd0999323"
      },
      "execution_count": 7,
      "outputs": [
        {
          "output_type": "execute_result",
          "data": {
            "text/plain": [
              "array([0, 1, 2, 3, 4])"
            ]
          },
          "metadata": {},
          "execution_count": 7
        }
      ]
    },
    {
      "cell_type": "code",
      "source": [
        "df_reviews['Rating'].value_counts()"
      ],
      "metadata": {
        "colab": {
          "base_uri": "https://localhost:8080/"
        },
        "id": "BU4Ny-q4HBZC",
        "outputId": "fd74673a-200c-4a77-e177-5b30ca5bb2c8"
      },
      "execution_count": 8,
      "outputs": [
        {
          "output_type": "execute_result",
          "data": {
            "text/plain": [
              "4    12540\n",
              "3     4908\n",
              "2     2823\n",
              "1     1549\n",
              "0      821\n",
              "Name: Rating, dtype: int64"
            ]
          },
          "metadata": {},
          "execution_count": 8
        }
      ]
    },
    {
      "cell_type": "markdown",
      "source": [
        "Los ratings 4 y 5 representan el 76% del dataset. Se puede notar cómo las reviews van disminuyendo conforme son más negativas. Es decir, hay muy pocas de 1 estrella y muchas de 5 estrellas."
      ],
      "metadata": {
        "id": "KdtaJIGUqB2b"
      }
    },
    {
      "cell_type": "code",
      "source": [
        "min_val = int(min(df_reviews['Rating'].value_counts()) * 1.10)"
      ],
      "metadata": {
        "id": "Aol7rX6QgU3e"
      },
      "execution_count": 9,
      "outputs": []
    },
    {
      "cell_type": "code",
      "source": [
        "idx_4 = df_reviews.loc[df_reviews['Rating'] == 4].reset_index(drop = True)[:min_val]\n",
        "idx_3 = df_reviews.loc[df_reviews['Rating'] == 3].reset_index(drop = True)[:min_val]\n",
        "idx_2 = df_reviews.loc[df_reviews['Rating'] == 2].reset_index(drop = True)[:min_val]\n",
        "idx_1 = df_reviews.loc[df_reviews['Rating'] == 1].reset_index(drop = True)[:min_val]\n",
        "idx_0 = df_reviews.loc[df_reviews['Rating'] == 0].reset_index(drop = True)[:min_val]"
      ],
      "metadata": {
        "id": "Z_P1AKkOgbIP"
      },
      "execution_count": 10,
      "outputs": []
    },
    {
      "cell_type": "code",
      "source": [
        "df_reviews = pd.DataFrame(np.vstack((idx_4, idx_3, idx_2, idx_1, idx_0)), columns = df_reviews.columns)"
      ],
      "metadata": {
        "id": "8XipUg79gvJu"
      },
      "execution_count": 11,
      "outputs": []
    },
    {
      "cell_type": "code",
      "source": [
        "# Ahora el dataset está balanceado\n",
        "df_reviews['Rating'].value_counts()"
      ],
      "metadata": {
        "colab": {
          "base_uri": "https://localhost:8080/"
        },
        "id": "tNMyjnLSpk3b",
        "outputId": "713b8f48-0cc8-4f19-c293-dcd34a389e84"
      },
      "execution_count": 12,
      "outputs": [
        {
          "output_type": "execute_result",
          "data": {
            "text/plain": [
              "4    903\n",
              "3    903\n",
              "2    903\n",
              "1    903\n",
              "0    821\n",
              "Name: Rating, dtype: int64"
            ]
          },
          "metadata": {},
          "execution_count": 12
        }
      ]
    },
    {
      "cell_type": "code",
      "source": [
        "df_reviews = df_reviews.sample(frac=1).reset_index(drop=True)"
      ],
      "metadata": {
        "id": "Z1UduJOA1SwJ"
      },
      "execution_count": 13,
      "outputs": []
    },
    {
      "cell_type": "code",
      "source": [
        "df_reviews"
      ],
      "metadata": {
        "colab": {
          "base_uri": "https://localhost:8080/",
          "height": 424
        },
        "id": "kmTy6sYrrYai",
        "outputId": "e46a5f5e-5b53-4775-816f-7d8ceacc4908"
      },
      "execution_count": 14,
      "outputs": [
        {
          "output_type": "execute_result",
          "data": {
            "text/plain": [
              "                                            Review Text Rating\n",
              "0     Looked good in pictures. i even ordered an xxs...      0\n",
              "1     Completely oversized top, size medium was swim...      0\n",
              "2     Unfortunately i didnt read the fine print when...      2\n",
              "3     Not flattering and not the color it appears on...      1\n",
              "4     The peplum for this time hit me in the middle ...      1\n",
              "...                                                 ...    ...\n",
              "4428                    Loved this sweater but too boxy      3\n",
              "4429  I was really hoping this dress would work out,...      2\n",
              "4430  This is exactly what i was expecting. cute, co...      4\n",
              "4431  Poor quality, material looks much thinner and ...      0\n",
              "4432  This is a beautiful dress with unfortunate des...      2\n",
              "\n",
              "[4433 rows x 2 columns]"
            ],
            "text/html": [
              "\n",
              "  <div id=\"df-86915782-c6f6-40b6-827f-673a665b99e1\">\n",
              "    <div class=\"colab-df-container\">\n",
              "      <div>\n",
              "<style scoped>\n",
              "    .dataframe tbody tr th:only-of-type {\n",
              "        vertical-align: middle;\n",
              "    }\n",
              "\n",
              "    .dataframe tbody tr th {\n",
              "        vertical-align: top;\n",
              "    }\n",
              "\n",
              "    .dataframe thead th {\n",
              "        text-align: right;\n",
              "    }\n",
              "</style>\n",
              "<table border=\"1\" class=\"dataframe\">\n",
              "  <thead>\n",
              "    <tr style=\"text-align: right;\">\n",
              "      <th></th>\n",
              "      <th>Review Text</th>\n",
              "      <th>Rating</th>\n",
              "    </tr>\n",
              "  </thead>\n",
              "  <tbody>\n",
              "    <tr>\n",
              "      <th>0</th>\n",
              "      <td>Looked good in pictures. i even ordered an xxs...</td>\n",
              "      <td>0</td>\n",
              "    </tr>\n",
              "    <tr>\n",
              "      <th>1</th>\n",
              "      <td>Completely oversized top, size medium was swim...</td>\n",
              "      <td>0</td>\n",
              "    </tr>\n",
              "    <tr>\n",
              "      <th>2</th>\n",
              "      <td>Unfortunately i didnt read the fine print when...</td>\n",
              "      <td>2</td>\n",
              "    </tr>\n",
              "    <tr>\n",
              "      <th>3</th>\n",
              "      <td>Not flattering and not the color it appears on...</td>\n",
              "      <td>1</td>\n",
              "    </tr>\n",
              "    <tr>\n",
              "      <th>4</th>\n",
              "      <td>The peplum for this time hit me in the middle ...</td>\n",
              "      <td>1</td>\n",
              "    </tr>\n",
              "    <tr>\n",
              "      <th>...</th>\n",
              "      <td>...</td>\n",
              "      <td>...</td>\n",
              "    </tr>\n",
              "    <tr>\n",
              "      <th>4428</th>\n",
              "      <td>Loved this sweater but too boxy</td>\n",
              "      <td>3</td>\n",
              "    </tr>\n",
              "    <tr>\n",
              "      <th>4429</th>\n",
              "      <td>I was really hoping this dress would work out,...</td>\n",
              "      <td>2</td>\n",
              "    </tr>\n",
              "    <tr>\n",
              "      <th>4430</th>\n",
              "      <td>This is exactly what i was expecting. cute, co...</td>\n",
              "      <td>4</td>\n",
              "    </tr>\n",
              "    <tr>\n",
              "      <th>4431</th>\n",
              "      <td>Poor quality, material looks much thinner and ...</td>\n",
              "      <td>0</td>\n",
              "    </tr>\n",
              "    <tr>\n",
              "      <th>4432</th>\n",
              "      <td>This is a beautiful dress with unfortunate des...</td>\n",
              "      <td>2</td>\n",
              "    </tr>\n",
              "  </tbody>\n",
              "</table>\n",
              "<p>4433 rows × 2 columns</p>\n",
              "</div>\n",
              "      <button class=\"colab-df-convert\" onclick=\"convertToInteractive('df-86915782-c6f6-40b6-827f-673a665b99e1')\"\n",
              "              title=\"Convert this dataframe to an interactive table.\"\n",
              "              style=\"display:none;\">\n",
              "        \n",
              "  <svg xmlns=\"http://www.w3.org/2000/svg\" height=\"24px\"viewBox=\"0 0 24 24\"\n",
              "       width=\"24px\">\n",
              "    <path d=\"M0 0h24v24H0V0z\" fill=\"none\"/>\n",
              "    <path d=\"M18.56 5.44l.94 2.06.94-2.06 2.06-.94-2.06-.94-.94-2.06-.94 2.06-2.06.94zm-11 1L8.5 8.5l.94-2.06 2.06-.94-2.06-.94L8.5 2.5l-.94 2.06-2.06.94zm10 10l.94 2.06.94-2.06 2.06-.94-2.06-.94-.94-2.06-.94 2.06-2.06.94z\"/><path d=\"M17.41 7.96l-1.37-1.37c-.4-.4-.92-.59-1.43-.59-.52 0-1.04.2-1.43.59L10.3 9.45l-7.72 7.72c-.78.78-.78 2.05 0 2.83L4 21.41c.39.39.9.59 1.41.59.51 0 1.02-.2 1.41-.59l7.78-7.78 2.81-2.81c.8-.78.8-2.07 0-2.86zM5.41 20L4 18.59l7.72-7.72 1.47 1.35L5.41 20z\"/>\n",
              "  </svg>\n",
              "      </button>\n",
              "      \n",
              "  <style>\n",
              "    .colab-df-container {\n",
              "      display:flex;\n",
              "      flex-wrap:wrap;\n",
              "      gap: 12px;\n",
              "    }\n",
              "\n",
              "    .colab-df-convert {\n",
              "      background-color: #E8F0FE;\n",
              "      border: none;\n",
              "      border-radius: 50%;\n",
              "      cursor: pointer;\n",
              "      display: none;\n",
              "      fill: #1967D2;\n",
              "      height: 32px;\n",
              "      padding: 0 0 0 0;\n",
              "      width: 32px;\n",
              "    }\n",
              "\n",
              "    .colab-df-convert:hover {\n",
              "      background-color: #E2EBFA;\n",
              "      box-shadow: 0px 1px 2px rgba(60, 64, 67, 0.3), 0px 1px 3px 1px rgba(60, 64, 67, 0.15);\n",
              "      fill: #174EA6;\n",
              "    }\n",
              "\n",
              "    [theme=dark] .colab-df-convert {\n",
              "      background-color: #3B4455;\n",
              "      fill: #D2E3FC;\n",
              "    }\n",
              "\n",
              "    [theme=dark] .colab-df-convert:hover {\n",
              "      background-color: #434B5C;\n",
              "      box-shadow: 0px 1px 3px 1px rgba(0, 0, 0, 0.15);\n",
              "      filter: drop-shadow(0px 1px 2px rgba(0, 0, 0, 0.3));\n",
              "      fill: #FFFFFF;\n",
              "    }\n",
              "  </style>\n",
              "\n",
              "      <script>\n",
              "        const buttonEl =\n",
              "          document.querySelector('#df-86915782-c6f6-40b6-827f-673a665b99e1 button.colab-df-convert');\n",
              "        buttonEl.style.display =\n",
              "          google.colab.kernel.accessAllowed ? 'block' : 'none';\n",
              "\n",
              "        async function convertToInteractive(key) {\n",
              "          const element = document.querySelector('#df-86915782-c6f6-40b6-827f-673a665b99e1');\n",
              "          const dataTable =\n",
              "            await google.colab.kernel.invokeFunction('convertToInteractive',\n",
              "                                                     [key], {});\n",
              "          if (!dataTable) return;\n",
              "\n",
              "          const docLinkHtml = 'Like what you see? Visit the ' +\n",
              "            '<a target=\"_blank\" href=https://colab.research.google.com/notebooks/data_table.ipynb>data table notebook</a>'\n",
              "            + ' to learn more about interactive tables.';\n",
              "          element.innerHTML = '';\n",
              "          dataTable['output_type'] = 'display_data';\n",
              "          await google.colab.output.renderOutput(dataTable, element);\n",
              "          const docLink = document.createElement('div');\n",
              "          docLink.innerHTML = docLinkHtml;\n",
              "          element.appendChild(docLink);\n",
              "        }\n",
              "      </script>\n",
              "    </div>\n",
              "  </div>\n",
              "  "
            ]
          },
          "metadata": {},
          "execution_count": 14
        }
      ]
    },
    {
      "cell_type": "code",
      "source": [
        "df_reviews = df.loc[:, ['Review Text', 'Rating']].dropna()\n",
        "df_reviews['Rating'] = df_reviews['Rating'] - 1"
      ],
      "metadata": {
        "id": "sOADrFzl-FEz"
      },
      "execution_count": 15,
      "outputs": []
    },
    {
      "cell_type": "code",
      "metadata": {
        "id": "gVJ_RVi4o1h3"
      },
      "source": [
        "# Alumno: tomar la columna de las review y almacenarlo todo en un vector numpy de reviews\n",
        "reviews = np.array(df_reviews['Review Text'])"
      ],
      "execution_count": 16,
      "outputs": []
    },
    {
      "cell_type": "code",
      "metadata": {
        "id": "4nT5Un_co65Q",
        "colab": {
          "base_uri": "https://localhost:8080/"
        },
        "outputId": "de86ff37-d48f-49ab-bb96-87eb5bb74672"
      },
      "source": [
        "# Alumno: Cuantas reviews (rows) hay para evaluar?\n",
        "len(reviews)"
      ],
      "execution_count": 17,
      "outputs": [
        {
          "output_type": "execute_result",
          "data": {
            "text/plain": [
              "22641"
            ]
          },
          "metadata": {},
          "execution_count": 17
        }
      ]
    },
    {
      "cell_type": "code",
      "metadata": {
        "id": "HP5uN9tqpHu_"
      },
      "source": [
        "# Alumno: Concatenar todas las reviews para armar el corpus\n",
        "corpus = ' '.join(reviews)"
      ],
      "execution_count": 18,
      "outputs": []
    },
    {
      "cell_type": "code",
      "metadata": {
        "id": "FEzmePgdpf74",
        "colab": {
          "base_uri": "https://localhost:8080/"
        },
        "outputId": "ba445875-b246-4dad-8c10-3344cdc51e39"
      },
      "source": [
        "# Alumno: ¿Cuál es la longitud de ese corpus?\n",
        "len(corpus)"
      ],
      "execution_count": 19,
      "outputs": [
        {
          "output_type": "execute_result",
          "data": {
            "text/plain": [
              "7011643"
            ]
          },
          "metadata": {},
          "execution_count": 19
        }
      ]
    },
    {
      "cell_type": "code",
      "metadata": {
        "id": "MYeJLdDmpvOe"
      },
      "source": [
        "# Alumno: Utilizar \"text_to_word_sequence\" para separar las palabras en tokens\n",
        "# recordar que text_to_word_sequence automaticamente quita los signos de puntuacion y pasa el texto a lowercase\n",
        "from keras.preprocessing.text import text_to_word_sequence\n",
        "tokens = text_to_word_sequence(corpus)"
      ],
      "execution_count": 20,
      "outputs": []
    },
    {
      "cell_type": "code",
      "metadata": {
        "id": "M6L-fnWAp_lA",
        "colab": {
          "base_uri": "https://localhost:8080/"
        },
        "outputId": "deb53dd6-2589-4d50-a873-586a49494c04"
      },
      "source": [
        "# Alumno: Dar un vistazo a los primeros 20 tokens/palabras\n",
        "tokens[:20]"
      ],
      "execution_count": 21,
      "outputs": [
        {
          "output_type": "execute_result",
          "data": {
            "text/plain": [
              "['absolutely',\n",
              " 'wonderful',\n",
              " 'silky',\n",
              " 'and',\n",
              " 'sexy',\n",
              " 'and',\n",
              " 'comfortable',\n",
              " 'love',\n",
              " 'this',\n",
              " 'dress',\n",
              " \"it's\",\n",
              " 'sooo',\n",
              " 'pretty',\n",
              " 'i',\n",
              " 'happened',\n",
              " 'to',\n",
              " 'find',\n",
              " 'it',\n",
              " 'in',\n",
              " 'a']"
            ]
          },
          "metadata": {},
          "execution_count": 21
        }
      ]
    },
    {
      "cell_type": "code",
      "metadata": {
        "id": "-8QgwwMUqG0d",
        "colab": {
          "base_uri": "https://localhost:8080/"
        },
        "outputId": "374d2648-bb06-4a6d-89d4-46a0cc13b4b8"
      },
      "source": [
        "# Alumno: ¿Cuántos tokens/palabras hay?\n",
        "len(tokens)"
      ],
      "execution_count": 22,
      "outputs": [
        {
          "output_type": "execute_result",
          "data": {
            "text/plain": [
              "1372203"
            ]
          },
          "metadata": {},
          "execution_count": 22
        }
      ]
    },
    {
      "cell_type": "code",
      "metadata": {
        "id": "TFukNZdOsZ8_"
      },
      "source": [
        "# Alumno: Tokenizar las palabras con el Tokenizer de Keras\n",
        "# Definir una máxima cantidad de palabras a utilizar:\n",
        "# num_words --> the maximum number of words to keep, based on word frequency.\n",
        "# Only the most common num_words-1 words will be kept.\n",
        "from keras.preprocessing.text import Tokenizer\n",
        "num_words = 2000\n",
        "vocab_size = num_words"
      ],
      "execution_count": 23,
      "outputs": []
    },
    {
      "cell_type": "code",
      "source": [
        "tok = Tokenizer(num_words=vocab_size) \n",
        "tok.fit_on_texts(tokens)"
      ],
      "metadata": {
        "id": "Z2O_1IYPPGPu"
      },
      "execution_count": 24,
      "outputs": []
    },
    {
      "cell_type": "code",
      "metadata": {
        "id": "JnR1tlqZy94X",
        "colab": {
          "base_uri": "https://localhost:8080/"
        },
        "outputId": "78661cfc-c8c2-4ba5-8eb1-93b13a500b4f"
      },
      "source": [
        "# Alumno: Obtener el diccionario de palabra (word) a índice\n",
        "# y observar la cantidad total del vocabulario\n",
        "word_index = tok.word_index\n",
        "len(word_index)"
      ],
      "execution_count": 25,
      "outputs": [
        {
          "output_type": "execute_result",
          "data": {
            "text/plain": [
              "14847"
            ]
          },
          "metadata": {},
          "execution_count": 25
        }
      ]
    },
    {
      "cell_type": "code",
      "metadata": {
        "id": "AvWzzSretQXf"
      },
      "source": [
        "# Alumno: Convertir las palabras/tokens a números\n",
        "sequences = tok.texts_to_sequences(reviews)"
      ],
      "execution_count": 26,
      "outputs": []
    },
    {
      "cell_type": "code",
      "metadata": {
        "id": "za73M5SRtbrP",
        "colab": {
          "base_uri": "https://localhost:8080/"
        },
        "outputId": "fcac4b76-00b1-4ed5-f908-723f669d0cc0"
      },
      "source": [
        "# Alumno: Determinar cual es la oración más larga\n",
        "max(len(s) for s in sequences)"
      ],
      "execution_count": 27,
      "outputs": [
        {
          "output_type": "execute_result",
          "data": {
            "text/plain": [
              "115"
            ]
          },
          "metadata": {},
          "execution_count": 27
        }
      ]
    },
    {
      "cell_type": "code",
      "metadata": {
        "id": "oCkO9Wc9tls1"
      },
      "source": [
        "# Alumno: Realizar padding de las sentencias al mismo tamaño\n",
        "# tomando de referencia la máxima sentencia\n",
        "from tensorflow.keras.utils import pad_sequences\n",
        "maxlen = 115"
      ],
      "execution_count": 28,
      "outputs": []
    },
    {
      "cell_type": "code",
      "source": [
        "X = pad_sequences(sequences, padding = 'pre', maxlen = maxlen)"
      ],
      "metadata": {
        "id": "vspaPCwRWT4h"
      },
      "execution_count": 29,
      "outputs": []
    },
    {
      "cell_type": "code",
      "metadata": {
        "id": "kGHHabVdt_aa",
        "colab": {
          "base_uri": "https://localhost:8080/"
        },
        "outputId": "60321803-e037-4266-af36-b286450bd905"
      },
      "source": [
        "# Alumno: Observar las dimensiones de la variable input\n",
        "X.shape"
      ],
      "execution_count": 30,
      "outputs": [
        {
          "output_type": "execute_result",
          "data": {
            "text/plain": [
              "(22641, 115)"
            ]
          },
          "metadata": {},
          "execution_count": 30
        }
      ]
    },
    {
      "cell_type": "code",
      "metadata": {
        "id": "llVM-tzQo9_F",
        "colab": {
          "base_uri": "https://localhost:8080/"
        },
        "outputId": "78f30cdc-404d-458d-f129-0d1262d5673b"
      },
      "source": [
        "# Alumno tomar la columna rating y alcemacenarla en una variable \"y\" transformada a oneHotEncoding\n",
        "# Su shape debe ser equivalente la cantidad de rows del corpus y a la cantidad\n",
        "# de clases que se deseen predecir (en este ejemplo son 5)\n",
        "from sklearn.preprocessing import OneHotEncoder\n",
        "encoder = OneHotEncoder(handle_unknown = 'ignore')\n",
        "y_ = np.array(df_reviews['Rating']).reshape(-1,1)\n",
        "y = pd.DataFrame(encoder.fit_transform(y_).toarray(), columns = encoder.get_feature_names_out())\n",
        "y.columns = [0, 1, 2, 3, 4]\n",
        "y.shape"
      ],
      "execution_count": 31,
      "outputs": [
        {
          "output_type": "execute_result",
          "data": {
            "text/plain": [
              "(22641, 5)"
            ]
          },
          "metadata": {},
          "execution_count": 31
        }
      ]
    },
    {
      "cell_type": "code",
      "metadata": {
        "id": "Rmz9A6n4uK4V"
      },
      "source": [
        "# Alumno: Dividir los datos en train y test\n",
        "from sklearn.model_selection import train_test_split"
      ],
      "execution_count": 32,
      "outputs": []
    },
    {
      "cell_type": "code",
      "metadata": {
        "id": "EcDPlhEouQ9E"
      },
      "source": [
        "# Alumno: determinar la dimensiones de entrada y salida\n",
        "X_train, X_test, y_train, y_test = train_test_split(X, y, test_size=0.2, random_state=42, stratify = y)"
      ],
      "execution_count": 33,
      "outputs": []
    },
    {
      "cell_type": "code",
      "source": [
        "in_shape = X_train.shape[1]\n",
        "out_shape = y_train.shape[1]"
      ],
      "metadata": {
        "id": "_XDqjU1TbB04"
      },
      "execution_count": 34,
      "outputs": []
    },
    {
      "cell_type": "markdown",
      "metadata": {
        "id": "NpbQHExL6OTu"
      },
      "source": [
        "### 2 - Entrenar el modelo con Embeddings + LSTM"
      ]
    },
    {
      "cell_type": "code",
      "metadata": {
        "id": "NUkuWBsM6cx3",
        "colab": {
          "base_uri": "https://localhost:8080/"
        },
        "outputId": "67412ba3-fd38-48f8-adc5-f0d82ebd5521"
      },
      "source": [
        "# Alumno: Entrene su modelo con LSTM entrenando sus propios embeddings\n",
        "# o utilizando embeddings pre-entrenados.\n",
        "from keras.layers import LSTM\n",
        "from keras.layers import Embedding\n",
        "from keras.layers import Dropout\n",
        "!pip install keras-metrics\n",
        "import keras_metrics"
      ],
      "execution_count": 35,
      "outputs": [
        {
          "output_type": "stream",
          "name": "stdout",
          "text": [
            "Looking in indexes: https://pypi.org/simple, https://us-python.pkg.dev/colab-wheels/public/simple/\n",
            "Collecting keras-metrics\n",
            "  Downloading keras_metrics-1.1.0-py2.py3-none-any.whl (5.6 kB)\n",
            "Requirement already satisfied: Keras>=2.1.5 in /usr/local/lib/python3.7/dist-packages (from keras-metrics) (2.9.0)\n",
            "Installing collected packages: keras-metrics\n",
            "Successfully installed keras-metrics-1.1.0\n"
          ]
        }
      ]
    },
    {
      "cell_type": "code",
      "source": [
        "model = Sequential()\n",
        "# input_dim = vocab_size (max n_words)\n",
        "# input_length = setencias con padding a 200\n",
        "# output_dim = 50 --> crear embeddings de tamaño 50\n",
        "model.add(Embedding(input_dim=vocab_size+1, output_dim=50, input_length=in_shape))\n",
        "model.add(LSTM(units=64, return_sequences=True))\n",
        "model.add(Dropout(0.2))\n",
        "model.add(LSTM(units=64)) # La última capa LSTM no lleva return_sequences\n",
        "\n",
        "model.add(Dense(units=128, activation='relu'))\n",
        "model.add(Dropout(rate=0.2))\n",
        "model.add(Dense(units=out_shape, activation='softmax'))\n",
        "\n",
        "model.compile(optimizer=\"adam\",\n",
        "              loss='categorical_crossentropy',\n",
        "              metrics=['categorical_accuracy'])\n",
        "\n",
        "model.summary()"
      ],
      "metadata": {
        "colab": {
          "base_uri": "https://localhost:8080/"
        },
        "id": "x-8PP2dfap8V",
        "outputId": "40182208-5d98-4a01-c2d6-90db8bb8ec78"
      },
      "execution_count": 36,
      "outputs": [
        {
          "output_type": "stream",
          "name": "stdout",
          "text": [
            "Model: \"sequential\"\n",
            "_________________________________________________________________\n",
            " Layer (type)                Output Shape              Param #   \n",
            "=================================================================\n",
            " embedding (Embedding)       (None, 115, 50)           100050    \n",
            "                                                                 \n",
            " lstm (LSTM)                 (None, 115, 64)           29440     \n",
            "                                                                 \n",
            " dropout (Dropout)           (None, 115, 64)           0         \n",
            "                                                                 \n",
            " lstm_1 (LSTM)               (None, 64)                33024     \n",
            "                                                                 \n",
            " dense (Dense)               (None, 128)               8320      \n",
            "                                                                 \n",
            " dropout_1 (Dropout)         (None, 128)               0         \n",
            "                                                                 \n",
            " dense_1 (Dense)             (None, 5)                 645       \n",
            "                                                                 \n",
            "=================================================================\n",
            "Total params: 171,479\n",
            "Trainable params: 171,479\n",
            "Non-trainable params: 0\n",
            "_________________________________________________________________\n"
          ]
        }
      ]
    },
    {
      "cell_type": "code",
      "source": [
        "from keras.utils.vis_utils import plot_model\n",
        "plot_model(model, to_file='model_plot.png', show_shapes=True, show_layer_names=True)"
      ],
      "metadata": {
        "colab": {
          "base_uri": "https://localhost:8080/",
          "height": 865
        },
        "id": "MIaBFhxvbf6g",
        "outputId": "4b78b708-c1ca-4a90-8107-e44ad7645920"
      },
      "execution_count": 37,
      "outputs": [
        {
          "output_type": "execute_result",
          "data": {
            "image/png": "[encoded data removed]",
            "text/plain": [
              "<IPython.core.display.Image object>"
            ]
          },
          "metadata": {},
          "execution_count": 37
        }
      ]
    },
    {
      "cell_type": "code",
      "source": [
        "hist = model.fit(X_train, y_train, epochs=50, validation_split=0.20)"
      ],
      "metadata": {
        "colab": {
          "base_uri": "https://localhost:8080/"
        },
        "id": "8pyISty5sdyo",
        "outputId": "d70dcf47-2ca8-4c08-b939-469f00ca8f46"
      },
      "execution_count": 38,
      "outputs": [
        {
          "output_type": "stream",
          "name": "stdout",
          "text": [
            "Epoch 1/50\n",
            "453/453 [==============================] - 89s 185ms/step - loss: 1.0075 - categorical_accuracy: 0.6014 - val_loss: 0.9394 - val_categorical_accuracy: 0.6042\n",
            "Epoch 2/50\n",
            "453/453 [==============================] - 72s 159ms/step - loss: 0.8705 - categorical_accuracy: 0.6351 - val_loss: 0.9568 - val_categorical_accuracy: 0.6059\n",
            "Epoch 3/50\n",
            "453/453 [==============================] - 72s 159ms/step - loss: 0.8223 - categorical_accuracy: 0.6528 - val_loss: 0.9054 - val_categorical_accuracy: 0.6089\n",
            "Epoch 4/50\n",
            "453/453 [==============================] - 70s 154ms/step - loss: 0.7633 - categorical_accuracy: 0.6749 - val_loss: 0.9155 - val_categorical_accuracy: 0.6177\n",
            "Epoch 5/50\n",
            "453/453 [==============================] - 71s 158ms/step - loss: 0.7274 - categorical_accuracy: 0.6889 - val_loss: 0.9176 - val_categorical_accuracy: 0.6155\n",
            "Epoch 6/50\n",
            "453/453 [==============================] - 70s 156ms/step - loss: 0.6934 - categorical_accuracy: 0.7049 - val_loss: 1.0027 - val_categorical_accuracy: 0.6172\n",
            "Epoch 7/50\n",
            "453/453 [==============================] - 70s 155ms/step - loss: 0.6710 - categorical_accuracy: 0.7154 - val_loss: 0.9906 - val_categorical_accuracy: 0.6081\n",
            "Epoch 8/50\n",
            "453/453 [==============================] - 70s 155ms/step - loss: 0.6431 - categorical_accuracy: 0.7299 - val_loss: 1.0103 - val_categorical_accuracy: 0.6089\n",
            "Epoch 9/50\n",
            "453/453 [==============================] - 72s 159ms/step - loss: 0.6177 - categorical_accuracy: 0.7420 - val_loss: 1.0655 - val_categorical_accuracy: 0.6103\n",
            "Epoch 10/50\n",
            "453/453 [==============================] - 69s 153ms/step - loss: 0.5785 - categorical_accuracy: 0.7580 - val_loss: 1.1278 - val_categorical_accuracy: 0.6042\n",
            "Epoch 11/50\n",
            "453/453 [==============================] - 73s 160ms/step - loss: 0.5554 - categorical_accuracy: 0.7729 - val_loss: 1.2074 - val_categorical_accuracy: 0.5832\n",
            "Epoch 12/50\n",
            "453/453 [==============================] - 69s 153ms/step - loss: 0.5371 - categorical_accuracy: 0.7814 - val_loss: 1.1721 - val_categorical_accuracy: 0.5835\n",
            "Epoch 13/50\n",
            "453/453 [==============================] - 68s 150ms/step - loss: 0.5020 - categorical_accuracy: 0.7994 - val_loss: 1.3202 - val_categorical_accuracy: 0.5893\n",
            "Epoch 14/50\n",
            "453/453 [==============================] - 71s 156ms/step - loss: 0.4638 - categorical_accuracy: 0.8137 - val_loss: 1.3688 - val_categorical_accuracy: 0.5937\n",
            "Epoch 15/50\n",
            "453/453 [==============================] - 68s 150ms/step - loss: 0.4430 - categorical_accuracy: 0.8283 - val_loss: 1.4144 - val_categorical_accuracy: 0.5788\n",
            "Epoch 16/50\n",
            "453/453 [==============================] - 69s 152ms/step - loss: 0.4102 - categorical_accuracy: 0.8404 - val_loss: 1.5678 - val_categorical_accuracy: 0.5840\n",
            "Epoch 17/50\n",
            "453/453 [==============================] - 69s 152ms/step - loss: 0.3867 - categorical_accuracy: 0.8543 - val_loss: 1.5729 - val_categorical_accuracy: 0.5733\n",
            "Epoch 18/50\n",
            "453/453 [==============================] - 68s 150ms/step - loss: 0.3587 - categorical_accuracy: 0.8626 - val_loss: 1.6184 - val_categorical_accuracy: 0.5691\n",
            "Epoch 19/50\n",
            "453/453 [==============================] - 83s 183ms/step - loss: 0.3333 - categorical_accuracy: 0.8785 - val_loss: 1.7635 - val_categorical_accuracy: 0.5738\n",
            "Epoch 20/50\n",
            "453/453 [==============================] - 69s 152ms/step - loss: 0.3094 - categorical_accuracy: 0.8853 - val_loss: 1.7659 - val_categorical_accuracy: 0.5697\n",
            "Epoch 21/50\n",
            "453/453 [==============================] - 68s 149ms/step - loss: 0.2794 - categorical_accuracy: 0.9001 - val_loss: 1.8814 - val_categorical_accuracy: 0.5794\n",
            "Epoch 22/50\n",
            "453/453 [==============================] - 70s 155ms/step - loss: 0.2517 - categorical_accuracy: 0.9101 - val_loss: 1.9495 - val_categorical_accuracy: 0.5719\n",
            "Epoch 23/50\n",
            "453/453 [==============================] - 68s 150ms/step - loss: 0.2431 - categorical_accuracy: 0.9145 - val_loss: 2.1114 - val_categorical_accuracy: 0.5366\n",
            "Epoch 24/50\n",
            "453/453 [==============================] - 69s 152ms/step - loss: 0.2226 - categorical_accuracy: 0.9205 - val_loss: 2.0968 - val_categorical_accuracy: 0.5656\n",
            "Epoch 25/50\n",
            "453/453 [==============================] - 69s 152ms/step - loss: 0.1939 - categorical_accuracy: 0.9334 - val_loss: 2.3000 - val_categorical_accuracy: 0.5642\n",
            "Epoch 26/50\n",
            "453/453 [==============================] - 68s 150ms/step - loss: 0.2057 - categorical_accuracy: 0.9283 - val_loss: 2.3001 - val_categorical_accuracy: 0.5446\n",
            "Epoch 27/50\n",
            "453/453 [==============================] - 71s 156ms/step - loss: 0.1891 - categorical_accuracy: 0.9371 - val_loss: 2.2007 - val_categorical_accuracy: 0.5658\n",
            "Epoch 28/50\n",
            "453/453 [==============================] - 68s 150ms/step - loss: 0.1794 - categorical_accuracy: 0.9397 - val_loss: 2.3050 - val_categorical_accuracy: 0.5611\n",
            "Epoch 29/50\n",
            "453/453 [==============================] - 68s 150ms/step - loss: 0.1418 - categorical_accuracy: 0.9521 - val_loss: 2.5989 - val_categorical_accuracy: 0.5600\n",
            "Epoch 30/50\n",
            "453/453 [==============================] - 70s 154ms/step - loss: 0.1470 - categorical_accuracy: 0.9486 - val_loss: 2.6282 - val_categorical_accuracy: 0.5578\n",
            "Epoch 31/50\n",
            "453/453 [==============================] - 68s 150ms/step - loss: 0.1283 - categorical_accuracy: 0.9580 - val_loss: 2.7260 - val_categorical_accuracy: 0.5553\n",
            "Epoch 32/50\n",
            "453/453 [==============================] - 69s 151ms/step - loss: 0.1400 - categorical_accuracy: 0.9527 - val_loss: 2.6907 - val_categorical_accuracy: 0.5656\n",
            "Epoch 33/50\n",
            "453/453 [==============================] - 70s 155ms/step - loss: 0.1208 - categorical_accuracy: 0.9573 - val_loss: 2.8432 - val_categorical_accuracy: 0.5424\n",
            "Epoch 34/50\n",
            "453/453 [==============================] - 68s 149ms/step - loss: 0.1173 - categorical_accuracy: 0.9599 - val_loss: 2.7944 - val_categorical_accuracy: 0.5747\n",
            "Epoch 35/50\n",
            "453/453 [==============================] - 70s 155ms/step - loss: 0.1035 - categorical_accuracy: 0.9614 - val_loss: 2.9894 - val_categorical_accuracy: 0.5606\n",
            "Epoch 36/50\n",
            "453/453 [==============================] - 68s 150ms/step - loss: 0.0961 - categorical_accuracy: 0.9679 - val_loss: 3.0689 - val_categorical_accuracy: 0.5473\n",
            "Epoch 37/50\n",
            "453/453 [==============================] - 68s 151ms/step - loss: 0.1241 - categorical_accuracy: 0.9589 - val_loss: 2.5020 - val_categorical_accuracy: 0.5520\n",
            "Epoch 38/50\n",
            "453/453 [==============================] - 71s 157ms/step - loss: 0.0892 - categorical_accuracy: 0.9701 - val_loss: 3.0632 - val_categorical_accuracy: 0.5631\n",
            "Epoch 39/50\n",
            "453/453 [==============================] - 68s 150ms/step - loss: 0.0890 - categorical_accuracy: 0.9711 - val_loss: 3.1356 - val_categorical_accuracy: 0.5620\n",
            "Epoch 40/50\n",
            "453/453 [==============================] - 68s 150ms/step - loss: 0.0666 - categorical_accuracy: 0.9785 - val_loss: 3.2058 - val_categorical_accuracy: 0.5763\n",
            "Epoch 41/50\n",
            "453/453 [==============================] - 71s 156ms/step - loss: 0.0915 - categorical_accuracy: 0.9688 - val_loss: 3.2141 - val_categorical_accuracy: 0.5556\n",
            "Epoch 42/50\n",
            "453/453 [==============================] - 68s 150ms/step - loss: 0.0705 - categorical_accuracy: 0.9760 - val_loss: 3.1471 - val_categorical_accuracy: 0.5495\n",
            "Epoch 43/50\n",
            "453/453 [==============================] - 70s 155ms/step - loss: 0.0715 - categorical_accuracy: 0.9762 - val_loss: 3.3919 - val_categorical_accuracy: 0.5443\n",
            "Epoch 44/50\n",
            "453/453 [==============================] - 68s 150ms/step - loss: 0.0669 - categorical_accuracy: 0.9781 - val_loss: 3.3643 - val_categorical_accuracy: 0.5551\n",
            "Epoch 45/50\n",
            "453/453 [==============================] - 68s 150ms/step - loss: 0.0542 - categorical_accuracy: 0.9823 - val_loss: 3.5969 - val_categorical_accuracy: 0.5758\n",
            "Epoch 46/50\n",
            "453/453 [==============================] - 71s 156ms/step - loss: 0.0569 - categorical_accuracy: 0.9816 - val_loss: 3.5995 - val_categorical_accuracy: 0.5603\n",
            "Epoch 47/50\n",
            "453/453 [==============================] - 68s 151ms/step - loss: 0.0635 - categorical_accuracy: 0.9797 - val_loss: 3.1256 - val_categorical_accuracy: 0.5716\n",
            "Epoch 48/50\n",
            "453/453 [==============================] - 68s 150ms/step - loss: 0.0646 - categorical_accuracy: 0.9798 - val_loss: 3.0653 - val_categorical_accuracy: 0.5727\n",
            "Epoch 49/50\n",
            "453/453 [==============================] - 71s 156ms/step - loss: 0.0401 - categorical_accuracy: 0.9860 - val_loss: 3.6883 - val_categorical_accuracy: 0.5642\n",
            "Epoch 50/50\n",
            "453/453 [==============================] - 68s 150ms/step - loss: 0.0538 - categorical_accuracy: 0.9816 - val_loss: 3.6017 - val_categorical_accuracy: 0.5678\n"
          ]
        }
      ]
    },
    {
      "cell_type": "code",
      "source": [
        "import matplotlib.pyplot as plt\n",
        "import seaborn as sns\n",
        "epoch_count = range(1, len(hist.history['categorical_accuracy']) + 1)\n",
        "sns.lineplot(x=epoch_count,  y=hist.history['categorical_accuracy'], label='train')\n",
        "sns.lineplot(x=epoch_count,  y=hist.history['val_categorical_accuracy'], label='valid')\n",
        "plt.show()"
      ],
      "metadata": {
        "colab": {
          "base_uri": "https://localhost:8080/",
          "height": 266
        },
        "id": "MFsPcUHPbjLF",
        "outputId": "2d84a07d-f3b8-4556-90a4-0d691a5b0968"
      },
      "execution_count": 39,
      "outputs": [
        {
          "output_type": "display_data",
          "data": {
            "text/plain": [
              "<Figure size 432x288 with 1 Axes>"
            ],
            "image/png": "[encoded data removed]"
          },
          "metadata": {
            "needs_background": "light"
          }
        }
      ]
    },
    {
      "cell_type": "code",
      "source": [
        "model.evaluate(X_test, y_test)"
      ],
      "metadata": {
        "colab": {
          "base_uri": "https://localhost:8080/"
        },
        "id": "JGqBT5IGbf9o",
        "outputId": "620d8de0-1a8a-492c-8b98-693c5a577f44"
      },
      "execution_count": 40,
      "outputs": [
        {
          "output_type": "stream",
          "name": "stdout",
          "text": [
            "142/142 [==============================] - 5s 36ms/step - loss: 3.6582 - categorical_accuracy: 0.5670\n"
          ]
        },
        {
          "output_type": "execute_result",
          "data": {
            "text/plain": [
              "[3.658226728439331, 0.5670126080513]"
            ]
          },
          "metadata": {},
          "execution_count": 40
        }
      ]
    },
    {
      "cell_type": "code",
      "source": [],
      "metadata": {
        "id": "I2PRG_P3bgAH"
      },
      "execution_count": 40,
      "outputs": []
    },
    {
      "cell_type": "markdown",
      "source": [
        "# PRETRAINED"
      ],
      "metadata": {
        "id": "3hn1nRPzyO7E"
      }
    },
    {
      "cell_type": "code",
      "source": [
        "# Descargar los embeddings desde un gogle drive (es la forma más rápida)\n",
        "# NOTA: No hay garantía de que estos links perduren, en caso de que no estén\n",
        "# disponibles descargar de la página oficial como se explica en el siguiente bloque\n",
        "import os\n",
        "import gdown\n",
        "if os.access('fasttext.pkl', os.F_OK) is False:\n",
        "    url = 'https://drive.google.com/uc?id=1Qi1r-u5lsEsNqRSxLrpNOqQ3B_ufltCa&export=download'\n",
        "    output = 'fasttext.pkl'\n",
        "    gdown.download(url, output, quiet=False)\n",
        "else:\n",
        "    print(\"Los embeddings fasttext.pkl ya están descargados\")"
      ],
      "metadata": {
        "colab": {
          "base_uri": "https://localhost:8080/"
        },
        "id": "HDAj3JGdyQy5",
        "outputId": "c9efd4e2-fb16-4d14-f538-b4e01af3dba5"
      },
      "execution_count": 41,
      "outputs": [
        {
          "output_type": "stream",
          "name": "stderr",
          "text": [
            "Downloading...\n",
            "From: https://drive.google.com/uc?id=1Qi1r-u5lsEsNqRSxLrpNOqQ3B_ufltCa&export=download\n",
            "To: /content/fasttext.pkl\n",
            "100%|██████████| 2.88G/2.88G [00:26<00:00, 109MB/s]\n"
          ]
        }
      ]
    },
    {
      "cell_type": "code",
      "source": [
        "import logging\n",
        "import os\n",
        "from pathlib import Path\n",
        "from io import StringIO\n",
        "import pickle\n",
        "\n",
        "class WordsEmbeddings(object):\n",
        "    logger = logging.getLogger(__name__)\n",
        "\n",
        "    def __init__(self):\n",
        "        # load the embeddings\n",
        "        words_embedding_pkl = Path(self.PKL_PATH)\n",
        "        if not words_embedding_pkl.is_file():\n",
        "            words_embedding_txt = Path(self.WORD_TO_VEC_MODEL_TXT_PATH)\n",
        "            assert words_embedding_txt.is_file(), 'Words embedding not available'\n",
        "            embeddings = self.convert_model_to_pickle()\n",
        "        else:\n",
        "            embeddings = self.load_model_from_pickle()\n",
        "        self.embeddings = embeddings\n",
        "        # build the vocabulary hashmap\n",
        "        index = np.arange(self.embeddings.shape[0])\n",
        "        # Dicctionarios para traducir de embedding a IDX de la palabra\n",
        "        self.word2idx = dict(zip(self.embeddings['word'], index))\n",
        "        self.idx2word = dict(zip(index, self.embeddings['word']))\n",
        "\n",
        "    def get_words_embeddings(self, words):\n",
        "        words_idxs = self.words2idxs(words)\n",
        "        return self.embeddings[words_idxs]['embedding']\n",
        "\n",
        "    def words2idxs(self, words):\n",
        "        return np.array([self.word2idx.get(word, -1) for word in words])\n",
        "\n",
        "    def idxs2words(self, idxs):\n",
        "        return np.array([self.idx2word.get(idx, '-1') for idx in idxs])\n",
        "\n",
        "    def load_model_from_pickle(self):\n",
        "        self.logger.debug(\n",
        "            'loading words embeddings from pickle {}'.format(\n",
        "                self.PKL_PATH\n",
        "            )\n",
        "        )\n",
        "        max_bytes = 2**28 - 1 # 256MB\n",
        "        bytes_in = bytearray(0)\n",
        "        input_size = os.path.getsize(self.PKL_PATH)\n",
        "        with open(self.PKL_PATH, 'rb') as f_in:\n",
        "            for _ in range(0, input_size, max_bytes):\n",
        "                bytes_in += f_in.read(max_bytes)\n",
        "        embeddings = pickle.loads(bytes_in)\n",
        "        self.logger.debug('words embeddings loaded')\n",
        "        return embeddings\n",
        "\n",
        "    def convert_model_to_pickle(self):\n",
        "        # create a numpy strctured array:\n",
        "        # word     embedding\n",
        "        # U50      np.float32[]\n",
        "        # word_1   a, b, c\n",
        "        # word_2   d, e, f\n",
        "        # ...\n",
        "        # word_n   g, h, i\n",
        "        self.logger.debug(\n",
        "            'converting and loading words embeddings from text file {}'.format(\n",
        "                self.WORD_TO_VEC_MODEL_TXT_PATH\n",
        "            )\n",
        "        )\n",
        "        structure = [('word', np.dtype('U' + str(self.WORD_MAX_SIZE))),\n",
        "                     ('embedding', np.float32, (self.N_FEATURES,))]\n",
        "        structure = np.dtype(structure)\n",
        "        # load numpy array from disk using a generator\n",
        "        with open(self.WORD_TO_VEC_MODEL_TXT_PATH, encoding=\"utf8\") as words_embeddings_txt:\n",
        "            embeddings_gen = (\n",
        "                (line.split()[0], line.split()[1:]) for line in words_embeddings_txt\n",
        "                if len(line.split()[1:]) == self.N_FEATURES\n",
        "            )\n",
        "            embeddings = np.fromiter(embeddings_gen, structure)\n",
        "        # add a null embedding\n",
        "        null_embedding = np.array(\n",
        "            [('null_embedding', np.zeros((self.N_FEATURES,), dtype=np.float32))],\n",
        "            dtype=structure\n",
        "        )\n",
        "        embeddings = np.concatenate([embeddings, null_embedding])\n",
        "        # dump numpy array to disk using pickle\n",
        "        max_bytes = 2**28 - 1 # # 256MB\n",
        "        bytes_out = pickle.dumps(embeddings, protocol=pickle.HIGHEST_PROTOCOL)\n",
        "        with open(self.PKL_PATH, 'wb') as f_out:\n",
        "            for idx in range(0, len(bytes_out), max_bytes):\n",
        "                f_out.write(bytes_out[idx:idx+max_bytes])\n",
        "        self.logger.debug('words embeddings loaded')\n",
        "        return embeddings\n",
        "\n",
        "\n",
        "class GloveEmbeddings(WordsEmbeddings):\n",
        "    WORD_TO_VEC_MODEL_TXT_PATH = 'glove.twitter.27B.50d.txt'\n",
        "    PKL_PATH = 'gloveembedding.pkl'\n",
        "    N_FEATURES = 50\n",
        "    WORD_MAX_SIZE = 60\n",
        "\n",
        "\n",
        "class FasttextEmbeddings(WordsEmbeddings):\n",
        "    WORD_TO_VEC_MODEL_TXT_PATH = 'cc.en.300.vec'\n",
        "    PKL_PATH = 'fasttext.pkl'\n",
        "    N_FEATURES = 300\n",
        "    WORD_MAX_SIZE = 60"
      ],
      "metadata": {
        "id": "CFruFM0QyQ1v"
      },
      "execution_count": 42,
      "outputs": []
    },
    {
      "cell_type": "code",
      "source": [
        "model_fasttext = FasttextEmbeddings()\n",
        "# Mirar cómo sube el uso de RAM en colab!"
      ],
      "metadata": {
        "id": "_RI-qD6byQ4F"
      },
      "execution_count": 43,
      "outputs": []
    },
    {
      "cell_type": "code",
      "source": [
        "# Crear la Embedding matrix para la cantidad nb_words seleccionadas\n",
        "# nos vamos a quedar sólo con los vectores de embeddings para las palabras\n",
        "# que definimos como vocabulario\n",
        "\n",
        "print('preparing embedding matrix...')\n",
        "embed_dim = 300 # fasttext\n",
        "words_not_found = []\n",
        "\n",
        "# word_index proviene del tokenizer\n",
        "\n",
        "nb_words = min(num_words, len(word_index)) # vocab_size\n",
        "embedding_matrix = np.zeros((nb_words, embed_dim))\n",
        "\n",
        "# word_index está ordenado de mayor a menor frecuencia de palabras\n",
        "# las primeras que entren en el ciclo for serán las más frecuentes\n",
        "# Atención! El tokenizador de Keras no tiene soporte para stop words\n",
        "# las primeras palabras probablemente sean stopwords, para eliminarlas\n",
        "# hay que procesar el word_index o bien elegir otra librería para preprocesamiento\n",
        "# ¡ver clase 2! ;)\n",
        "for word, i in word_index.items():\n",
        "    if i >= nb_words:\n",
        "        continue\n",
        "    embedding_vector = model_fasttext.get_words_embeddings(word)[0]\n",
        "    if (embedding_vector is not None) and len(embedding_vector) > 0:\n",
        "        embedding_matrix[i] = embedding_vector\n",
        "    else:\n",
        "        # words que no estén en el índice de la matriz de embedding tendrán\n",
        "        # como vector de embedding correspondiente todos ceros\n",
        "        words_not_found.append(word)\n",
        "        print(word)\n",
        "\n",
        "print('number of null word embeddings:', np.sum(np.sum(embedding_matrix**2, axis=1) == 0))"
      ],
      "metadata": {
        "colab": {
          "base_uri": "https://localhost:8080/"
        },
        "id": "-YVwy8uJyQ6S",
        "outputId": "e6d36531-88d7-4da1-e5a2-72411c2bcd15"
      },
      "execution_count": 44,
      "outputs": [
        {
          "output_type": "stream",
          "name": "stdout",
          "text": [
            "preparing embedding matrix...\n",
            "number of null word embeddings: 2\n"
          ]
        }
      ]
    },
    {
      "cell_type": "code",
      "source": [
        "# Definimos el modelo\n",
        "\n",
        "model2 = Sequential()\n",
        "# input_dim = vocab_size (max n_words)\n",
        "# input_length = setencias con padding a 200\n",
        "# output_dim = embed_dim (depende que embeddings pre entrenados utilizamos)\n",
        "model2.add(Embedding(input_dim=vocab_size, # definido en el Tokenizador\n",
        "                     output_dim=embed_dim, # dimensión de los embeddings utilizados\n",
        "                     input_length=in_shape, # máxima sentencia de entrada\n",
        "                     weights=[embedding_matrix], # matrix de embeddings\n",
        "                    trainable=False)) # marcar como layer no entrenable\n",
        "\n",
        "model2.add(LSTM(units=64, return_sequences=True))\n",
        "model2.add(Dropout(0.2))\n",
        "model2.add(LSTM(units=64)) # La última capa LSTM no lleva return_sequences\n",
        "\n",
        "model2.add(Dense(units=128, activation='relu'))\n",
        "model2.add(Dropout(rate=0.2))\n",
        "model2.add(Dense(units=out_shape, activation='softmax'))\n",
        "\n",
        "model2.compile(optimizer=\"adam\",\n",
        "              loss='categorical_crossentropy',\n",
        "              metrics=['categorical_accuracy'])\n",
        "\n",
        "model2.summary()"
      ],
      "metadata": {
        "colab": {
          "base_uri": "https://localhost:8080/"
        },
        "id": "EYOsD-6WybRr",
        "outputId": "22604448-529e-4f31-a65b-55e8bd048904"
      },
      "execution_count": 45,
      "outputs": [
        {
          "output_type": "stream",
          "name": "stdout",
          "text": [
            "Model: \"sequential_1\"\n",
            "_________________________________________________________________\n",
            " Layer (type)                Output Shape              Param #   \n",
            "=================================================================\n",
            " embedding_1 (Embedding)     (None, 115, 300)          600000    \n",
            "                                                                 \n",
            " lstm_2 (LSTM)               (None, 115, 64)           93440     \n",
            "                                                                 \n",
            " dropout_2 (Dropout)         (None, 115, 64)           0         \n",
            "                                                                 \n",
            " lstm_3 (LSTM)               (None, 64)                33024     \n",
            "                                                                 \n",
            " dense_2 (Dense)             (None, 128)               8320      \n",
            "                                                                 \n",
            " dropout_3 (Dropout)         (None, 128)               0         \n",
            "                                                                 \n",
            " dense_3 (Dense)             (None, 5)                 645       \n",
            "                                                                 \n",
            "=================================================================\n",
            "Total params: 735,429\n",
            "Trainable params: 135,429\n",
            "Non-trainable params: 600,000\n",
            "_________________________________________________________________\n"
          ]
        }
      ]
    },
    {
      "cell_type": "code",
      "source": [
        "hist2 = model2.fit(X_train, y_train, epochs=20, validation_split=0.20)"
      ],
      "metadata": {
        "colab": {
          "base_uri": "https://localhost:8080/"
        },
        "id": "GrnUj334ybUf",
        "outputId": "9eafb5da-0ea7-4aee-a338-fef5e6eeadd6"
      },
      "execution_count": 47,
      "outputs": [
        {
          "output_type": "stream",
          "name": "stdout",
          "text": [
            "Epoch 1/20\n",
            "453/453 [==============================] - 98s 216ms/step - loss: 1.1721 - categorical_accuracy: 0.5579 - val_loss: 1.1669 - val_categorical_accuracy: 0.5407\n",
            "Epoch 2/20\n",
            "453/453 [==============================] - 93s 206ms/step - loss: 1.1445 - categorical_accuracy: 0.5599 - val_loss: 1.1662 - val_categorical_accuracy: 0.5415\n",
            "Epoch 3/20\n",
            "453/453 [==============================] - 96s 212ms/step - loss: 1.1266 - categorical_accuracy: 0.5638 - val_loss: 1.1376 - val_categorical_accuracy: 0.5471\n",
            "Epoch 4/20\n",
            "453/453 [==============================] - 94s 207ms/step - loss: 1.1077 - categorical_accuracy: 0.5666 - val_loss: 1.1327 - val_categorical_accuracy: 0.5484\n",
            "Epoch 5/20\n",
            "453/453 [==============================] - 93s 206ms/step - loss: 1.0883 - categorical_accuracy: 0.5723 - val_loss: 1.1253 - val_categorical_accuracy: 0.5479\n",
            "Epoch 6/20\n",
            "453/453 [==============================] - 101s 223ms/step - loss: 1.0646 - categorical_accuracy: 0.5780 - val_loss: 1.1057 - val_categorical_accuracy: 0.5512\n",
            "Epoch 7/20\n",
            "453/453 [==============================] - 94s 207ms/step - loss: 1.0476 - categorical_accuracy: 0.5867 - val_loss: 1.0953 - val_categorical_accuracy: 0.5575\n",
            "Epoch 8/20\n",
            "453/453 [==============================] - 94s 207ms/step - loss: 1.0247 - categorical_accuracy: 0.5902 - val_loss: 1.0894 - val_categorical_accuracy: 0.5633\n",
            "Epoch 9/20\n",
            "453/453 [==============================] - 97s 215ms/step - loss: 1.0045 - categorical_accuracy: 0.5985 - val_loss: 1.0949 - val_categorical_accuracy: 0.5606\n",
            "Epoch 10/20\n",
            "453/453 [==============================] - 102s 226ms/step - loss: 0.9884 - categorical_accuracy: 0.6034 - val_loss: 1.1047 - val_categorical_accuracy: 0.5691\n",
            "Epoch 11/20\n",
            "453/453 [==============================] - 97s 215ms/step - loss: 0.9619 - categorical_accuracy: 0.6099 - val_loss: 1.0937 - val_categorical_accuracy: 0.5603\n",
            "Epoch 12/20\n",
            "453/453 [==============================] - 97s 214ms/step - loss: 0.9385 - categorical_accuracy: 0.6247 - val_loss: 1.1231 - val_categorical_accuracy: 0.5609\n",
            "Epoch 13/20\n",
            "453/453 [==============================] - 94s 207ms/step - loss: 0.9138 - categorical_accuracy: 0.6323 - val_loss: 1.1377 - val_categorical_accuracy: 0.5570\n",
            "Epoch 14/20\n",
            "453/453 [==============================] - 97s 214ms/step - loss: 0.8929 - categorical_accuracy: 0.6410 - val_loss: 1.1577 - val_categorical_accuracy: 0.5575\n",
            "Epoch 15/20\n",
            "453/453 [==============================] - 94s 208ms/step - loss: 0.8605 - categorical_accuracy: 0.6508 - val_loss: 1.1713 - val_categorical_accuracy: 0.5493\n",
            "Epoch 16/20\n",
            "453/453 [==============================] - 94s 208ms/step - loss: 0.8401 - categorical_accuracy: 0.6612 - val_loss: 1.1710 - val_categorical_accuracy: 0.5501\n",
            "Epoch 17/20\n",
            "453/453 [==============================] - 97s 214ms/step - loss: 0.8053 - categorical_accuracy: 0.6759 - val_loss: 1.2255 - val_categorical_accuracy: 0.5487\n",
            "Epoch 18/20\n",
            "453/453 [==============================] - 98s 216ms/step - loss: 0.7733 - categorical_accuracy: 0.6911 - val_loss: 1.2569 - val_categorical_accuracy: 0.5504\n",
            "Epoch 19/20\n",
            "453/453 [==============================] - 98s 215ms/step - loss: 0.7472 - categorical_accuracy: 0.6963 - val_loss: 1.2712 - val_categorical_accuracy: 0.5476\n",
            "Epoch 20/20\n",
            "453/453 [==============================] - 95s 209ms/step - loss: 0.7285 - categorical_accuracy: 0.7057 - val_loss: 1.3413 - val_categorical_accuracy: 0.5393\n"
          ]
        }
      ]
    },
    {
      "cell_type": "code",
      "source": [
        "import matplotlib.pyplot as plt\n",
        "import seaborn as sns\n",
        "epoch_count = range(1, len(hist2.history['categorical_accuracy']) + 1)\n",
        "sns.lineplot(x=epoch_count,  y=hist2.history['categorical_accuracy'], label='train')\n",
        "sns.lineplot(x=epoch_count,  y=hist2.history['val_categorical_accuracy'], label='valid')\n",
        "plt.show()"
      ],
      "metadata": {
        "colab": {
          "base_uri": "https://localhost:8080/",
          "height": 265
        },
        "id": "duhimfPVybXc",
        "outputId": "f34280af-b2b6-4bd1-c002-741075f0dbff"
      },
      "execution_count": 48,
      "outputs": [
        {
          "output_type": "display_data",
          "data": {
            "text/plain": [
              "<Figure size 432x288 with 1 Axes>"
            ],
            "image/png": "[encoded data removed]"
          },
          "metadata": {
            "needs_background": "light"
          }
        }
      ]
    },
    {
      "cell_type": "code",
      "source": [
        "model2.evaluate(X_test, y_test)"
      ],
      "metadata": {
        "colab": {
          "base_uri": "https://localhost:8080/"
        },
        "id": "-5-wBGMGybZ7",
        "outputId": "d331b4de-3a37-48ac-fbcf-4d2822218859"
      },
      "execution_count": 49,
      "outputs": [
        {
          "output_type": "stream",
          "name": "stdout",
          "text": [
            "142/142 [==============================] - 10s 69ms/step - loss: 1.3267 - categorical_accuracy: 0.5323\n"
          ]
        },
        {
          "output_type": "execute_result",
          "data": {
            "text/plain": [
              "[1.3266562223434448, 0.5323470830917358]"
            ]
          },
          "metadata": {},
          "execution_count": 49
        }
      ]
    },
    {
      "cell_type": "markdown",
      "source": [
        "# CONCLUSIÓN"
      ],
      "metadata": {
        "id": "8stfNhRrzK9r"
      }
    },
    {
      "cell_type": "markdown",
      "source": [
        "El objetivo del desafío es alcanzar un accuracy en validación entre 0,50 y 0,70.\n",
        "\n",
        "Se detectó que el dataset no estaba balanceado, sino que era muchas más las reseñas con 4 y 5 estrellas. Entre estas dos clasificaciones se abarcó el 70% del dataset. La cantidad de estrellas decrece conforme son menores las puntuaciones. Como se detectó un dataset desbalanceado, se lo equilibró obteniendo la misma cantidad de reseñas de 5 estrellas hasta 1.\n",
        "\n",
        "Se entrenó un modelo de red neuronal RNN LSTM, probando varios parámetros de neuronas. En pocas épocas se alcanzó un overfitting, en donde en entrenamiento se logró un accuracy del 90% pero en validación hasta 30%, cosa que no era suficiente para el objetivo del desafío.\n",
        "\n",
        "Se probó también con embeddings preentrenados y se logró una performance parecida, con accuravy de 30%.\n",
        "\n",
        "Finalmente, se probó con todo el dataset completo, sin balancear, y se alcanzó un accuracy del 60% en el modelo de embeddings sin preentrenamiento.\n",
        "\n",
        "Lo que se sospecha que está ocurriendo es que con 4 y 5 puntos de rating se cubre el 70% del dataset, porque esta fuertemente desbalanceado. ENtonces, si el modelo predice sólo ratings de 4 y 5 puntos estaría logrando un accuracy alto. El problema es que estaría subestimando la realidad porque es un modelo sesgado. La otra métrica a atender es el recall, que es sencillo de comprender para problemas binarios, pero para multi clase es poco común."
      ],
      "metadata": {
        "id": "gFrdB2P-zOD6"
      }
    }
  ]
}

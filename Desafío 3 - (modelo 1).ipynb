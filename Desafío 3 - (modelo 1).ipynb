{
  "cells": [
    {
      "cell_type": "markdown",
      "metadata": {
        "id": "sZd5yLnnHOK0"
      },
      "source": [
        "<img src=\"https://github.com/hernancontigiani/ceia_memorias_especializacion/raw/master/Figures/logoFIUBA.jpg\" width=\"500\" align=\"center\">\n",
        "\n",
        "\n",
        "# Procesamiento de lenguaje natural\n",
        "## Custom embedddings con Gensim\n",
        "\n"
      ]
    },
    {
      "cell_type": "markdown",
      "metadata": {
        "id": "vA7nqkumo9z9"
      },
      "source": [
        "### Objetivo\n",
        "El objetivo es utilizar documentos / corpus para crear embeddings de palabras basado en ese contexto. Se utilizará canciones de bandas para generar los embeddings, es decir, que los vectores tendrán la forma en función de como esa banda haya utilizado las palabras en sus canciones."
      ]
    },
    {
      "cell_type": "code",
      "execution_count": 2,
      "metadata": {
        "id": "lFToQs5FK5uZ"
      },
      "outputs": [],
      "source": [
        "import pandas as pd\n",
        "import matplotlib.pyplot as plt\n",
        "import seaborn as sns\n",
        "\n",
        "import multiprocessing\n",
        "from gensim.models import Word2Vec"
      ]
    },
    {
      "cell_type": "markdown",
      "metadata": {
        "id": "g07zJxG7H9vG"
      },
      "source": [
        "### Datos\n",
        "Utilizaremos como dataset la biblia."
      ]
    },
    {
      "cell_type": "code",
      "execution_count": 7,
      "metadata": {
        "id": "ticoqYD1Z3I7",
        "colab": {
          "base_uri": "https://localhost:8080/",
          "height": 261
        },
        "outputId": "7321ca00-4251-4c39-c32a-d017fb4f380e"
      },
      "outputs": [
        {
          "output_type": "stream",
          "name": "stderr",
          "text": [
            "/usr/local/lib/python3.7/dist-packages/pandas/util/_decorators.py:311: ParserWarning: Falling back to the 'python' engine because the 'c' engine does not support regex separators (separators > 1 char and different from '\\s+' are interpreted as regex); you can avoid this warning by specifying engine='python'.\n",
            "  return func(*args, **kwargs)\n"
          ]
        },
        {
          "output_type": "execute_result",
          "data": {
            "text/plain": [
              "                                                   0\n",
              "0  In the beginning God created the heaven and th...\n",
              "1  And the earth was without form, and void; and ...\n",
              "2  And God said, Let there be light: and there wa...\n",
              "3  And God saw the light, that it was good: and G...\n",
              "4  And God called the light Day, and the darkness..."
            ],
            "text/html": [
              "\n",
              "  <div id=\"df-7c658a33-3b64-4030-a459-8e111b384682\">\n",
              "    <div class=\"colab-df-container\">\n",
              "      <div>\n",
              "<style scoped>\n",
              "    .dataframe tbody tr th:only-of-type {\n",
              "        vertical-align: middle;\n",
              "    }\n",
              "\n",
              "    .dataframe tbody tr th {\n",
              "        vertical-align: top;\n",
              "    }\n",
              "\n",
              "    .dataframe thead th {\n",
              "        text-align: right;\n",
              "    }\n",
              "</style>\n",
              "<table border=\"1\" class=\"dataframe\">\n",
              "  <thead>\n",
              "    <tr style=\"text-align: right;\">\n",
              "      <th></th>\n",
              "      <th>0</th>\n",
              "    </tr>\n",
              "  </thead>\n",
              "  <tbody>\n",
              "    <tr>\n",
              "      <th>0</th>\n",
              "      <td>In the beginning God created the heaven and th...</td>\n",
              "    </tr>\n",
              "    <tr>\n",
              "      <th>1</th>\n",
              "      <td>And the earth was without form, and void; and ...</td>\n",
              "    </tr>\n",
              "    <tr>\n",
              "      <th>2</th>\n",
              "      <td>And God said, Let there be light: and there wa...</td>\n",
              "    </tr>\n",
              "    <tr>\n",
              "      <th>3</th>\n",
              "      <td>And God saw the light, that it was good: and G...</td>\n",
              "    </tr>\n",
              "    <tr>\n",
              "      <th>4</th>\n",
              "      <td>And God called the light Day, and the darkness...</td>\n",
              "    </tr>\n",
              "  </tbody>\n",
              "</table>\n",
              "</div>\n",
              "      <button class=\"colab-df-convert\" onclick=\"convertToInteractive('df-7c658a33-3b64-4030-a459-8e111b384682')\"\n",
              "              title=\"Convert this dataframe to an interactive table.\"\n",
              "              style=\"display:none;\">\n",
              "        \n",
              "  <svg xmlns=\"http://www.w3.org/2000/svg\" height=\"24px\"viewBox=\"0 0 24 24\"\n",
              "       width=\"24px\">\n",
              "    <path d=\"M0 0h24v24H0V0z\" fill=\"none\"/>\n",
              "    <path d=\"M18.56 5.44l.94 2.06.94-2.06 2.06-.94-2.06-.94-.94-2.06-.94 2.06-2.06.94zm-11 1L8.5 8.5l.94-2.06 2.06-.94-2.06-.94L8.5 2.5l-.94 2.06-2.06.94zm10 10l.94 2.06.94-2.06 2.06-.94-2.06-.94-.94-2.06-.94 2.06-2.06.94z\"/><path d=\"M17.41 7.96l-1.37-1.37c-.4-.4-.92-.59-1.43-.59-.52 0-1.04.2-1.43.59L10.3 9.45l-7.72 7.72c-.78.78-.78 2.05 0 2.83L4 21.41c.39.39.9.59 1.41.59.51 0 1.02-.2 1.41-.59l7.78-7.78 2.81-2.81c.8-.78.8-2.07 0-2.86zM5.41 20L4 18.59l7.72-7.72 1.47 1.35L5.41 20z\"/>\n",
              "  </svg>\n",
              "      </button>\n",
              "      \n",
              "  <style>\n",
              "    .colab-df-container {\n",
              "      display:flex;\n",
              "      flex-wrap:wrap;\n",
              "      gap: 12px;\n",
              "    }\n",
              "\n",
              "    .colab-df-convert {\n",
              "      background-color: #E8F0FE;\n",
              "      border: none;\n",
              "      border-radius: 50%;\n",
              "      cursor: pointer;\n",
              "      display: none;\n",
              "      fill: #1967D2;\n",
              "      height: 32px;\n",
              "      padding: 0 0 0 0;\n",
              "      width: 32px;\n",
              "    }\n",
              "\n",
              "    .colab-df-convert:hover {\n",
              "      background-color: #E2EBFA;\n",
              "      box-shadow: 0px 1px 2px rgba(60, 64, 67, 0.3), 0px 1px 3px 1px rgba(60, 64, 67, 0.15);\n",
              "      fill: #174EA6;\n",
              "    }\n",
              "\n",
              "    [theme=dark] .colab-df-convert {\n",
              "      background-color: #3B4455;\n",
              "      fill: #D2E3FC;\n",
              "    }\n",
              "\n",
              "    [theme=dark] .colab-df-convert:hover {\n",
              "      background-color: #434B5C;\n",
              "      box-shadow: 0px 1px 3px 1px rgba(0, 0, 0, 0.15);\n",
              "      filter: drop-shadow(0px 1px 2px rgba(0, 0, 0, 0.3));\n",
              "      fill: #FFFFFF;\n",
              "    }\n",
              "  </style>\n",
              "\n",
              "      <script>\n",
              "        const buttonEl =\n",
              "          document.querySelector('#df-7c658a33-3b64-4030-a459-8e111b384682 button.colab-df-convert');\n",
              "        buttonEl.style.display =\n",
              "          google.colab.kernel.accessAllowed ? 'block' : 'none';\n",
              "\n",
              "        async function convertToInteractive(key) {\n",
              "          const element = document.querySelector('#df-7c658a33-3b64-4030-a459-8e111b384682');\n",
              "          const dataTable =\n",
              "            await google.colab.kernel.invokeFunction('convertToInteractive',\n",
              "                                                     [key], {});\n",
              "          if (!dataTable) return;\n",
              "\n",
              "          const docLinkHtml = 'Like what you see? Visit the ' +\n",
              "            '<a target=\"_blank\" href=https://colab.research.google.com/notebooks/data_table.ipynb>data table notebook</a>'\n",
              "            + ' to learn more about interactive tables.';\n",
              "          element.innerHTML = '';\n",
              "          dataTable['output_type'] = 'display_data';\n",
              "          await google.colab.output.renderOutput(dataTable, element);\n",
              "          const docLink = document.createElement('div');\n",
              "          docLink.innerHTML = docLinkHtml;\n",
              "          element.appendChild(docLink);\n",
              "        }\n",
              "      </script>\n",
              "    </div>\n",
              "  </div>\n",
              "  "
            ]
          },
          "metadata": {},
          "execution_count": 7
        }
      ],
      "source": [
        "# Armar el dataset utilizando salto de línea para separar las oraciones/docs\n",
        "df = pd.read_csv(\"/biblia.txt\", sep = '/n', header = None)\n",
        "df.head()"
      ]
    },
    {
      "cell_type": "code",
      "execution_count": 8,
      "metadata": {
        "id": "LEpKubK9XzXN",
        "colab": {
          "base_uri": "https://localhost:8080/"
        },
        "outputId": "2ba9dc55-36cf-4509-c719-221a8259348f"
      },
      "outputs": [
        {
          "output_type": "stream",
          "name": "stdout",
          "text": [
            "Cantidad de documentos: 31102\n"
          ]
        }
      ],
      "source": [
        "print(\"Cantidad de documentos:\", df.shape[0])"
      ]
    },
    {
      "cell_type": "markdown",
      "metadata": {
        "id": "ab94qaFlrA1G"
      },
      "source": [
        "### 1 - Preprocesamiento"
      ]
    },
    {
      "cell_type": "code",
      "execution_count": 9,
      "metadata": {
        "id": "rIsmMWmjrDHd"
      },
      "outputs": [],
      "source": [
        "from keras.preprocessing.text import text_to_word_sequence\n",
        "\n",
        "sentence_tokens = []\n",
        "# Recorrer todas las filas y transformar las oraciones\n",
        "# en una secuencia de palabras (esto podría realizarse con NLTK o spaCy también)\n",
        "for _, row in df[:None].iterrows():\n",
        "    sentence_tokens.append(text_to_word_sequence(row[0]))"
      ]
    },
    {
      "cell_type": "code",
      "execution_count": 10,
      "metadata": {
        "id": "CHepi_DGrbhq",
        "colab": {
          "base_uri": "https://localhost:8080/"
        },
        "outputId": "4e838462-dc30-4ad5-9977-c3f44e8ff2f6"
      },
      "outputs": [
        {
          "output_type": "execute_result",
          "data": {
            "text/plain": [
              "[['in',\n",
              "  'the',\n",
              "  'beginning',\n",
              "  'god',\n",
              "  'created',\n",
              "  'the',\n",
              "  'heaven',\n",
              "  'and',\n",
              "  'the',\n",
              "  'earth'],\n",
              " ['and',\n",
              "  'the',\n",
              "  'earth',\n",
              "  'was',\n",
              "  'without',\n",
              "  'form',\n",
              "  'and',\n",
              "  'void',\n",
              "  'and',\n",
              "  'darkness',\n",
              "  'was',\n",
              "  'upon',\n",
              "  'the',\n",
              "  'face',\n",
              "  'of',\n",
              "  'the',\n",
              "  'deep',\n",
              "  'and',\n",
              "  'the',\n",
              "  'spirit',\n",
              "  'of',\n",
              "  'god',\n",
              "  'moved',\n",
              "  'upon',\n",
              "  'the',\n",
              "  'face',\n",
              "  'of',\n",
              "  'the',\n",
              "  'waters']]"
            ]
          },
          "metadata": {},
          "execution_count": 10
        }
      ],
      "source": [
        "# Demos un vistazo\n",
        "sentence_tokens[:2]"
      ]
    },
    {
      "cell_type": "markdown",
      "metadata": {
        "id": "BaXV6nlHr5Aa"
      },
      "source": [
        "### 2 - Crear los vectores (word2vec)"
      ]
    },
    {
      "cell_type": "code",
      "execution_count": 11,
      "metadata": {
        "id": "OSb0v7h8r7hK"
      },
      "outputs": [],
      "source": [
        "from gensim.models.callbacks import CallbackAny2Vec\n",
        "# Durante el entrenamiento gensim por defecto no informa el \"loss\" en cada época\n",
        "# Sobracargamos el callback para poder tener esta información\n",
        "class callback(CallbackAny2Vec):\n",
        "    \"\"\"\n",
        "    Callback to print loss after each epoch\n",
        "    \"\"\"\n",
        "    def __init__(self):\n",
        "        self.epoch = 0\n",
        "\n",
        "    def on_epoch_end(self, model):\n",
        "        loss = model.get_latest_training_loss()\n",
        "        if self.epoch == 0:\n",
        "            r = loss\n",
        "            print('Loss after epoch {}: {}'.format(self.epoch, r))\n",
        "        else:\n",
        "            r = loss - self.loss_previous_step\n",
        "            print('Loss after epoch {}: {}'.format(self.epoch, r))\n",
        "        self.epoch += 1\n",
        "        self.loss_previous_step = loss"
      ]
    },
    {
      "cell_type": "code",
      "execution_count": 12,
      "metadata": {
        "id": "i0wnDdv9sJ47"
      },
      "outputs": [],
      "source": [
        "# Crearmos el modelo generador de vectoeres\n",
        "# En este caso utilizaremos la estructura modelo Skipgram\n",
        "w2v_model = Word2Vec(min_count = 5,    # frecuencia mínima de palabra para incluirla en el vocabulario\n",
        "                     window = 3,       # cant de palabras antes y desp de la predicha\n",
        "                     size = 100,       # dimensionalidad de los vectores \n",
        "                     negative = 24,    # cantidad de negative samples... 0 es no se usa\n",
        "                     workers = 1,      # si tienen más cores pueden cambiar este valor\n",
        "                     sg = 1)           # modelo 0:CBOW  1:skipgram"
      ]
    },
    {
      "cell_type": "code",
      "execution_count": 13,
      "metadata": {
        "id": "5lTt8wErsf17"
      },
      "outputs": [],
      "source": [
        "# Buildear el vocabularui con los tokens\n",
        "w2v_model.build_vocab(sentence_tokens)"
      ]
    },
    {
      "cell_type": "code",
      "execution_count": 14,
      "metadata": {
        "id": "TNc9qt4os5AT",
        "colab": {
          "base_uri": "https://localhost:8080/"
        },
        "outputId": "7d5ec1e8-dd22-4a74-928b-62214f81271a"
      },
      "outputs": [
        {
          "output_type": "stream",
          "name": "stdout",
          "text": [
            "Cantidad de docs en el corpus: 31102\n"
          ]
        }
      ],
      "source": [
        "# Cantidad de filas/docs encontradas en el corpus\n",
        "print(\"Cantidad de docs en el corpus:\", w2v_model.corpus_count)"
      ]
    },
    {
      "cell_type": "code",
      "execution_count": 15,
      "metadata": {
        "id": "idw9cHF3tSMl",
        "colab": {
          "base_uri": "https://localhost:8080/"
        },
        "outputId": "672d72ef-2fc8-4d56-88a0-201aba2bdf04"
      },
      "outputs": [
        {
          "output_type": "stream",
          "name": "stdout",
          "text": [
            "Cantidad de words distintas en el corpus: 5332\n"
          ]
        }
      ],
      "source": [
        "# Cantidad de words encontradas en el corpus\n",
        "print(\"Cantidad de words distintas en el corpus:\", len(w2v_model.wv.vocab))"
      ]
    },
    {
      "cell_type": "markdown",
      "metadata": {
        "id": "fC9mZ8DPk-UC"
      },
      "source": [
        "### 3 - Entrenar el modelo generador"
      ]
    },
    {
      "cell_type": "code",
      "execution_count": 17,
      "metadata": {
        "id": "QSp-x0PAsq56",
        "colab": {
          "base_uri": "https://localhost:8080/"
        },
        "outputId": "a63f9124-6d45-4cdd-f4e7-122a144b37ab"
      },
      "outputs": [
        {
          "output_type": "stream",
          "name": "stderr",
          "text": [
            "WARNING:gensim.models.base_any2vec:Effective 'alpha' higher than previous training cycles\n"
          ]
        },
        {
          "output_type": "stream",
          "name": "stdout",
          "text": [
            "Loss after epoch 0: 5577854.0\n",
            "Loss after epoch 1: 4924120.0\n",
            "Loss after epoch 2: 4735857.0\n",
            "Loss after epoch 3: 4594251.0\n",
            "Loss after epoch 4: 4493692.0\n",
            "Loss after epoch 5: 4462192.0\n",
            "Loss after epoch 6: 4442724.0\n",
            "Loss after epoch 7: 4478658.0\n",
            "Loss after epoch 8: 4466788.0\n",
            "Loss after epoch 9: 4437432.0\n",
            "Loss after epoch 10: 4428156.0\n",
            "Loss after epoch 11: 4406500.0\n",
            "Loss after epoch 12: 4404056.0\n",
            "Loss after epoch 13: 4398252.0\n",
            "Loss after epoch 14: 3381860.0\n",
            "Loss after epoch 15: 1523936.0\n",
            "Loss after epoch 16: 1516256.0\n",
            "Loss after epoch 17: 1516808.0\n",
            "Loss after epoch 18: 1516592.0\n",
            "Loss after epoch 19: 1513360.0\n",
            "Loss after epoch 20: 1511968.0\n",
            "Loss after epoch 21: 1504816.0\n",
            "Loss after epoch 22: 1503640.0\n",
            "Loss after epoch 23: 1502784.0\n",
            "Loss after epoch 24: 1499280.0\n",
            "Loss after epoch 25: 1499592.0\n",
            "Loss after epoch 26: 1499256.0\n",
            "Loss after epoch 27: 1494104.0\n",
            "Loss after epoch 28: 1486880.0\n",
            "Loss after epoch 29: 1493360.0\n",
            "Loss after epoch 30: 1488640.0\n",
            "Loss after epoch 31: 1484280.0\n",
            "Loss after epoch 32: 1483000.0\n",
            "Loss after epoch 33: 1481824.0\n",
            "Loss after epoch 34: 1479960.0\n",
            "Loss after epoch 35: 1472520.0\n",
            "Loss after epoch 36: 1478720.0\n",
            "Loss after epoch 37: 1474784.0\n",
            "Loss after epoch 38: 1469072.0\n",
            "Loss after epoch 39: 1468232.0\n",
            "Loss after epoch 40: 1467808.0\n",
            "Loss after epoch 41: 1468224.0\n",
            "Loss after epoch 42: 1462208.0\n",
            "Loss after epoch 43: 1458848.0\n",
            "Loss after epoch 44: 1461264.0\n",
            "Loss after epoch 45: 1460952.0\n",
            "Loss after epoch 46: 1455456.0\n",
            "Loss after epoch 47: 1456640.0\n",
            "Loss after epoch 48: 1456216.0\n",
            "Loss after epoch 49: 1451736.0\n",
            "Loss after epoch 50: 1450536.0\n",
            "Loss after epoch 51: 1444984.0\n",
            "Loss after epoch 52: 1444768.0\n",
            "Loss after epoch 53: 1440968.0\n",
            "Loss after epoch 54: 1440864.0\n",
            "Loss after epoch 55: 1437664.0\n",
            "Loss after epoch 56: 1437616.0\n",
            "Loss after epoch 57: 1435584.0\n",
            "Loss after epoch 58: 1431616.0\n",
            "Loss after epoch 59: 1429272.0\n",
            "Loss after epoch 60: 228448.0\n",
            "Loss after epoch 61: 0.0\n",
            "Loss after epoch 62: 0.0\n",
            "Loss after epoch 63: 0.0\n",
            "Loss after epoch 64: 0.0\n",
            "Loss after epoch 65: 0.0\n",
            "Loss after epoch 66: 0.0\n",
            "Loss after epoch 67: 0.0\n",
            "Loss after epoch 68: 0.0\n",
            "Loss after epoch 69: 0.0\n",
            "Loss after epoch 70: 0.0\n",
            "Loss after epoch 71: 0.0\n",
            "Loss after epoch 72: 0.0\n",
            "Loss after epoch 73: 0.0\n",
            "Loss after epoch 74: 0.0\n",
            "Loss after epoch 75: 0.0\n",
            "Loss after epoch 76: 0.0\n",
            "Loss after epoch 77: 0.0\n",
            "Loss after epoch 78: 0.0\n",
            "Loss after epoch 79: 0.0\n",
            "Loss after epoch 80: 0.0\n",
            "Loss after epoch 81: 0.0\n",
            "Loss after epoch 82: 0.0\n",
            "Loss after epoch 83: 0.0\n",
            "Loss after epoch 84: 0.0\n",
            "Loss after epoch 85: 0.0\n",
            "Loss after epoch 86: 0.0\n",
            "Loss after epoch 87: 0.0\n",
            "Loss after epoch 88: 0.0\n",
            "Loss after epoch 89: 0.0\n",
            "Loss after epoch 90: 0.0\n",
            "Loss after epoch 91: 0.0\n",
            "Loss after epoch 92: 0.0\n",
            "Loss after epoch 93: 0.0\n",
            "Loss after epoch 94: 0.0\n",
            "Loss after epoch 95: 0.0\n",
            "Loss after epoch 96: 0.0\n",
            "Loss after epoch 97: 0.0\n",
            "Loss after epoch 98: 0.0\n",
            "Loss after epoch 99: 0.0\n",
            "Loss after epoch 100: 0.0\n",
            "Loss after epoch 101: 0.0\n",
            "Loss after epoch 102: 0.0\n",
            "Loss after epoch 103: 0.0\n",
            "Loss after epoch 104: 0.0\n",
            "Loss after epoch 105: 0.0\n",
            "Loss after epoch 106: 0.0\n",
            "Loss after epoch 107: 0.0\n",
            "Loss after epoch 108: 0.0\n",
            "Loss after epoch 109: 0.0\n",
            "Loss after epoch 110: 0.0\n",
            "Loss after epoch 111: 0.0\n",
            "Loss after epoch 112: 0.0\n",
            "Loss after epoch 113: 0.0\n",
            "Loss after epoch 114: 0.0\n",
            "Loss after epoch 115: 0.0\n",
            "Loss after epoch 116: 0.0\n",
            "Loss after epoch 117: 0.0\n",
            "Loss after epoch 118: 0.0\n",
            "Loss after epoch 119: 0.0\n",
            "Loss after epoch 120: 0.0\n",
            "Loss after epoch 121: 0.0\n",
            "Loss after epoch 122: 0.0\n",
            "Loss after epoch 123: 0.0\n",
            "Loss after epoch 124: 0.0\n",
            "Loss after epoch 125: 0.0\n",
            "Loss after epoch 126: 0.0\n",
            "Loss after epoch 127: 0.0\n",
            "Loss after epoch 128: 0.0\n",
            "Loss after epoch 129: 0.0\n",
            "Loss after epoch 130: 0.0\n",
            "Loss after epoch 131: 0.0\n",
            "Loss after epoch 132: 0.0\n",
            "Loss after epoch 133: 0.0\n",
            "Loss after epoch 134: 0.0\n",
            "Loss after epoch 135: 0.0\n",
            "Loss after epoch 136: 0.0\n",
            "Loss after epoch 137: 0.0\n",
            "Loss after epoch 138: 0.0\n",
            "Loss after epoch 139: 0.0\n",
            "Loss after epoch 140: 0.0\n",
            "Loss after epoch 141: 0.0\n",
            "Loss after epoch 142: 0.0\n",
            "Loss after epoch 143: 0.0\n",
            "Loss after epoch 144: 0.0\n",
            "Loss after epoch 145: 0.0\n",
            "Loss after epoch 146: 0.0\n",
            "Loss after epoch 147: 0.0\n",
            "Loss after epoch 148: 0.0\n",
            "Loss after epoch 149: 0.0\n",
            "Loss after epoch 150: 0.0\n",
            "Loss after epoch 151: 0.0\n",
            "Loss after epoch 152: 0.0\n",
            "Loss after epoch 153: 0.0\n",
            "Loss after epoch 154: 0.0\n",
            "Loss after epoch 155: 0.0\n",
            "Loss after epoch 156: 0.0\n",
            "Loss after epoch 157: 0.0\n",
            "Loss after epoch 158: 0.0\n",
            "Loss after epoch 159: 0.0\n",
            "Loss after epoch 160: 0.0\n",
            "Loss after epoch 161: 0.0\n",
            "Loss after epoch 162: 0.0\n",
            "Loss after epoch 163: 0.0\n",
            "Loss after epoch 164: 0.0\n",
            "Loss after epoch 165: 0.0\n",
            "Loss after epoch 166: 0.0\n",
            "Loss after epoch 167: 0.0\n",
            "Loss after epoch 168: 0.0\n",
            "Loss after epoch 169: 0.0\n",
            "Loss after epoch 170: 0.0\n",
            "Loss after epoch 171: 0.0\n",
            "Loss after epoch 172: 0.0\n",
            "Loss after epoch 173: 0.0\n",
            "Loss after epoch 174: 0.0\n",
            "Loss after epoch 175: 0.0\n",
            "Loss after epoch 176: 0.0\n",
            "Loss after epoch 177: 0.0\n",
            "Loss after epoch 178: 0.0\n",
            "Loss after epoch 179: 0.0\n",
            "Loss after epoch 180: 0.0\n",
            "Loss after epoch 181: 0.0\n",
            "Loss after epoch 182: 0.0\n",
            "Loss after epoch 183: 0.0\n",
            "Loss after epoch 184: 0.0\n",
            "Loss after epoch 185: 0.0\n",
            "Loss after epoch 186: 0.0\n",
            "Loss after epoch 187: 0.0\n",
            "Loss after epoch 188: 0.0\n",
            "Loss after epoch 189: 0.0\n",
            "Loss after epoch 190: 0.0\n",
            "Loss after epoch 191: 0.0\n",
            "Loss after epoch 192: 0.0\n",
            "Loss after epoch 193: 0.0\n",
            "Loss after epoch 194: 0.0\n",
            "Loss after epoch 195: 0.0\n",
            "Loss after epoch 196: 0.0\n",
            "Loss after epoch 197: 0.0\n",
            "Loss after epoch 198: 0.0\n",
            "Loss after epoch 199: 0.0\n"
          ]
        }
      ],
      "source": [
        "# Entrenamos el modelo generador de vectores\n",
        "# Utilizamos nuestro callback\n",
        "loss_vector = w2v_model.train(sentence_tokens,\n",
        "                 total_examples = w2v_model.corpus_count,\n",
        "                 epochs = 200,\n",
        "                 compute_loss = True,\n",
        "                 callbacks=[callback()]\n",
        "                 )"
      ]
    },
    {
      "cell_type": "code",
      "source": [
        "loss = pd.read_excel('/loss.xlsx', header = None)"
      ],
      "metadata": {
        "id": "lRS3jX4bTYe-"
      },
      "execution_count": 41,
      "outputs": []
    },
    {
      "cell_type": "code",
      "source": [
        "loss"
      ],
      "metadata": {
        "colab": {
          "base_uri": "https://localhost:8080/",
          "height": 424
        },
        "id": "gB8CKcPJTm3w",
        "outputId": "455fd913-7ae7-4b53-aa7c-2c2aa08b17e3"
      },
      "execution_count": 42,
      "outputs": [
        {
          "output_type": "execute_result",
          "data": {
            "text/plain": [
              "       0          1\n",
              "0      0  5577854.0\n",
              "1      1  4924120.0\n",
              "2      2  4735857.0\n",
              "3      3  4594251.0\n",
              "4      4  4493692.0\n",
              "..   ...        ...\n",
              "195  195        0.0\n",
              "196  196        0.0\n",
              "197  197        0.0\n",
              "198  198        0.0\n",
              "199  199        0.0\n",
              "\n",
              "[200 rows x 2 columns]"
            ],
            "text/html": [
              "\n",
              "  <div id=\"df-b7b3acaf-97fc-4c4e-9d25-64df1696b534\">\n",
              "    <div class=\"colab-df-container\">\n",
              "      <div>\n",
              "<style scoped>\n",
              "    .dataframe tbody tr th:only-of-type {\n",
              "        vertical-align: middle;\n",
              "    }\n",
              "\n",
              "    .dataframe tbody tr th {\n",
              "        vertical-align: top;\n",
              "    }\n",
              "\n",
              "    .dataframe thead th {\n",
              "        text-align: right;\n",
              "    }\n",
              "</style>\n",
              "<table border=\"1\" class=\"dataframe\">\n",
              "  <thead>\n",
              "    <tr style=\"text-align: right;\">\n",
              "      <th></th>\n",
              "      <th>0</th>\n",
              "      <th>1</th>\n",
              "    </tr>\n",
              "  </thead>\n",
              "  <tbody>\n",
              "    <tr>\n",
              "      <th>0</th>\n",
              "      <td>0</td>\n",
              "      <td>5577854.0</td>\n",
              "    </tr>\n",
              "    <tr>\n",
              "      <th>1</th>\n",
              "      <td>1</td>\n",
              "      <td>4924120.0</td>\n",
              "    </tr>\n",
              "    <tr>\n",
              "      <th>2</th>\n",
              "      <td>2</td>\n",
              "      <td>4735857.0</td>\n",
              "    </tr>\n",
              "    <tr>\n",
              "      <th>3</th>\n",
              "      <td>3</td>\n",
              "      <td>4594251.0</td>\n",
              "    </tr>\n",
              "    <tr>\n",
              "      <th>4</th>\n",
              "      <td>4</td>\n",
              "      <td>4493692.0</td>\n",
              "    </tr>\n",
              "    <tr>\n",
              "      <th>...</th>\n",
              "      <td>...</td>\n",
              "      <td>...</td>\n",
              "    </tr>\n",
              "    <tr>\n",
              "      <th>195</th>\n",
              "      <td>195</td>\n",
              "      <td>0.0</td>\n",
              "    </tr>\n",
              "    <tr>\n",
              "      <th>196</th>\n",
              "      <td>196</td>\n",
              "      <td>0.0</td>\n",
              "    </tr>\n",
              "    <tr>\n",
              "      <th>197</th>\n",
              "      <td>197</td>\n",
              "      <td>0.0</td>\n",
              "    </tr>\n",
              "    <tr>\n",
              "      <th>198</th>\n",
              "      <td>198</td>\n",
              "      <td>0.0</td>\n",
              "    </tr>\n",
              "    <tr>\n",
              "      <th>199</th>\n",
              "      <td>199</td>\n",
              "      <td>0.0</td>\n",
              "    </tr>\n",
              "  </tbody>\n",
              "</table>\n",
              "<p>200 rows × 2 columns</p>\n",
              "</div>\n",
              "      <button class=\"colab-df-convert\" onclick=\"convertToInteractive('df-b7b3acaf-97fc-4c4e-9d25-64df1696b534')\"\n",
              "              title=\"Convert this dataframe to an interactive table.\"\n",
              "              style=\"display:none;\">\n",
              "        \n",
              "  <svg xmlns=\"http://www.w3.org/2000/svg\" height=\"24px\"viewBox=\"0 0 24 24\"\n",
              "       width=\"24px\">\n",
              "    <path d=\"M0 0h24v24H0V0z\" fill=\"none\"/>\n",
              "    <path d=\"M18.56 5.44l.94 2.06.94-2.06 2.06-.94-2.06-.94-.94-2.06-.94 2.06-2.06.94zm-11 1L8.5 8.5l.94-2.06 2.06-.94-2.06-.94L8.5 2.5l-.94 2.06-2.06.94zm10 10l.94 2.06.94-2.06 2.06-.94-2.06-.94-.94-2.06-.94 2.06-2.06.94z\"/><path d=\"M17.41 7.96l-1.37-1.37c-.4-.4-.92-.59-1.43-.59-.52 0-1.04.2-1.43.59L10.3 9.45l-7.72 7.72c-.78.78-.78 2.05 0 2.83L4 21.41c.39.39.9.59 1.41.59.51 0 1.02-.2 1.41-.59l7.78-7.78 2.81-2.81c.8-.78.8-2.07 0-2.86zM5.41 20L4 18.59l7.72-7.72 1.47 1.35L5.41 20z\"/>\n",
              "  </svg>\n",
              "      </button>\n",
              "      \n",
              "  <style>\n",
              "    .colab-df-container {\n",
              "      display:flex;\n",
              "      flex-wrap:wrap;\n",
              "      gap: 12px;\n",
              "    }\n",
              "\n",
              "    .colab-df-convert {\n",
              "      background-color: #E8F0FE;\n",
              "      border: none;\n",
              "      border-radius: 50%;\n",
              "      cursor: pointer;\n",
              "      display: none;\n",
              "      fill: #1967D2;\n",
              "      height: 32px;\n",
              "      padding: 0 0 0 0;\n",
              "      width: 32px;\n",
              "    }\n",
              "\n",
              "    .colab-df-convert:hover {\n",
              "      background-color: #E2EBFA;\n",
              "      box-shadow: 0px 1px 2px rgba(60, 64, 67, 0.3), 0px 1px 3px 1px rgba(60, 64, 67, 0.15);\n",
              "      fill: #174EA6;\n",
              "    }\n",
              "\n",
              "    [theme=dark] .colab-df-convert {\n",
              "      background-color: #3B4455;\n",
              "      fill: #D2E3FC;\n",
              "    }\n",
              "\n",
              "    [theme=dark] .colab-df-convert:hover {\n",
              "      background-color: #434B5C;\n",
              "      box-shadow: 0px 1px 3px 1px rgba(0, 0, 0, 0.15);\n",
              "      filter: drop-shadow(0px 1px 2px rgba(0, 0, 0, 0.3));\n",
              "      fill: #FFFFFF;\n",
              "    }\n",
              "  </style>\n",
              "\n",
              "      <script>\n",
              "        const buttonEl =\n",
              "          document.querySelector('#df-b7b3acaf-97fc-4c4e-9d25-64df1696b534 button.colab-df-convert');\n",
              "        buttonEl.style.display =\n",
              "          google.colab.kernel.accessAllowed ? 'block' : 'none';\n",
              "\n",
              "        async function convertToInteractive(key) {\n",
              "          const element = document.querySelector('#df-b7b3acaf-97fc-4c4e-9d25-64df1696b534');\n",
              "          const dataTable =\n",
              "            await google.colab.kernel.invokeFunction('convertToInteractive',\n",
              "                                                     [key], {});\n",
              "          if (!dataTable) return;\n",
              "\n",
              "          const docLinkHtml = 'Like what you see? Visit the ' +\n",
              "            '<a target=\"_blank\" href=https://colab.research.google.com/notebooks/data_table.ipynb>data table notebook</a>'\n",
              "            + ' to learn more about interactive tables.';\n",
              "          element.innerHTML = '';\n",
              "          dataTable['output_type'] = 'display_data';\n",
              "          await google.colab.output.renderOutput(dataTable, element);\n",
              "          const docLink = document.createElement('div');\n",
              "          docLink.innerHTML = docLinkHtml;\n",
              "          element.appendChild(docLink);\n",
              "        }\n",
              "      </script>\n",
              "    </div>\n",
              "  </div>\n",
              "  "
            ]
          },
          "metadata": {},
          "execution_count": 42
        }
      ]
    },
    {
      "cell_type": "code",
      "source": [
        "import matplotlib.pyplot as plt\n",
        "\n",
        "plt.plot(loss.iloc[:, 0], loss.iloc[:, 1])\n",
        "plt.show()"
      ],
      "metadata": {
        "colab": {
          "base_uri": "https://localhost:8080/",
          "height": 276
        },
        "id": "9a4izDoHTg68",
        "outputId": "3192d3be-59c6-4663-a1a8-62f846a2bb23"
      },
      "execution_count": 44,
      "outputs": [
        {
          "output_type": "display_data",
          "data": {
            "text/plain": [
              "<Figure size 432x288 with 1 Axes>"
            ],
            "image/png": "[encoded data removed]"
          },
          "metadata": {
            "needs_background": "light"
          }
        }
      ]
    },
    {
      "cell_type": "markdown",
      "metadata": {
        "id": "ddT9NVuNlCAe"
      },
      "source": [
        "### 4 - Ensayar"
      ]
    },
    {
      "cell_type": "code",
      "execution_count": 25,
      "metadata": {
        "id": "6cHN9xGLuPEm",
        "colab": {
          "base_uri": "https://localhost:8080/"
        },
        "outputId": "ecf8c47e-9793-42e3-8dc9-ee42adffed39"
      },
      "outputs": [
        {
          "output_type": "execute_result",
          "data": {
            "text/plain": [
              "[('lord', 0.7769405841827393),\n",
              " ('hosts', 0.5713472366333008),\n",
              " ('jesus', 0.5349681973457336),\n",
              " ('almighty', 0.49854913353919983),\n",
              " ('glory', 0.48833733797073364),\n",
              " ('spirit', 0.4875530004501343),\n",
              " ('faith', 0.48331549763679504),\n",
              " ('redeemer', 0.4793400764465332),\n",
              " ('christ', 0.4757547378540039),\n",
              " ('me', 0.4742594361305237)]"
            ]
          },
          "metadata": {},
          "execution_count": 25
        }
      ],
      "source": [
        "# Palabras que MÁS se relacionan con...:\n",
        "word = 'god'\n",
        "w2v_model.wv.most_similar(positive = [word], topn = 10)"
      ]
    },
    {
      "cell_type": "code",
      "source": [
        "# Palabras que MENOS se relacionan con...:\n",
        "word = 'god'\n",
        "w2v_model.wv.most_similar(negative = [word], topn = 10)"
      ],
      "metadata": {
        "colab": {
          "base_uri": "https://localhost:8080/"
        },
        "id": "1Jxqzg6MRUdQ",
        "outputId": "816298fd-f6bf-48ef-c23d-41c407ea04b4"
      },
      "execution_count": 26,
      "outputs": [
        {
          "output_type": "execute_result",
          "data": {
            "text/plain": [
              "[('lice', 0.16925495862960815),\n",
              " ('nurse', 0.09300833940505981),\n",
              " ('garrisons', 0.08236730098724365),\n",
              " ('plucked', 0.07871416211128235),\n",
              " ('encamped', 0.0710039883852005),\n",
              " ('seeking', 0.06413640081882477),\n",
              " ('cloth', 0.06260058283805847),\n",
              " ('bethhoron', 0.06221367418766022),\n",
              " ('passeth', 0.06143920496106148),\n",
              " ('bulls', 0.0602596178650856)]"
            ]
          },
          "metadata": {},
          "execution_count": 26
        }
      ]
    },
    {
      "cell_type": "code",
      "execution_count": 29,
      "metadata": {
        "id": "47HiU5gdkdMq",
        "colab": {
          "base_uri": "https://localhost:8080/"
        },
        "outputId": "e2ce9ad6-6094-4690-ceb0-5e21af1eb174"
      },
      "outputs": [
        {
          "output_type": "execute_result",
          "data": {
            "text/plain": [
              "[('peter', 0.5819089412689209),\n",
              " ('nazareth', 0.5630572438240051),\n",
              " ('john', 0.5586867928504944),\n",
              " ('god', 0.5349681973457336),\n",
              " ('christ', 0.5289278626441956),\n",
              " ('simon', 0.5039030909538269),\n",
              " ('pilate', 0.5003295540809631),\n",
              " ('philip', 0.49475526809692383),\n",
              " ('nathanael', 0.49114060401916504),\n",
              " ('paul', 0.4840681254863739)]"
            ]
          },
          "metadata": {},
          "execution_count": 29
        }
      ],
      "source": [
        "# Palabras que MÁS se relacionan con...:\n",
        "word = 'jesus'\n",
        "w2v_model.wv.most_similar(positive = [word], topn = 10)"
      ]
    },
    {
      "cell_type": "code",
      "source": [
        "# Palabras que MÁS se relacionan con...:\n",
        "word = 'good'\n",
        "w2v_model.wv.most_similar(positive = [word], topn = 10)"
      ],
      "metadata": {
        "colab": {
          "base_uri": "https://localhost:8080/"
        },
        "id": "Da3Rlc8iXHXL",
        "outputId": "299296c1-665d-4e2a-b15f-1f5681cdb67d"
      },
      "execution_count": 46,
      "outputs": [
        {
          "output_type": "execute_result",
          "data": {
            "text/plain": [
              "[('lawful', 0.5267466902732849),\n",
              " ('honest', 0.48559245467185974),\n",
              " ('plainly', 0.44527167081832886),\n",
              " ('truth', 0.4368925094604492),\n",
              " ('evil', 0.43608248233795166),\n",
              " ('abominable', 0.4263128638267517),\n",
              " ('perfect', 0.4258212447166443),\n",
              " ('giveth', 0.4226614832878113),\n",
              " ('moving', 0.41730013489723206),\n",
              " ('well', 0.4163033962249756)]"
            ]
          },
          "metadata": {},
          "execution_count": 46
        }
      ]
    },
    {
      "cell_type": "code",
      "source": [
        "# Palabras que MÁS se relacionan con...:\n",
        "word = 'evil'\n",
        "w2v_model.wv.most_similar(positive = [word], topn = 10)"
      ],
      "metadata": {
        "colab": {
          "base_uri": "https://localhost:8080/"
        },
        "id": "EcOm6K--X4Bj",
        "outputId": "32adb68a-eeef-44e1-d840-de6138b10d9d"
      },
      "execution_count": 50,
      "outputs": [
        {
          "output_type": "execute_result",
          "data": {
            "text/plain": [
              "[('wicked', 0.5175818204879761),\n",
              " ('murmurings', 0.4907613694667816),\n",
              " ('wickedness', 0.4798751473426819),\n",
              " ('imagine', 0.47690853476524353),\n",
              " ('iniquity', 0.4750189185142517),\n",
              " ('blasphemies', 0.47287869453430176),\n",
              " ('hate', 0.4585634469985962),\n",
              " ('devise', 0.4580485224723816),\n",
              " ('diseases', 0.45149338245391846),\n",
              " ('lewdness', 0.44917285442352295)]"
            ]
          },
          "metadata": {},
          "execution_count": 50
        }
      ]
    },
    {
      "cell_type": "code",
      "source": [
        "# Palabras que MÁS se relacionan con...:\n",
        "word = 'sin'\n",
        "w2v_model.wv.most_similar(positive = [word], topn = 10)"
      ],
      "metadata": {
        "colab": {
          "base_uri": "https://localhost:8080/"
        },
        "id": "FSafzxHsSCt4",
        "outputId": "3980d92f-e8ee-4fd7-feb6-092ae99d2e53"
      },
      "execution_count": 33,
      "outputs": [
        {
          "output_type": "execute_result",
          "data": {
            "text/plain": [
              "[('trespass', 0.6347157955169678),\n",
              " ('sinned', 0.5300602316856384),\n",
              " ('sins', 0.515604555606842),\n",
              " ('atonement', 0.4804205000400543),\n",
              " ('sinneth', 0.47933313250541687),\n",
              " ('transgression', 0.4701286554336548),\n",
              " ('iniquity', 0.46968311071395874),\n",
              " ('sacrifice', 0.4633431136608124),\n",
              " ('savour', 0.46213674545288086),\n",
              " ('offering', 0.4603453576564789)]"
            ]
          },
          "metadata": {},
          "execution_count": 33
        }
      ]
    },
    {
      "cell_type": "code",
      "execution_count": 30,
      "metadata": {
        "id": "L_UvHPMMklOr",
        "colab": {
          "base_uri": "https://localhost:8080/",
          "height": 345
        },
        "outputId": "b89d876c-078b-47d2-ff68-f1fe2f5eeaeb"
      },
      "outputs": [
        {
          "output_type": "error",
          "ename": "KeyError",
          "evalue": "ignored",
          "traceback": [
            "\u001b[0;31m---------------------------------------------------------------------------\u001b[0m",
            "\u001b[0;31mKeyError\u001b[0m                                  Traceback (most recent call last)",
            "\u001b[0;32m<ipython-input-30-f654853d3d00>\u001b[0m in \u001b[0;36m<module>\u001b[0;34m\u001b[0m\n\u001b[1;32m      1\u001b[0m \u001b[0;31m# Ensayar con una palabra que no está en el corpus (en vocab):\u001b[0m\u001b[0;34m\u001b[0m\u001b[0;34m\u001b[0m\u001b[0;34m\u001b[0m\u001b[0m\n\u001b[1;32m      2\u001b[0m \u001b[0mword\u001b[0m \u001b[0;34m=\u001b[0m \u001b[0;34m'python'\u001b[0m\u001b[0;34m\u001b[0m\u001b[0;34m\u001b[0m\u001b[0m\n\u001b[0;32m----> 3\u001b[0;31m \u001b[0mw2v_model\u001b[0m\u001b[0;34m.\u001b[0m\u001b[0mwv\u001b[0m\u001b[0;34m.\u001b[0m\u001b[0mmost_similar\u001b[0m\u001b[0;34m(\u001b[0m\u001b[0mnegative\u001b[0m \u001b[0;34m=\u001b[0m \u001b[0;34m[\u001b[0m\u001b[0mword\u001b[0m\u001b[0;34m]\u001b[0m\u001b[0;34m)\u001b[0m\u001b[0;34m\u001b[0m\u001b[0;34m\u001b[0m\u001b[0m\n\u001b[0m",
            "\u001b[0;32m/usr/local/lib/python3.7/dist-packages/gensim/models/keyedvectors.py\u001b[0m in \u001b[0;36mmost_similar\u001b[0;34m(self, positive, negative, topn, restrict_vocab, indexer)\u001b[0m\n\u001b[1;32m    529\u001b[0m                 \u001b[0mmean\u001b[0m\u001b[0;34m.\u001b[0m\u001b[0mappend\u001b[0m\u001b[0;34m(\u001b[0m\u001b[0mweight\u001b[0m \u001b[0;34m*\u001b[0m \u001b[0mword\u001b[0m\u001b[0;34m)\u001b[0m\u001b[0;34m\u001b[0m\u001b[0;34m\u001b[0m\u001b[0m\n\u001b[1;32m    530\u001b[0m             \u001b[0;32melse\u001b[0m\u001b[0;34m:\u001b[0m\u001b[0;34m\u001b[0m\u001b[0;34m\u001b[0m\u001b[0m\n\u001b[0;32m--> 531\u001b[0;31m                 \u001b[0mmean\u001b[0m\u001b[0;34m.\u001b[0m\u001b[0mappend\u001b[0m\u001b[0;34m(\u001b[0m\u001b[0mweight\u001b[0m \u001b[0;34m*\u001b[0m \u001b[0mself\u001b[0m\u001b[0;34m.\u001b[0m\u001b[0mword_vec\u001b[0m\u001b[0;34m(\u001b[0m\u001b[0mword\u001b[0m\u001b[0;34m,\u001b[0m \u001b[0muse_norm\u001b[0m\u001b[0;34m=\u001b[0m\u001b[0;32mTrue\u001b[0m\u001b[0;34m)\u001b[0m\u001b[0;34m)\u001b[0m\u001b[0;34m\u001b[0m\u001b[0;34m\u001b[0m\u001b[0m\n\u001b[0m\u001b[1;32m    532\u001b[0m                 \u001b[0;32mif\u001b[0m \u001b[0mword\u001b[0m \u001b[0;32min\u001b[0m \u001b[0mself\u001b[0m\u001b[0;34m.\u001b[0m\u001b[0mvocab\u001b[0m\u001b[0;34m:\u001b[0m\u001b[0;34m\u001b[0m\u001b[0;34m\u001b[0m\u001b[0m\n\u001b[1;32m    533\u001b[0m                     \u001b[0mall_words\u001b[0m\u001b[0;34m.\u001b[0m\u001b[0madd\u001b[0m\u001b[0;34m(\u001b[0m\u001b[0mself\u001b[0m\u001b[0;34m.\u001b[0m\u001b[0mvocab\u001b[0m\u001b[0;34m[\u001b[0m\u001b[0mword\u001b[0m\u001b[0;34m]\u001b[0m\u001b[0;34m.\u001b[0m\u001b[0mindex\u001b[0m\u001b[0;34m)\u001b[0m\u001b[0;34m\u001b[0m\u001b[0;34m\u001b[0m\u001b[0m\n",
            "\u001b[0;32m/usr/local/lib/python3.7/dist-packages/gensim/models/keyedvectors.py\u001b[0m in \u001b[0;36mword_vec\u001b[0;34m(self, word, use_norm)\u001b[0m\n\u001b[1;32m    450\u001b[0m             \u001b[0;32mreturn\u001b[0m \u001b[0mresult\u001b[0m\u001b[0;34m\u001b[0m\u001b[0;34m\u001b[0m\u001b[0m\n\u001b[1;32m    451\u001b[0m         \u001b[0;32melse\u001b[0m\u001b[0;34m:\u001b[0m\u001b[0;34m\u001b[0m\u001b[0;34m\u001b[0m\u001b[0m\n\u001b[0;32m--> 452\u001b[0;31m             \u001b[0;32mraise\u001b[0m \u001b[0mKeyError\u001b[0m\u001b[0;34m(\u001b[0m\u001b[0;34m\"word '%s' not in vocabulary\"\u001b[0m \u001b[0;34m%\u001b[0m \u001b[0mword\u001b[0m\u001b[0;34m)\u001b[0m\u001b[0;34m\u001b[0m\u001b[0;34m\u001b[0m\u001b[0m\n\u001b[0m\u001b[1;32m    453\u001b[0m \u001b[0;34m\u001b[0m\u001b[0m\n\u001b[1;32m    454\u001b[0m     \u001b[0;32mdef\u001b[0m \u001b[0mget_vector\u001b[0m\u001b[0;34m(\u001b[0m\u001b[0mself\u001b[0m\u001b[0;34m,\u001b[0m \u001b[0mword\u001b[0m\u001b[0;34m)\u001b[0m\u001b[0;34m:\u001b[0m\u001b[0;34m\u001b[0m\u001b[0;34m\u001b[0m\u001b[0m\n",
            "\u001b[0;31mKeyError\u001b[0m: \"word 'python' not in vocabulary\""
          ]
        }
      ],
      "source": [
        "# Ensayar con una palabra que no está en el corpus (en vocab):\n",
        "word = 'python'\n",
        "w2v_model.wv.most_similar(negative = [word])"
      ]
    },
    {
      "cell_type": "markdown",
      "metadata": {
        "id": "_g8UVWe6lFmh"
      },
      "source": [
        "### 5 - Visualizar agrupación de vectores"
      ]
    },
    {
      "cell_type": "code",
      "execution_count": 34,
      "metadata": {
        "id": "pDxEVXAivjr9"
      },
      "outputs": [],
      "source": [
        "from sklearn.decomposition import IncrementalPCA    \n",
        "from sklearn.manifold import TSNE                   \n",
        "import numpy as np                                  \n",
        "\n",
        "def reduce_dimensions(model):\n",
        "    num_dimensions = 2  \n",
        "\n",
        "    vectors = np.asarray(model.wv.vectors)\n",
        "    labels = np.asarray(model.wv.index2word)  \n",
        "\n",
        "    tsne = TSNE(n_components=num_dimensions, random_state=0)\n",
        "    vectors = tsne.fit_transform(vectors)\n",
        "\n",
        "    x_vals = [v[0] for v in vectors]\n",
        "    y_vals = [v[1] for v in vectors]\n",
        "    return x_vals, y_vals, labels"
      ]
    },
    {
      "cell_type": "code",
      "execution_count": 36,
      "metadata": {
        "id": "NCCXtDpcugmd",
        "colab": {
          "base_uri": "https://localhost:8080/",
          "height": 681
        },
        "outputId": "b3845913-ab93-46ce-8fa5-852700b4f625"
      },
      "outputs": [
        {
          "output_type": "stream",
          "name": "stderr",
          "text": [
            "/usr/local/lib/python3.7/dist-packages/sklearn/manifold/_t_sne.py:783: FutureWarning:\n",
            "\n",
            "The default initialization in TSNE will change from 'random' to 'pca' in 1.2.\n",
            "\n",
            "/usr/local/lib/python3.7/dist-packages/sklearn/manifold/_t_sne.py:793: FutureWarning:\n",
            "\n",
            "The default learning rate in TSNE will change from 200.0 to 'auto' in 1.2.\n",
            "\n"
          ]
        },
        {
          "output_type": "display_data",
          "data": {
            "text/html": [
              "<html>\n",
              "<head><meta charset=\"utf-8\" /></head>\n",
              "<body>\n",
              "    <div>            <script src=\"https://cdnjs.cloudflare.com/ajax/libs/mathjax/2.7.5/MathJax.js?config=TeX-AMS-MML_SVG\"></script><script type=\"text/javascript\">if (window.MathJax) {MathJax.Hub.Config({SVG: {font: \"STIX-Web\"}});}</script>                <script type=\"text/javascript\">window.PlotlyConfig = {MathJaxConfig: 'local'};</script>\n",
              "        <script src=\"https://cdn.plot.ly/plotly-2.8.3.min.js\"></script>                <div id=\"9cb9799d-2cb0-4d57-b149-3e22c5204de3\" class=\"plotly-graph-div\" style=\"height:525px; width:100%;\"></div>            <script type=\"text/javascript\">                                    window.PLOTLYENV=window.PLOTLYENV || {};                                    if (document.getElementById(\"9cb9799d-2cb0-4d57-b149-3e22c5204de3\")) {                    Plotly.newPlot(                        \"9cb9799d-2cb0-4d57-b149-3e22c5204de3\",                        [{\"hovertemplate\":\"x=%{x}<br>y=%{y}<br>text=%{text}<extra></extra>\",\"legendgroup\":\"\",\"marker\":{\"color\":\"#636efa\",\"symbol\":\"circle\"},\"mode\":\"markers+text\",\"name\":\"\",\"orientation\":\"v\",\"showlegend\":false,\"text\":[\"the\",\"and\",\"of\",\"to\",\"that\",\"in\",\"he\",\"shall\",\"unto\",\"for\",\"i\",\"his\",\"a\",\"lord\",\"they\",\"be\",\"is\",\"him\",\"not\",\"them\",\"it\",\"with\",\"all\",\"thou\",\"thy\",\"was\",\"god\",\"which\",\"my\",\"me\",\"said\",\"but\",\"ye\",\"their\",\"have\",\"will\",\"thee\",\"from\",\"as\",\"are\",\"when\",\"this\",\"out\",\"were\",\"upon\",\"by\",\"you\",\"man\",\"israel\",\"up\"],\"x\":[-0.5385944247245789,0.10240409523248672,-0.645205020904541,0.20482909679412842,0.690559446811676,-1.4329367876052856,2.865293025970459,1.1668047904968262,0.3451480567455292,-0.3270890414714813,-1.4903024435043335,0.9105756282806396,1.928916335105896,-5.870518207550049,-0.6318912506103516,1.2132811546325684,10.469714164733887,1.8858228921890259,1.388853907585144,-0.37225040793418884,2.780391216278076,-0.09922590106725693,-3.6098873615264893,14.454623222351074,-2.904946804046631,3.083514928817749,-6.398727893829346,0.12119729071855545,-3.056213617324829,-0.4635564386844635,3.8971574306488037,0.3343373239040375,-2.003307819366455,-2.62874436378479,-1.921542763710022,-0.1275199055671692,-0.7013986706733704,0.028870360925793648,2.6609230041503906,-4.55657958984375,2.3167154788970947,-1.8044406175613403,1.14324152469635,1.0350737571716309,-0.7735834717750549,-1.5490726232528687,-1.0467466115951538,6.6255879402160645,-11.019508361816406,1.3953088521957397],\"xaxis\":\"x\",\"y\":[0.5776940584182739,0.45966318249702454,0.6631578207015991,-0.023363327607512474,-2.116865634918213,-0.2715130150318146,0.3214828372001648,-9.232341766357422,0.2779559791088104,-2.7019896507263184,-6.362431526184082,0.7498864531517029,-1.4732879400253296,-4.676609516143799,-0.04956374317407608,-11.532081604003906,-16.443052291870117,0.31310606002807617,-5.807762145996094,-0.1604592204093933,-0.861879825592041,0.4334433674812317,0.1525062620639801,-24.71224021911621,-5.912442684173584,8.331040382385254,-5.605688571929932,-1.3078826665878296,-5.9618940353393555,-5.699776649475098,4.438747406005859,-3.2807977199554443,-7.868903636932373,0.53790283203125,-5.48590087890625,-16.801067352294922,-6.095985412597656,0.22011911869049072,-1.9021631479263306,-1.5095057487487793,-0.26199793815612793,-1.0509389638900757,2.100220203399658,7.7243266105651855,3.3918380737304688,0.14138375222682953,-7.326720714569092,-6.967911243438721,13.410371780395508,1.6515529155731201],\"yaxis\":\"y\",\"type\":\"scatter\"}],                        {\"template\":{\"data\":{\"bar\":[{\"error_x\":{\"color\":\"#2a3f5f\"},\"error_y\":{\"color\":\"#2a3f5f\"},\"marker\":{\"line\":{\"color\":\"#E5ECF6\",\"width\":0.5},\"pattern\":{\"fillmode\":\"overlay\",\"size\":10,\"solidity\":0.2}},\"type\":\"bar\"}],\"barpolar\":[{\"marker\":{\"line\":{\"color\":\"#E5ECF6\",\"width\":0.5},\"pattern\":{\"fillmode\":\"overlay\",\"size\":10,\"solidity\":0.2}},\"type\":\"barpolar\"}],\"carpet\":[{\"aaxis\":{\"endlinecolor\":\"#2a3f5f\",\"gridcolor\":\"white\",\"linecolor\":\"white\",\"minorgridcolor\":\"white\",\"startlinecolor\":\"#2a3f5f\"},\"baxis\":{\"endlinecolor\":\"#2a3f5f\",\"gridcolor\":\"white\",\"linecolor\":\"white\",\"minorgridcolor\":\"white\",\"startlinecolor\":\"#2a3f5f\"},\"type\":\"carpet\"}],\"choropleth\":[{\"colorbar\":{\"outlinewidth\":0,\"ticks\":\"\"},\"type\":\"choropleth\"}],\"contour\":[{\"colorbar\":{\"outlinewidth\":0,\"ticks\":\"\"},\"colorscale\":[[0.0,\"#0d0887\"],[0.1111111111111111,\"#46039f\"],[0.2222222222222222,\"#7201a8\"],[0.3333333333333333,\"#9c179e\"],[0.4444444444444444,\"#bd3786\"],[0.5555555555555556,\"#d8576b\"],[0.6666666666666666,\"#ed7953\"],[0.7777777777777778,\"#fb9f3a\"],[0.8888888888888888,\"#fdca26\"],[1.0,\"#f0f921\"]],\"type\":\"contour\"}],\"contourcarpet\":[{\"colorbar\":{\"outlinewidth\":0,\"ticks\":\"\"},\"type\":\"contourcarpet\"}],\"heatmap\":[{\"colorbar\":{\"outlinewidth\":0,\"ticks\":\"\"},\"colorscale\":[[0.0,\"#0d0887\"],[0.1111111111111111,\"#46039f\"],[0.2222222222222222,\"#7201a8\"],[0.3333333333333333,\"#9c179e\"],[0.4444444444444444,\"#bd3786\"],[0.5555555555555556,\"#d8576b\"],[0.6666666666666666,\"#ed7953\"],[0.7777777777777778,\"#fb9f3a\"],[0.8888888888888888,\"#fdca26\"],[1.0,\"#f0f921\"]],\"type\":\"heatmap\"}],\"heatmapgl\":[{\"colorbar\":{\"outlinewidth\":0,\"ticks\":\"\"},\"colorscale\":[[0.0,\"#0d0887\"],[0.1111111111111111,\"#46039f\"],[0.2222222222222222,\"#7201a8\"],[0.3333333333333333,\"#9c179e\"],[0.4444444444444444,\"#bd3786\"],[0.5555555555555556,\"#d8576b\"],[0.6666666666666666,\"#ed7953\"],[0.7777777777777778,\"#fb9f3a\"],[0.8888888888888888,\"#fdca26\"],[1.0,\"#f0f921\"]],\"type\":\"heatmapgl\"}],\"histogram\":[{\"marker\":{\"pattern\":{\"fillmode\":\"overlay\",\"size\":10,\"solidity\":0.2}},\"type\":\"histogram\"}],\"histogram2d\":[{\"colorbar\":{\"outlinewidth\":0,\"ticks\":\"\"},\"colorscale\":[[0.0,\"#0d0887\"],[0.1111111111111111,\"#46039f\"],[0.2222222222222222,\"#7201a8\"],[0.3333333333333333,\"#9c179e\"],[0.4444444444444444,\"#bd3786\"],[0.5555555555555556,\"#d8576b\"],[0.6666666666666666,\"#ed7953\"],[0.7777777777777778,\"#fb9f3a\"],[0.8888888888888888,\"#fdca26\"],[1.0,\"#f0f921\"]],\"type\":\"histogram2d\"}],\"histogram2dcontour\":[{\"colorbar\":{\"outlinewidth\":0,\"ticks\":\"\"},\"colorscale\":[[0.0,\"#0d0887\"],[0.1111111111111111,\"#46039f\"],[0.2222222222222222,\"#7201a8\"],[0.3333333333333333,\"#9c179e\"],[0.4444444444444444,\"#bd3786\"],[0.5555555555555556,\"#d8576b\"],[0.6666666666666666,\"#ed7953\"],[0.7777777777777778,\"#fb9f3a\"],[0.8888888888888888,\"#fdca26\"],[1.0,\"#f0f921\"]],\"type\":\"histogram2dcontour\"}],\"mesh3d\":[{\"colorbar\":{\"outlinewidth\":0,\"ticks\":\"\"},\"type\":\"mesh3d\"}],\"parcoords\":[{\"line\":{\"colorbar\":{\"outlinewidth\":0,\"ticks\":\"\"}},\"type\":\"parcoords\"}],\"pie\":[{\"automargin\":true,\"type\":\"pie\"}],\"scatter\":[{\"marker\":{\"colorbar\":{\"outlinewidth\":0,\"ticks\":\"\"}},\"type\":\"scatter\"}],\"scatter3d\":[{\"line\":{\"colorbar\":{\"outlinewidth\":0,\"ticks\":\"\"}},\"marker\":{\"colorbar\":{\"outlinewidth\":0,\"ticks\":\"\"}},\"type\":\"scatter3d\"}],\"scattercarpet\":[{\"marker\":{\"colorbar\":{\"outlinewidth\":0,\"ticks\":\"\"}},\"type\":\"scattercarpet\"}],\"scattergeo\":[{\"marker\":{\"colorbar\":{\"outlinewidth\":0,\"ticks\":\"\"}},\"type\":\"scattergeo\"}],\"scattergl\":[{\"marker\":{\"colorbar\":{\"outlinewidth\":0,\"ticks\":\"\"}},\"type\":\"scattergl\"}],\"scattermapbox\":[{\"marker\":{\"colorbar\":{\"outlinewidth\":0,\"ticks\":\"\"}},\"type\":\"scattermapbox\"}],\"scatterpolar\":[{\"marker\":{\"colorbar\":{\"outlinewidth\":0,\"ticks\":\"\"}},\"type\":\"scatterpolar\"}],\"scatterpolargl\":[{\"marker\":{\"colorbar\":{\"outlinewidth\":0,\"ticks\":\"\"}},\"type\":\"scatterpolargl\"}],\"scatterternary\":[{\"marker\":{\"colorbar\":{\"outlinewidth\":0,\"ticks\":\"\"}},\"type\":\"scatterternary\"}],\"surface\":[{\"colorbar\":{\"outlinewidth\":0,\"ticks\":\"\"},\"colorscale\":[[0.0,\"#0d0887\"],[0.1111111111111111,\"#46039f\"],[0.2222222222222222,\"#7201a8\"],[0.3333333333333333,\"#9c179e\"],[0.4444444444444444,\"#bd3786\"],[0.5555555555555556,\"#d8576b\"],[0.6666666666666666,\"#ed7953\"],[0.7777777777777778,\"#fb9f3a\"],[0.8888888888888888,\"#fdca26\"],[1.0,\"#f0f921\"]],\"type\":\"surface\"}],\"table\":[{\"cells\":{\"fill\":{\"color\":\"#EBF0F8\"},\"line\":{\"color\":\"white\"}},\"header\":{\"fill\":{\"color\":\"#C8D4E3\"},\"line\":{\"color\":\"white\"}},\"type\":\"table\"}]},\"layout\":{\"annotationdefaults\":{\"arrowcolor\":\"#2a3f5f\",\"arrowhead\":0,\"arrowwidth\":1},\"autotypenumbers\":\"strict\",\"coloraxis\":{\"colorbar\":{\"outlinewidth\":0,\"ticks\":\"\"}},\"colorscale\":{\"diverging\":[[0,\"#8e0152\"],[0.1,\"#c51b7d\"],[0.2,\"#de77ae\"],[0.3,\"#f1b6da\"],[0.4,\"#fde0ef\"],[0.5,\"#f7f7f7\"],[0.6,\"#e6f5d0\"],[0.7,\"#b8e186\"],[0.8,\"#7fbc41\"],[0.9,\"#4d9221\"],[1,\"#276419\"]],\"sequential\":[[0.0,\"#0d0887\"],[0.1111111111111111,\"#46039f\"],[0.2222222222222222,\"#7201a8\"],[0.3333333333333333,\"#9c179e\"],[0.4444444444444444,\"#bd3786\"],[0.5555555555555556,\"#d8576b\"],[0.6666666666666666,\"#ed7953\"],[0.7777777777777778,\"#fb9f3a\"],[0.8888888888888888,\"#fdca26\"],[1.0,\"#f0f921\"]],\"sequentialminus\":[[0.0,\"#0d0887\"],[0.1111111111111111,\"#46039f\"],[0.2222222222222222,\"#7201a8\"],[0.3333333333333333,\"#9c179e\"],[0.4444444444444444,\"#bd3786\"],[0.5555555555555556,\"#d8576b\"],[0.6666666666666666,\"#ed7953\"],[0.7777777777777778,\"#fb9f3a\"],[0.8888888888888888,\"#fdca26\"],[1.0,\"#f0f921\"]]},\"colorway\":[\"#636efa\",\"#EF553B\",\"#00cc96\",\"#ab63fa\",\"#FFA15A\",\"#19d3f3\",\"#FF6692\",\"#B6E880\",\"#FF97FF\",\"#FECB52\"],\"font\":{\"color\":\"#2a3f5f\"},\"geo\":{\"bgcolor\":\"white\",\"lakecolor\":\"white\",\"landcolor\":\"#E5ECF6\",\"showlakes\":true,\"showland\":true,\"subunitcolor\":\"white\"},\"hoverlabel\":{\"align\":\"left\"},\"hovermode\":\"closest\",\"mapbox\":{\"style\":\"light\"},\"paper_bgcolor\":\"white\",\"plot_bgcolor\":\"#E5ECF6\",\"polar\":{\"angularaxis\":{\"gridcolor\":\"white\",\"linecolor\":\"white\",\"ticks\":\"\"},\"bgcolor\":\"#E5ECF6\",\"radialaxis\":{\"gridcolor\":\"white\",\"linecolor\":\"white\",\"ticks\":\"\"}},\"scene\":{\"xaxis\":{\"backgroundcolor\":\"#E5ECF6\",\"gridcolor\":\"white\",\"gridwidth\":2,\"linecolor\":\"white\",\"showbackground\":true,\"ticks\":\"\",\"zerolinecolor\":\"white\"},\"yaxis\":{\"backgroundcolor\":\"#E5ECF6\",\"gridcolor\":\"white\",\"gridwidth\":2,\"linecolor\":\"white\",\"showbackground\":true,\"ticks\":\"\",\"zerolinecolor\":\"white\"},\"zaxis\":{\"backgroundcolor\":\"#E5ECF6\",\"gridcolor\":\"white\",\"gridwidth\":2,\"linecolor\":\"white\",\"showbackground\":true,\"ticks\":\"\",\"zerolinecolor\":\"white\"}},\"shapedefaults\":{\"line\":{\"color\":\"#2a3f5f\"}},\"ternary\":{\"aaxis\":{\"gridcolor\":\"white\",\"linecolor\":\"white\",\"ticks\":\"\"},\"baxis\":{\"gridcolor\":\"white\",\"linecolor\":\"white\",\"ticks\":\"\"},\"bgcolor\":\"#E5ECF6\",\"caxis\":{\"gridcolor\":\"white\",\"linecolor\":\"white\",\"ticks\":\"\"}},\"title\":{\"x\":0.05},\"xaxis\":{\"automargin\":true,\"gridcolor\":\"white\",\"linecolor\":\"white\",\"ticks\":\"\",\"title\":{\"standoff\":15},\"zerolinecolor\":\"white\",\"zerolinewidth\":2},\"yaxis\":{\"automargin\":true,\"gridcolor\":\"white\",\"linecolor\":\"white\",\"ticks\":\"\",\"title\":{\"standoff\":15},\"zerolinecolor\":\"white\",\"zerolinewidth\":2}}},\"xaxis\":{\"anchor\":\"y\",\"domain\":[0.0,1.0],\"title\":{\"text\":\"x\"}},\"yaxis\":{\"anchor\":\"x\",\"domain\":[0.0,1.0],\"title\":{\"text\":\"y\"}},\"legend\":{\"tracegroupgap\":0},\"margin\":{\"t\":60}},                        {\"responsive\": true}                    ).then(function(){\n",
              "                            \n",
              "var gd = document.getElementById('9cb9799d-2cb0-4d57-b149-3e22c5204de3');\n",
              "var x = new MutationObserver(function (mutations, observer) {{\n",
              "        var display = window.getComputedStyle(gd).display;\n",
              "        if (!display || display === 'none') {{\n",
              "            console.log([gd, 'removed!']);\n",
              "            Plotly.purge(gd);\n",
              "            observer.disconnect();\n",
              "        }}\n",
              "}});\n",
              "\n",
              "// Listen for the removal of the full notebook cells\n",
              "var notebookContainer = gd.closest('#notebook-container');\n",
              "if (notebookContainer) {{\n",
              "    x.observe(notebookContainer, {childList: true});\n",
              "}}\n",
              "\n",
              "// Listen for the clearing of the current output cell\n",
              "var outputEl = gd.closest('.output');\n",
              "if (outputEl) {{\n",
              "    x.observe(outputEl, {childList: true});\n",
              "}}\n",
              "\n",
              "                        })                };                            </script>        </div>\n",
              "</body>\n",
              "</html>"
            ]
          },
          "metadata": {}
        }
      ],
      "source": [
        "# Graficar los embedddings en 2D\n",
        "import plotly.graph_objects as go\n",
        "import plotly.express as px\n",
        "\n",
        "x_vals, y_vals, labels = reduce_dimensions(w2v_model)\n",
        "\n",
        "MAX_WORDS = 50\n",
        "fig = px.scatter(x=x_vals[:MAX_WORDS], y=y_vals[:MAX_WORDS], text=labels[:MAX_WORDS])\n",
        "fig.show(renderer=\"colab\") # esto para plotly en colab"
      ]
    },
    {
      "cell_type": "code",
      "source": [
        "# Graficar los embedddings en 2D\n",
        "import plotly.graph_objects as go\n",
        "import plotly.express as px\n",
        "\n",
        "x_vals, y_vals, labels = reduce_dimensions(w2v_model)\n",
        "\n",
        "MAX_WORDS = 200\n",
        "fig = px.scatter(x=x_vals[:MAX_WORDS], y=y_vals[:MAX_WORDS], text=labels[:MAX_WORDS])\n",
        "fig.show(renderer=\"colab\") # esto para plotly en colab"
      ],
      "metadata": {
        "colab": {
          "base_uri": "https://localhost:8080/",
          "height": 681
        },
        "id": "AOxqu26BUNW3",
        "outputId": "c993bb06-bf0a-4f1c-fda3-37374a97af3e"
      },
      "execution_count": 45,
      "outputs": [
        {
          "output_type": "stream",
          "name": "stderr",
          "text": [
            "/usr/local/lib/python3.7/dist-packages/sklearn/manifold/_t_sne.py:783: FutureWarning:\n",
            "\n",
            "The default initialization in TSNE will change from 'random' to 'pca' in 1.2.\n",
            "\n",
            "/usr/local/lib/python3.7/dist-packages/sklearn/manifold/_t_sne.py:793: FutureWarning:\n",
            "\n",
            "The default learning rate in TSNE will change from 200.0 to 'auto' in 1.2.\n",
            "\n"
          ]
        },
        {
          "output_type": "display_data",
          "data": {
            "text/html": [
              "<html>\n",
              "<head><meta charset=\"utf-8\" /></head>\n",
              "<body>\n",
              "    <div>            <script src=\"https://cdnjs.cloudflare.com/ajax/libs/mathjax/2.7.5/MathJax.js?config=TeX-AMS-MML_SVG\"></script><script type=\"text/javascript\">if (window.MathJax) {MathJax.Hub.Config({SVG: {font: \"STIX-Web\"}});}</script>                <script type=\"text/javascript\">window.PlotlyConfig = {MathJaxConfig: 'local'};</script>\n",
              "        <script src=\"https://cdn.plot.ly/plotly-2.8.3.min.js\"></script>                <div id=\"4e35df74-9806-40fe-9e18-245fa218d99e\" class=\"plotly-graph-div\" style=\"height:525px; width:100%;\"></div>            <script type=\"text/javascript\">                                    window.PLOTLYENV=window.PLOTLYENV || {};                                    if (document.getElementById(\"4e35df74-9806-40fe-9e18-245fa218d99e\")) {                    Plotly.newPlot(                        \"4e35df74-9806-40fe-9e18-245fa218d99e\",                        [{\"hovertemplate\":\"x=%{x}<br>y=%{y}<br>text=%{text}<extra></extra>\",\"legendgroup\":\"\",\"marker\":{\"color\":\"#636efa\",\"symbol\":\"circle\"},\"mode\":\"markers+text\",\"name\":\"\",\"orientation\":\"v\",\"showlegend\":false,\"text\":[\"the\",\"and\",\"of\",\"to\",\"that\",\"in\",\"he\",\"shall\",\"unto\",\"for\",\"i\",\"his\",\"a\",\"lord\",\"they\",\"be\",\"is\",\"him\",\"not\",\"them\",\"it\",\"with\",\"all\",\"thou\",\"thy\",\"was\",\"god\",\"which\",\"my\",\"me\",\"said\",\"but\",\"ye\",\"their\",\"have\",\"will\",\"thee\",\"from\",\"as\",\"are\",\"when\",\"this\",\"out\",\"were\",\"upon\",\"by\",\"you\",\"man\",\"israel\",\"up\",\"son\",\"there\",\"hath\",\"king\",\"then\",\"people\",\"came\",\"had\",\"house\",\"into\",\"on\",\"her\",\"come\",\"one\",\"we\",\"children\",\"before\",\"your\",\"also\",\"day\",\"land\",\"an\",\"so\",\"against\",\"men\",\"shalt\",\"if\",\"at\",\"let\",\"go\",\"hand\",\"us\",\"saying\",\"made\",\"went\",\"even\",\"no\",\"do\",\"now\",\"behold\",\"saith\",\"therefore\",\"every\",\"these\",\"because\",\"after\",\"our\",\"things\",\"down\",\"or\",\"hast\",\"sons\",\"o\",\"say\",\"make\",\"may\",\"david\",\"over\",\"did\",\"earth\",\"what\",\"she\",\"father\",\"jesus\",\"who\",\"great\",\"thine\",\"name\",\"among\",\"away\",\"any\",\"put\",\"thereof\",\"forth\",\"give\",\"neither\",\"take\",\"am\",\"city\",\"brought\",\"days\",\"two\",\"pass\",\"heart\",\"moses\",\"judah\",\"jerusalem\",\"according\",\"should\",\"whom\",\"know\",\"nor\",\"took\",\"thus\",\"bring\",\"offering\",\"good\",\"place\",\"word\",\"set\",\"more\",\"sent\",\"yet\",\"again\",\"like\",\"way\",\"eat\",\"mine\",\"heard\",\"about\",\"called\",\"time\",\"evil\",\"egypt\",\"holy\",\"see\",\"own\",\"hundred\",\"spake\",\"heaven\",\"done\",\"brethren\",\"many\",\"christ\",\"hear\",\"fire\",\"saw\",\"words\",\"how\",\"thing\",\"fathers\",\"years\",\"himself\",\"law\",\"thousand\",\"speak\",\"off\",\"spirit\",\"voice\",\"eyes\",\"cast\",\"given\",\"priest\",\"art\",\"answered\",\"servant\",\"three\",\"together\",\"than\",\"ever\"],\"x\":[-0.5385944247245789,0.10240409523248672,-0.645205020904541,0.20482909679412842,0.690559446811676,-1.4329367876052856,2.865293025970459,1.1668047904968262,0.3451480567455292,-0.3270890414714813,-1.4903024435043335,0.9105756282806396,1.928916335105896,-5.870518207550049,-0.6318912506103516,1.2132811546325684,10.469714164733887,1.8858228921890259,1.388853907585144,-0.37225040793418884,2.780391216278076,-0.09922590106725693,-3.6098873615264893,14.454623222351074,-2.904946804046631,3.083514928817749,-6.398727893829346,0.12119729071855545,-3.056213617324829,-0.4635564386844635,3.8971574306488037,0.3343373239040375,-2.003307819366455,-2.62874436378479,-1.921542763710022,-0.1275199055671692,-0.7013986706733704,0.028870360925793648,2.6609230041503906,-4.55657958984375,2.3167154788970947,-1.8044406175613403,1.14324152469635,1.0350737571716309,-0.7735834717750549,-1.5490726232528687,-1.0467466115951538,6.6255879402160645,-11.019508361816406,1.3953088521957397,7.483547687530518,-1.389227271080017,13.28902530670166,1.4529932737350464,1.1788032054901123,-5.840641975402832,1.5628631114959717,3.0120370388031006,-7.538112640380859,0.5373333096504211,-0.8606336116790771,21.812280654907227,3.611891031265259,-2.9724252223968506,-1.8390952348709106,-16.3701229095459,-0.4862861931324005,-2.4279589653015137,0.606997549533844,-8.164663314819336,-10.523414611816406,1.7095301151275635,1.5292662382125854,2.44846510887146,-4.37413215637207,13.954475402832031,4.109039783477783,-1.7916581630706787,1.0539836883544922,3.070030689239502,16.904541015625,-0.8398997187614441,3.4235079288482666,4.9134368896484375,1.9086138010025024,-0.2919856905937195,2.061739444732666,-2.114078998565674,-0.5074915289878845,4.93804407119751,-4.7590413093566895,-1.112213373184204,-3.860490560531616,-4.648196697235107,0.23276247084140778,-0.8900424242019653,-2.8958311080932617,-5.788941383361816,1.3845317363739014,4.770750999450684,16.23185157775879,-19.860076904296875,-4.39457368850708,-0.45183172821998596,-1.6562910079956055,0.8190400004386902,5.836732387542725,-0.36224690079689026,1.0079660415649414,-11.117857933044434,4.747135162353516,21.951858520507812,8.421500205993652,11.284902572631836,1.9991188049316406,4.997432708740234,3.6839723587036133,-7.299589157104492,-0.22660669684410095,0.3216473162174225,2.1536309719085693,15.462178230285645,-0.9837113618850708,1.4799573421478271,-1.562711238861084,1.375062108039856,1.426513671875,-2.095653533935547,-7.196025848388672,6.753034591674805,-4.7720842361450195,-11.348502159118652,1.8301700353622437,-6.049034595489502,3.501065969467163,-10.798185348510742,-6.819232940673828,-16.960689544677734,1.0578641891479492,1.130396842956543,-3.6999149322509766,1.3564867973327637,3.4900240898132324,-4.885336399078369,0.6107397079467773,-24.789167404174805,6.422847270965576,-7.724687099456787,-15.671992301940918,12.221221923828125,-2.902500867843628,5.701347351074219,0.5189389586448669,0.5062780380249023,13.625689506530762,-5.550965309143066,24.635835647583008,3.5234014987945557,2.63381028175354,9.151374816894531,2.3028526306152344,-8.765091896057129,7.59180212020874,-11.643929481506348,-21.76406478881836,-2.5946125984191895,-4.860493183135986,-11.939343452453613,4.354045867919922,-12.42310619354248,7.714487075805664,-3.9301347732543945,-3.5190749168395996,-14.503965377807617,-3.4290120601654053,-4.253586769104004,2.232480764389038,-7.946498870849609,4.650805950164795,5.651938438415527,-5.048741817474365,-4.9043755531311035,9.124188423156738,21.422632217407227,-11.950394630432129,-1.0043466091156006,14.591829299926758,-5.6368889808654785,-21.981075286865234,-4.959049224853516,12.085188865661621,9.623096466064453,-0.05393482372164726,15.479670524597168,4.090674877166748,10.0147066116333,-11.2931489944458,-2.2071077823638916,-2.7463772296905518,-12.883326530456543],\"xaxis\":\"x\",\"y\":[0.5776940584182739,0.45966318249702454,0.6631578207015991,-0.023363327607512474,-2.116865634918213,-0.2715130150318146,0.3214828372001648,-9.232341766357422,0.2779559791088104,-2.7019896507263184,-6.362431526184082,0.7498864531517029,-1.4732879400253296,-4.676609516143799,-0.04956374317407608,-11.532081604003906,-16.443052291870117,0.31310606002807617,-5.807762145996094,-0.1604592204093933,-0.861879825592041,0.4334433674812317,0.1525062620639801,-24.71224021911621,-5.912442684173584,8.331040382385254,-5.605688571929932,-1.3078826665878296,-5.9618940353393555,-5.699776649475098,4.438747406005859,-3.2807977199554443,-7.868903636932373,0.53790283203125,-5.48590087890625,-16.801067352294922,-6.095985412597656,0.22011911869049072,-1.9021631479263306,-1.5095057487487793,-0.26199793815612793,-1.0509389638900757,2.100220203399658,7.7243266105651855,3.3918380737304688,0.14138375222682953,-7.326720714569092,-6.967911243438721,13.410371780395508,1.6515529155731201,18.503583908081055,-1.3458442687988281,-15.901518821716309,17.27090835571289,0.5118134021759033,3.6687750816345215,9.812402725219727,7.862035274505615,8.388352394104004,1.9546797275543213,3.696225166320801,8.714804649353027,-14.62159252166748,1.9807864427566528,-7.058744430541992,12.652921676635742,0.5658898949623108,-7.781015872955322,-0.9305663108825684,3.031693696975708,9.995423316955566,-1.2323017120361328,-0.3158997595310211,1.1814857721328735,3.1062653064727783,-25.51616859436035,-5.780252933502197,2.407026529312134,-10.05945873260498,-16.3021183013916,-0.0814884826540947,-6.221353054046631,4.309597969055176,2.45900297164917,9.880826950073242,0.8767225742340088,-6.2936272621154785,-11.195645332336426,-4.160976409912109,-0.07298529148101807,-5.328987121582031,-4.041178226470947,1.4800597429275513,-0.5045516490936279,-2.5486669540405273,0.43669983744621277,-6.984394550323486,-1.2798619270324707,1.5963095426559448,-6.560482501983643,-25.294902801513672,19.796297073364258,-6.162179470062256,-13.515148162841797,-17.086753845214844,-8.907262802124023,15.698447227478027,1.3022936582565308,5.091761112213135,1.2576771974563599,-3.7671282291412354,9.066341400146484,11.810057640075684,11.850472450256348,-2.877054452896118,-1.6229621171951294,-9.57753849029541,-1.8109580278396606,-0.288627028465271,0.06559235602617264,-6.499711990356445,-1.8052690029144287,24.401248931884766,1.8351012468338013,-18.104448318481445,-6.492919921875,-16.105348587036133,-26.541378021240234,10.338553428649902,6.795960903167725,16.56528663635254,28.79299545288086,-0.1940907984972,-10.14621353149414,13.390625953674316,13.999320030212402,14.700634002685547,-8.023441314697266,-8.384981155395508,-2.2010715007781982,-12.46911334991455,-6.589709281921387,8.342793464660645,-4.66876220703125,-17.77367401123047,2.2291617393493652,-9.034669876098633,9.805672645568848,-5.137683868408203,2.574510097503662,-3.7044637203216553,5.976635932922363,-3.439133644104004,3.7421088218688965,6.480368614196777,-2.5574722290039062,-4.959216594696045,-9.522394180297852,5.557577610015869,7.141112804412842,3.8054559230804443,2.8093717098236084,-10.64525032043457,10.916412353515625,-1.7742712497711182,-12.57041072845459,-9.570972442626953,29.859249114990234,5.645929336547852,2.240558385848999,1.1320955753326416,4.250903129577637,-2.0678558349609375,-7.071843147277832,-13.8463716506958,8.162446022033691,7.50869607925415,-11.291769981384277,-3.0416228771209717,-7.2489519119262695,2.010564088821411,16.518857955932617,-3.4943556785583496,1.900971531867981,29.86905860900879,-12.746256828308105,2.630687952041626,-7.176046848297119,-11.113932609558105,-10.31853199005127,0.21931780874729156,2.9019417762756348,19.784000396728516,-23.64638900756836,4.402355670928955,9.092962265014648,28.973146438598633,4.476815700531006,-3.7259464263916016,-14.067665100097656],\"yaxis\":\"y\",\"type\":\"scatter\"}],                        {\"template\":{\"data\":{\"bar\":[{\"error_x\":{\"color\":\"#2a3f5f\"},\"error_y\":{\"color\":\"#2a3f5f\"},\"marker\":{\"line\":{\"color\":\"#E5ECF6\",\"width\":0.5},\"pattern\":{\"fillmode\":\"overlay\",\"size\":10,\"solidity\":0.2}},\"type\":\"bar\"}],\"barpolar\":[{\"marker\":{\"line\":{\"color\":\"#E5ECF6\",\"width\":0.5},\"pattern\":{\"fillmode\":\"overlay\",\"size\":10,\"solidity\":0.2}},\"type\":\"barpolar\"}],\"carpet\":[{\"aaxis\":{\"endlinecolor\":\"#2a3f5f\",\"gridcolor\":\"white\",\"linecolor\":\"white\",\"minorgridcolor\":\"white\",\"startlinecolor\":\"#2a3f5f\"},\"baxis\":{\"endlinecolor\":\"#2a3f5f\",\"gridcolor\":\"white\",\"linecolor\":\"white\",\"minorgridcolor\":\"white\",\"startlinecolor\":\"#2a3f5f\"},\"type\":\"carpet\"}],\"choropleth\":[{\"colorbar\":{\"outlinewidth\":0,\"ticks\":\"\"},\"type\":\"choropleth\"}],\"contour\":[{\"colorbar\":{\"outlinewidth\":0,\"ticks\":\"\"},\"colorscale\":[[0.0,\"#0d0887\"],[0.1111111111111111,\"#46039f\"],[0.2222222222222222,\"#7201a8\"],[0.3333333333333333,\"#9c179e\"],[0.4444444444444444,\"#bd3786\"],[0.5555555555555556,\"#d8576b\"],[0.6666666666666666,\"#ed7953\"],[0.7777777777777778,\"#fb9f3a\"],[0.8888888888888888,\"#fdca26\"],[1.0,\"#f0f921\"]],\"type\":\"contour\"}],\"contourcarpet\":[{\"colorbar\":{\"outlinewidth\":0,\"ticks\":\"\"},\"type\":\"contourcarpet\"}],\"heatmap\":[{\"colorbar\":{\"outlinewidth\":0,\"ticks\":\"\"},\"colorscale\":[[0.0,\"#0d0887\"],[0.1111111111111111,\"#46039f\"],[0.2222222222222222,\"#7201a8\"],[0.3333333333333333,\"#9c179e\"],[0.4444444444444444,\"#bd3786\"],[0.5555555555555556,\"#d8576b\"],[0.6666666666666666,\"#ed7953\"],[0.7777777777777778,\"#fb9f3a\"],[0.8888888888888888,\"#fdca26\"],[1.0,\"#f0f921\"]],\"type\":\"heatmap\"}],\"heatmapgl\":[{\"colorbar\":{\"outlinewidth\":0,\"ticks\":\"\"},\"colorscale\":[[0.0,\"#0d0887\"],[0.1111111111111111,\"#46039f\"],[0.2222222222222222,\"#7201a8\"],[0.3333333333333333,\"#9c179e\"],[0.4444444444444444,\"#bd3786\"],[0.5555555555555556,\"#d8576b\"],[0.6666666666666666,\"#ed7953\"],[0.7777777777777778,\"#fb9f3a\"],[0.8888888888888888,\"#fdca26\"],[1.0,\"#f0f921\"]],\"type\":\"heatmapgl\"}],\"histogram\":[{\"marker\":{\"pattern\":{\"fillmode\":\"overlay\",\"size\":10,\"solidity\":0.2}},\"type\":\"histogram\"}],\"histogram2d\":[{\"colorbar\":{\"outlinewidth\":0,\"ticks\":\"\"},\"colorscale\":[[0.0,\"#0d0887\"],[0.1111111111111111,\"#46039f\"],[0.2222222222222222,\"#7201a8\"],[0.3333333333333333,\"#9c179e\"],[0.4444444444444444,\"#bd3786\"],[0.5555555555555556,\"#d8576b\"],[0.6666666666666666,\"#ed7953\"],[0.7777777777777778,\"#fb9f3a\"],[0.8888888888888888,\"#fdca26\"],[1.0,\"#f0f921\"]],\"type\":\"histogram2d\"}],\"histogram2dcontour\":[{\"colorbar\":{\"outlinewidth\":0,\"ticks\":\"\"},\"colorscale\":[[0.0,\"#0d0887\"],[0.1111111111111111,\"#46039f\"],[0.2222222222222222,\"#7201a8\"],[0.3333333333333333,\"#9c179e\"],[0.4444444444444444,\"#bd3786\"],[0.5555555555555556,\"#d8576b\"],[0.6666666666666666,\"#ed7953\"],[0.7777777777777778,\"#fb9f3a\"],[0.8888888888888888,\"#fdca26\"],[1.0,\"#f0f921\"]],\"type\":\"histogram2dcontour\"}],\"mesh3d\":[{\"colorbar\":{\"outlinewidth\":0,\"ticks\":\"\"},\"type\":\"mesh3d\"}],\"parcoords\":[{\"line\":{\"colorbar\":{\"outlinewidth\":0,\"ticks\":\"\"}},\"type\":\"parcoords\"}],\"pie\":[{\"automargin\":true,\"type\":\"pie\"}],\"scatter\":[{\"marker\":{\"colorbar\":{\"outlinewidth\":0,\"ticks\":\"\"}},\"type\":\"scatter\"}],\"scatter3d\":[{\"line\":{\"colorbar\":{\"outlinewidth\":0,\"ticks\":\"\"}},\"marker\":{\"colorbar\":{\"outlinewidth\":0,\"ticks\":\"\"}},\"type\":\"scatter3d\"}],\"scattercarpet\":[{\"marker\":{\"colorbar\":{\"outlinewidth\":0,\"ticks\":\"\"}},\"type\":\"scattercarpet\"}],\"scattergeo\":[{\"marker\":{\"colorbar\":{\"outlinewidth\":0,\"ticks\":\"\"}},\"type\":\"scattergeo\"}],\"scattergl\":[{\"marker\":{\"colorbar\":{\"outlinewidth\":0,\"ticks\":\"\"}},\"type\":\"scattergl\"}],\"scattermapbox\":[{\"marker\":{\"colorbar\":{\"outlinewidth\":0,\"ticks\":\"\"}},\"type\":\"scattermapbox\"}],\"scatterpolar\":[{\"marker\":{\"colorbar\":{\"outlinewidth\":0,\"ticks\":\"\"}},\"type\":\"scatterpolar\"}],\"scatterpolargl\":[{\"marker\":{\"colorbar\":{\"outlinewidth\":0,\"ticks\":\"\"}},\"type\":\"scatterpolargl\"}],\"scatterternary\":[{\"marker\":{\"colorbar\":{\"outlinewidth\":0,\"ticks\":\"\"}},\"type\":\"scatterternary\"}],\"surface\":[{\"colorbar\":{\"outlinewidth\":0,\"ticks\":\"\"},\"colorscale\":[[0.0,\"#0d0887\"],[0.1111111111111111,\"#46039f\"],[0.2222222222222222,\"#7201a8\"],[0.3333333333333333,\"#9c179e\"],[0.4444444444444444,\"#bd3786\"],[0.5555555555555556,\"#d8576b\"],[0.6666666666666666,\"#ed7953\"],[0.7777777777777778,\"#fb9f3a\"],[0.8888888888888888,\"#fdca26\"],[1.0,\"#f0f921\"]],\"type\":\"surface\"}],\"table\":[{\"cells\":{\"fill\":{\"color\":\"#EBF0F8\"},\"line\":{\"color\":\"white\"}},\"header\":{\"fill\":{\"color\":\"#C8D4E3\"},\"line\":{\"color\":\"white\"}},\"type\":\"table\"}]},\"layout\":{\"annotationdefaults\":{\"arrowcolor\":\"#2a3f5f\",\"arrowhead\":0,\"arrowwidth\":1},\"autotypenumbers\":\"strict\",\"coloraxis\":{\"colorbar\":{\"outlinewidth\":0,\"ticks\":\"\"}},\"colorscale\":{\"diverging\":[[0,\"#8e0152\"],[0.1,\"#c51b7d\"],[0.2,\"#de77ae\"],[0.3,\"#f1b6da\"],[0.4,\"#fde0ef\"],[0.5,\"#f7f7f7\"],[0.6,\"#e6f5d0\"],[0.7,\"#b8e186\"],[0.8,\"#7fbc41\"],[0.9,\"#4d9221\"],[1,\"#276419\"]],\"sequential\":[[0.0,\"#0d0887\"],[0.1111111111111111,\"#46039f\"],[0.2222222222222222,\"#7201a8\"],[0.3333333333333333,\"#9c179e\"],[0.4444444444444444,\"#bd3786\"],[0.5555555555555556,\"#d8576b\"],[0.6666666666666666,\"#ed7953\"],[0.7777777777777778,\"#fb9f3a\"],[0.8888888888888888,\"#fdca26\"],[1.0,\"#f0f921\"]],\"sequentialminus\":[[0.0,\"#0d0887\"],[0.1111111111111111,\"#46039f\"],[0.2222222222222222,\"#7201a8\"],[0.3333333333333333,\"#9c179e\"],[0.4444444444444444,\"#bd3786\"],[0.5555555555555556,\"#d8576b\"],[0.6666666666666666,\"#ed7953\"],[0.7777777777777778,\"#fb9f3a\"],[0.8888888888888888,\"#fdca26\"],[1.0,\"#f0f921\"]]},\"colorway\":[\"#636efa\",\"#EF553B\",\"#00cc96\",\"#ab63fa\",\"#FFA15A\",\"#19d3f3\",\"#FF6692\",\"#B6E880\",\"#FF97FF\",\"#FECB52\"],\"font\":{\"color\":\"#2a3f5f\"},\"geo\":{\"bgcolor\":\"white\",\"lakecolor\":\"white\",\"landcolor\":\"#E5ECF6\",\"showlakes\":true,\"showland\":true,\"subunitcolor\":\"white\"},\"hoverlabel\":{\"align\":\"left\"},\"hovermode\":\"closest\",\"mapbox\":{\"style\":\"light\"},\"paper_bgcolor\":\"white\",\"plot_bgcolor\":\"#E5ECF6\",\"polar\":{\"angularaxis\":{\"gridcolor\":\"white\",\"linecolor\":\"white\",\"ticks\":\"\"},\"bgcolor\":\"#E5ECF6\",\"radialaxis\":{\"gridcolor\":\"white\",\"linecolor\":\"white\",\"ticks\":\"\"}},\"scene\":{\"xaxis\":{\"backgroundcolor\":\"#E5ECF6\",\"gridcolor\":\"white\",\"gridwidth\":2,\"linecolor\":\"white\",\"showbackground\":true,\"ticks\":\"\",\"zerolinecolor\":\"white\"},\"yaxis\":{\"backgroundcolor\":\"#E5ECF6\",\"gridcolor\":\"white\",\"gridwidth\":2,\"linecolor\":\"white\",\"showbackground\":true,\"ticks\":\"\",\"zerolinecolor\":\"white\"},\"zaxis\":{\"backgroundcolor\":\"#E5ECF6\",\"gridcolor\":\"white\",\"gridwidth\":2,\"linecolor\":\"white\",\"showbackground\":true,\"ticks\":\"\",\"zerolinecolor\":\"white\"}},\"shapedefaults\":{\"line\":{\"color\":\"#2a3f5f\"}},\"ternary\":{\"aaxis\":{\"gridcolor\":\"white\",\"linecolor\":\"white\",\"ticks\":\"\"},\"baxis\":{\"gridcolor\":\"white\",\"linecolor\":\"white\",\"ticks\":\"\"},\"bgcolor\":\"#E5ECF6\",\"caxis\":{\"gridcolor\":\"white\",\"linecolor\":\"white\",\"ticks\":\"\"}},\"title\":{\"x\":0.05},\"xaxis\":{\"automargin\":true,\"gridcolor\":\"white\",\"linecolor\":\"white\",\"ticks\":\"\",\"title\":{\"standoff\":15},\"zerolinecolor\":\"white\",\"zerolinewidth\":2},\"yaxis\":{\"automargin\":true,\"gridcolor\":\"white\",\"linecolor\":\"white\",\"ticks\":\"\",\"title\":{\"standoff\":15},\"zerolinecolor\":\"white\",\"zerolinewidth\":2}}},\"xaxis\":{\"anchor\":\"y\",\"domain\":[0.0,1.0],\"title\":{\"text\":\"x\"}},\"yaxis\":{\"anchor\":\"x\",\"domain\":[0.0,1.0],\"title\":{\"text\":\"y\"}},\"legend\":{\"tracegroupgap\":0},\"margin\":{\"t\":60}},                        {\"responsive\": true}                    ).then(function(){\n",
              "                            \n",
              "var gd = document.getElementById('4e35df74-9806-40fe-9e18-245fa218d99e');\n",
              "var x = new MutationObserver(function (mutations, observer) {{\n",
              "        var display = window.getComputedStyle(gd).display;\n",
              "        if (!display || display === 'none') {{\n",
              "            console.log([gd, 'removed!']);\n",
              "            Plotly.purge(gd);\n",
              "            observer.disconnect();\n",
              "        }}\n",
              "}});\n",
              "\n",
              "// Listen for the removal of the full notebook cells\n",
              "var notebookContainer = gd.closest('#notebook-container');\n",
              "if (notebookContainer) {{\n",
              "    x.observe(notebookContainer, {childList: true});\n",
              "}}\n",
              "\n",
              "// Listen for the clearing of the current output cell\n",
              "var outputEl = gd.closest('.output');\n",
              "if (outputEl) {{\n",
              "    x.observe(outputEl, {childList: true});\n",
              "}}\n",
              "\n",
              "                        })                };                            </script>        </div>\n",
              "</body>\n",
              "</html>"
            ]
          },
          "metadata": {}
        }
      ]
    },
    {
      "cell_type": "markdown",
      "source": [
        "### Explicación y conclusiones"
      ],
      "metadata": {
        "id": "s_13pC6rUUxl"
      }
    },
    {
      "cell_type": "markdown",
      "source": [
        "Se quiso buscar un corpus extenso y de gran popularidad, así que se utilizó la Biblia. Se procesó un poco el archivo en excel, en donde se quitaron índices, enlaces, y espacios; luego se carg[o al Drive. Se utilizó skipgram y se testearon diferentes parámetros para entrenar el un modelo. El que mejor perfomó fue el de 200 épocas y 100 dimensiones de embedding, en donde se logró un loss en entrenamiento de 0. Para lograr graficar el loss, se importó una tabla con los errores impresos en pantalla, porque se intentó por varias maneras guardar los valores en un vector, pero la función hace cosas por debajo que no se comprenden, así que se copiaron y pegaron estos valores en un dataset y se los graficó.\n",
        "\n",
        "Se testearon las palabras más típicas y los resultados fueron muy coherentes. Por ejemplo para la palabra 'god', las 10 palabras más parecidos tuvieron mucho sentido. Dentro de ellas figuran 'lord', 'jesus', 'almighty', 'christ', por nombrar algunas. Sin embargo, las palabras menos relacionadas no parecían estar conectadas en sentido contrario ('lice', 'nurse'). Es más esperable que las palabras con mayor relación resuleten más razonables. La palabra 'jesus', por mencionar otro ejemplo, se relaciona con 'nazareth', cosa que es muy entendible. Siguiendo con más ejemplos, la palabra 'good' se relaciona con valores positivos: 'lawful', 'honest', 'truth', 'perfect', 'well'. Pero dentro de las más relacionadas también se encuentran los antónimos, como 'evil' y 'abominable'. Que ocurra esto es muy esperable, puesto que 'good' y 'evil' tienden a aparecer juntas y el modelo las relaciona. También se evaluaron similitudes con 'evil' y 'sin' y los resultados fueron muy acerttados, mostrando palabras negativas. \n",
        "\n",
        "Luego se graficaron los embeddings en 2D, con 50 y 200 palabras. Se pueden ver buenas relaciones, como la cercanía entre 'sons' y 'children'; 'god' y 'lord', 'good' y 'evil', 'heaven y earth', 'king' y 'priest', y 'god' con 'spirit' y 'heart'. tra cuestión a mencionar es la cercanía entre las palabras 'shall' y 'be' que se ve en el gráfico. Esto ocure porque ambas palabras aparecen numerosas vences juntas como 'shall be'.\n",
        "\n",
        "Hay muchas palabras muy genéricas con poco contenido que figuran, como 'is', 'are', 'if'. Estas palabras pueden filtrarse para quedarse con palabras con significados más ricos."
      ],
      "metadata": {
        "id": "7DkwYyE5UZPt"
      }
    },
    {
      "cell_type": "markdown",
      "metadata": {
        "id": "yMM_SHSaZ9N-"
      },
      "source": [
        "### Alumno"
      ]
    },
    {
      "cell_type": "markdown",
      "metadata": {
        "id": "WivQZ3ZCZ9N_"
      },
      "source": [
        "- Crear sus propios vectores con Gensim basado en lo visto en clase con otro dataset.\n",
        "- Probar términos de interés y explicar similitudes en el espacio de embeddings (sacar conclusiones entre palabras similitudes y diferencias).\n",
        "- Graficarlos.\n",
        "- Obtener conclusiones."
      ]
    }
  ],
  "metadata": {
    "colab": {
      "collapsed_sections": [],
      "provenance": []
    },
    "kernelspec": {
      "display_name": "Python 3.9.7 ('base')",
      "language": "python",
      "name": "python3"
    },
    "language_info": {
      "codemirror_mode": {
        "name": "ipython",
        "version": 3
      },
      "file_extension": ".py",
      "mimetype": "text/x-python",
      "name": "python",
      "nbconvert_exporter": "python",
      "pygments_lexer": "ipython3",
      "version": "3.9.7"
    },
    "vscode": {
      "interpreter": {
        "hash": "c8a0940028874119965631fd90c0f950b350c5eaa515e65a018cdb674f73f8ea"
      }
    },
    "accelerator": "GPU",
    "gpuClass": "standard"
  },
  "nbformat": 4,
  "nbformat_minor": 0
}
